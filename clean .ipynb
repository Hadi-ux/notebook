{
 "cells": [
  {
   "cell_type": "code",
   "execution_count": 1,
   "metadata": {},
   "outputs": [],
   "source": [
    "import numpy as np\n",
    "import pandas as pd \n",
    "from pandas import read_excel\n",
    "import matplotlib.pyplot as plt\n",
    "import seaborn as sns\n",
    "sns.set()"
   ]
  },
  {
   "cell_type": "code",
   "execution_count": 36,
   "metadata": {},
   "outputs": [],
   "source": [
    "from jupyterthemes import get_themes\n",
    "import jupyterthemes as jt\n",
    "from jupyterthemes.stylefx import set_nb_theme"
   ]
  },
  {
   "cell_type": "code",
   "execution_count": 2,
   "metadata": {},
   "outputs": [],
   "source": [
    "data=pd.read_excel('C:\\\\Users\\\\Hadi\\\\total.xlsx')"
   ]
  },
  {
   "cell_type": "code",
   "execution_count": 3,
   "metadata": {},
   "outputs": [],
   "source": [
    "data=data[data['Order_Id'].notna()]"
   ]
  },
  {
   "cell_type": "code",
   "execution_count": 4,
   "metadata": {},
   "outputs": [
    {
     "data": {
      "text/html": [
       "<div>\n",
       "<style scoped>\n",
       "    .dataframe tbody tr th:only-of-type {\n",
       "        vertical-align: middle;\n",
       "    }\n",
       "\n",
       "    .dataframe tbody tr th {\n",
       "        vertical-align: top;\n",
       "    }\n",
       "\n",
       "    .dataframe thead th {\n",
       "        text-align: right;\n",
       "    }\n",
       "</style>\n",
       "<table border=\"1\" class=\"dataframe\">\n",
       "  <thead>\n",
       "    <tr style=\"text-align: right;\">\n",
       "      <th></th>\n",
       "      <th>Order_Id</th>\n",
       "      <th>Channel</th>\n",
       "      <th>Name</th>\n",
       "      <th>Phone</th>\n",
       "      <th>Address</th>\n",
       "      <th>Postal Code</th>\n",
       "      <th>Send_Type</th>\n",
       "      <th>Send _Date</th>\n",
       "      <th>Discoutn</th>\n",
       "      <th>Price</th>\n",
       "      <th>Payment_Type</th>\n",
       "      <th>Date_Month</th>\n",
       "      <th>Date_Year</th>\n",
       "      <th>Price_2</th>\n",
       "    </tr>\n",
       "  </thead>\n",
       "  <tbody>\n",
       "  </tbody>\n",
       "</table>\n",
       "</div>"
      ],
      "text/plain": [
       "Empty DataFrame\n",
       "Columns: [Order_Id, Channel, Name, Phone, Address, Postal Code, Send_Type, Send _Date, Discoutn, Price, Payment_Type, Date_Month, Date_Year, Price_2]\n",
       "Index: []"
      ]
     },
     "execution_count": 4,
     "metadata": {},
     "output_type": "execute_result"
    }
   ],
   "source": [
    "data[data['Phone'].isna()]"
   ]
  },
  {
   "cell_type": "code",
   "execution_count": 5,
   "metadata": {},
   "outputs": [],
   "source": [
    "data[['Order_Id','Date_Month','Date_Year']] = data[['Order_Id','Date_Month','Date_Year']].astype(int)\n",
    "data['Name'] = data['Name'].str.strip()\n",
    "data['Phone'] = data['Phone'].str.replace(' ', '')"
   ]
  },
  {
   "cell_type": "code",
   "execution_count": 41,
   "metadata": {},
   "outputs": [
    {
     "data": {
      "text/html": [
       "<div>\n",
       "<style scoped>\n",
       "    .dataframe tbody tr th:only-of-type {\n",
       "        vertical-align: middle;\n",
       "    }\n",
       "\n",
       "    .dataframe tbody tr th {\n",
       "        vertical-align: top;\n",
       "    }\n",
       "\n",
       "    .dataframe thead th {\n",
       "        text-align: right;\n",
       "    }\n",
       "</style>\n",
       "<table border=\"1\" class=\"dataframe\">\n",
       "  <thead>\n",
       "    <tr style=\"text-align: right;\">\n",
       "      <th></th>\n",
       "      <th>Order_Id</th>\n",
       "      <th>Channel</th>\n",
       "      <th>Name</th>\n",
       "      <th>Phone</th>\n",
       "      <th>Address</th>\n",
       "      <th>Postal Code</th>\n",
       "      <th>Send_Type</th>\n",
       "      <th>Send _Date</th>\n",
       "      <th>Discoutn</th>\n",
       "      <th>Price</th>\n",
       "      <th>Payment_Type</th>\n",
       "      <th>Date_Month</th>\n",
       "      <th>Date_Year</th>\n",
       "    </tr>\n",
       "  </thead>\n",
       "  <tbody>\n",
       "    <tr>\n",
       "      <th>461</th>\n",
       "      <td>462</td>\n",
       "      <td>2.0</td>\n",
       "      <td>سعید رحمانی</td>\n",
       "      <td>09125819761</td>\n",
       "      <td>قزوین خیابان طالقانی روبه روی اداره برق بانک پ...</td>\n",
       "      <td>3416613857</td>\n",
       "      <td>پست</td>\n",
       "      <td>98.10.4</td>\n",
       "      <td>سه شنبه مهمونی</td>\n",
       "      <td>286200.0</td>\n",
       "      <td>کارت پاسارگاد</td>\n",
       "      <td>10</td>\n",
       "      <td>1398</td>\n",
       "    </tr>\n",
       "  </tbody>\n",
       "</table>\n",
       "</div>"
      ],
      "text/plain": [
       "     Order_Id  Channel         Name        Phone  \\\n",
       "461       462      2.0  سعید رحمانی  09125819761   \n",
       "\n",
       "                                               Address Postal Code Send_Type  \\\n",
       "461  قزوین خیابان طالقانی روبه روی اداره برق بانک پ...  3416613857       پست   \n",
       "\n",
       "    Send _Date        Discoutn     Price   Payment_Type  Date_Month  Date_Year  \n",
       "461    98.10.4  سه شنبه مهمونی  286200.0  کارت پاسارگاد          10       1398  "
      ]
     },
     "execution_count": 41,
     "metadata": {},
     "output_type": "execute_result"
    }
   ],
   "source": [
    "data.loc[data['Order_Id']== 462]"
   ]
  },
  {
   "cell_type": "code",
   "execution_count": 42,
   "metadata": {},
   "outputs": [
    {
     "data": {
      "text/html": [
       "<div>\n",
       "<style scoped>\n",
       "    .dataframe tbody tr th:only-of-type {\n",
       "        vertical-align: middle;\n",
       "    }\n",
       "\n",
       "    .dataframe tbody tr th {\n",
       "        vertical-align: top;\n",
       "    }\n",
       "\n",
       "    .dataframe thead th {\n",
       "        text-align: right;\n",
       "    }\n",
       "</style>\n",
       "<table border=\"1\" class=\"dataframe\">\n",
       "  <thead>\n",
       "    <tr style=\"text-align: right;\">\n",
       "      <th></th>\n",
       "      <th>Order_Id</th>\n",
       "      <th>Channel</th>\n",
       "      <th>Name</th>\n",
       "      <th>Phone</th>\n",
       "      <th>Address</th>\n",
       "      <th>Postal Code</th>\n",
       "      <th>Send_Type</th>\n",
       "      <th>Send _Date</th>\n",
       "      <th>Discoutn</th>\n",
       "      <th>Price</th>\n",
       "      <th>Payment_Type</th>\n",
       "      <th>Date_Month</th>\n",
       "      <th>Date_Year</th>\n",
       "    </tr>\n",
       "  </thead>\n",
       "  <tbody>\n",
       "    <tr>\n",
       "      <th>0</th>\n",
       "      <td>1</td>\n",
       "      <td>1.0</td>\n",
       "      <td>پانته آ پارسایی</td>\n",
       "      <td>09354552718</td>\n",
       "      <td>تهران کیلومتر 8 بزرگراه فتح  شرکت صنعتی بهشهر</td>\n",
       "      <td>1386934311</td>\n",
       "      <td>تی نکست</td>\n",
       "      <td>NaN</td>\n",
       "      <td>ـ</td>\n",
       "      <td>155000.0</td>\n",
       "      <td>پی پینگ</td>\n",
       "      <td>7</td>\n",
       "      <td>1398</td>\n",
       "    </tr>\n",
       "    <tr>\n",
       "      <th>1</th>\n",
       "      <td>2</td>\n",
       "      <td>1.0</td>\n",
       "      <td>ندا ابراهیم پور</td>\n",
       "      <td>09144628935</td>\n",
       "      <td>آذربایجان غربی ماکو آذربایجان غربی ماکو بلوار ...</td>\n",
       "      <td>5861685838</td>\n",
       "      <td>پست</td>\n",
       "      <td>۱۳۹۸/۸/۱</td>\n",
       "      <td>سه شنبه های بارجیلی</td>\n",
       "      <td>75000.0</td>\n",
       "      <td>پی پینگ</td>\n",
       "      <td>7</td>\n",
       "      <td>1398</td>\n",
       "    </tr>\n",
       "    <tr>\n",
       "      <th>2</th>\n",
       "      <td>3</td>\n",
       "      <td>1.0</td>\n",
       "      <td>هانیه امرایی</td>\n",
       "      <td>09304203740</td>\n",
       "      <td>لرستان خرم آباد علوی کوچه شهید کاظمیان روبروی ...</td>\n",
       "      <td>6814636800</td>\n",
       "      <td>پست</td>\n",
       "      <td>۱۳۹۸/۸/۱</td>\n",
       "      <td>سه شنبه های بارجیلی</td>\n",
       "      <td>178300.0</td>\n",
       "      <td>پی پینگ</td>\n",
       "      <td>7</td>\n",
       "      <td>1398</td>\n",
       "    </tr>\n",
       "    <tr>\n",
       "      <th>3</th>\n",
       "      <td>4</td>\n",
       "      <td>1.0</td>\n",
       "      <td>مونا کنعانی</td>\n",
       "      <td>09125967037</td>\n",
       "      <td>تهران خيابان دكتر علي شريعتي بالاتر از ميراماد...</td>\n",
       "      <td>1948845341</td>\n",
       "      <td>پیک</td>\n",
       "      <td>NaN</td>\n",
       "      <td>سه شنبه های بارجیلی</td>\n",
       "      <td>209400.0</td>\n",
       "      <td>پی پینگ</td>\n",
       "      <td>7</td>\n",
       "      <td>1398</td>\n",
       "    </tr>\n",
       "    <tr>\n",
       "      <th>4</th>\n",
       "      <td>5</td>\n",
       "      <td>1.0</td>\n",
       "      <td>محمد مهدی آصفی</td>\n",
       "      <td>09177141377</td>\n",
       "      <td>تهران خیابان ولیعصر، ایستگاه خبرنگاران، بن بست...</td>\n",
       "      <td>1966843584</td>\n",
       "      <td>تی نکست</td>\n",
       "      <td>NaN</td>\n",
       "      <td>سه شنبه های بارجیلی</td>\n",
       "      <td>119600.0</td>\n",
       "      <td>پی پینگ</td>\n",
       "      <td>7</td>\n",
       "      <td>1398</td>\n",
       "    </tr>\n",
       "    <tr>\n",
       "      <th>5</th>\n",
       "      <td>6</td>\n",
       "      <td>1.0</td>\n",
       "      <td>فرزانه علی یاری</td>\n",
       "      <td>09214518434</td>\n",
       "      <td>آذربایجان شرقی بناب کوی سعدی بن بست شماره ۸ پل...</td>\n",
       "      <td>5551753696</td>\n",
       "      <td>پست</td>\n",
       "      <td>۱۳۹۸/۷/۳۰</td>\n",
       "      <td>سه شنبه های بارجیلی</td>\n",
       "      <td>126400.0</td>\n",
       "      <td>پی پینگ</td>\n",
       "      <td>7</td>\n",
       "      <td>1398</td>\n",
       "    </tr>\n",
       "    <tr>\n",
       "      <th>6</th>\n",
       "      <td>7</td>\n",
       "      <td>1.0</td>\n",
       "      <td>مهرناز ناظری</td>\n",
       "      <td>09123471064</td>\n",
       "      <td>تهران میدان محسنی خیابان شاه نظری بین کوچه 10 ...</td>\n",
       "      <td>1547735811</td>\n",
       "      <td>پیک</td>\n",
       "      <td>NaN</td>\n",
       "      <td>سه شنبه بارجیلی</td>\n",
       "      <td>173300.0</td>\n",
       "      <td>پی پینگ</td>\n",
       "      <td>7</td>\n",
       "      <td>1398</td>\n",
       "    </tr>\n",
       "    <tr>\n",
       "      <th>7</th>\n",
       "      <td>8</td>\n",
       "      <td>1.0</td>\n",
       "      <td>فاطمه ملکی</td>\n",
       "      <td>09906953025</td>\n",
       "      <td>هرمزگان بندرعباس ششصد دستگاه خ ميعاد سوم ساختم...</td>\n",
       "      <td>7918613759</td>\n",
       "      <td>پست</td>\n",
       "      <td>۱۳۹۸/۷/۳۰</td>\n",
       "      <td>سه شنبه بارجیلی</td>\n",
       "      <td>322300.0</td>\n",
       "      <td>پی پینگ</td>\n",
       "      <td>7</td>\n",
       "      <td>1398</td>\n",
       "    </tr>\n",
       "    <tr>\n",
       "      <th>8</th>\n",
       "      <td>9</td>\n",
       "      <td>1.0</td>\n",
       "      <td>غزل ملک حسینی</td>\n",
       "      <td>09216178320</td>\n",
       "      <td>هرمزگان کیش شهرک نوبنیاد یک میدان بهارستان راش...</td>\n",
       "      <td>ـ</td>\n",
       "      <td>پست</td>\n",
       "      <td>۱۳۹۸/۷/۳۰</td>\n",
       "      <td>سه شنبه های بارجیلی</td>\n",
       "      <td>52400.0</td>\n",
       "      <td>پی پینگ</td>\n",
       "      <td>7</td>\n",
       "      <td>1398</td>\n",
       "    </tr>\n",
       "    <tr>\n",
       "      <th>9</th>\n",
       "      <td>10</td>\n",
       "      <td>2.0</td>\n",
       "      <td>میرعابدینی</td>\n",
       "      <td>09124244690</td>\n",
       "      <td>خیابان مطهری. بعد از مفتح. خیابان مهرداد. پلاک...</td>\n",
       "      <td>_</td>\n",
       "      <td>تی نکست</td>\n",
       "      <td>NaN</td>\n",
       "      <td>سه شنبه های بارجیلی</td>\n",
       "      <td>343900.0</td>\n",
       "      <td>کارت پاسارگاد ۵۷۹۴</td>\n",
       "      <td>7</td>\n",
       "      <td>1398</td>\n",
       "    </tr>\n",
       "    <tr>\n",
       "      <th>10</th>\n",
       "      <td>11</td>\n",
       "      <td>2.0</td>\n",
       "      <td>باقری</td>\n",
       "      <td>09126858424</td>\n",
       "      <td>میدان منیریه. خیابان صداقت جنوبی کوچه شمس کوچه...</td>\n",
       "      <td>ـ</td>\n",
       "      <td>تی نکست</td>\n",
       "      <td>NaN</td>\n",
       "      <td>سه شنبه های بارجیلی</td>\n",
       "      <td>115300.0</td>\n",
       "      <td>کارت پاسارگاد ۵۷۹۴</td>\n",
       "      <td>7</td>\n",
       "      <td>1398</td>\n",
       "    </tr>\n",
       "    <tr>\n",
       "      <th>11</th>\n",
       "      <td>12</td>\n",
       "      <td>1.0</td>\n",
       "      <td>صادق آشوری</td>\n",
       "      <td>09303968081</td>\n",
       "      <td>تهران خیابان آزادی  خیابان استاد معین خیابان ۲...</td>\n",
       "      <td>1341765761</td>\n",
       "      <td>تی نکست</td>\n",
       "      <td>NaN</td>\n",
       "      <td>سه شنبه بارجیلی</td>\n",
       "      <td>46200.0</td>\n",
       "      <td>پی پینگ</td>\n",
       "      <td>7</td>\n",
       "      <td>1398</td>\n",
       "    </tr>\n",
       "    <tr>\n",
       "      <th>12</th>\n",
       "      <td>13</td>\n",
       "      <td>2.0</td>\n",
       "      <td>خانم دهقان</td>\n",
       "      <td>09177782419</td>\n",
       "      <td>بوشهر شهرستان عسلویه بلوار امام خمینی بیمارستا...</td>\n",
       "      <td>7511976589</td>\n",
       "      <td>پست</td>\n",
       "      <td>۱۳۹۸/۷/۳۰</td>\n",
       "      <td>ـ</td>\n",
       "      <td>40000.0</td>\n",
       "      <td>کارت پاسارگاد ۵۷۹۴</td>\n",
       "      <td>7</td>\n",
       "      <td>1398</td>\n",
       "    </tr>\n",
       "    <tr>\n",
       "      <th>13</th>\n",
       "      <td>14</td>\n",
       "      <td>1.0</td>\n",
       "      <td>مریم گودرزی</td>\n",
       "      <td>09197072433</td>\n",
       "      <td>شهر ری پل سیمان خیابان سرگردمحمدی کوچه پورشه ا...</td>\n",
       "      <td>1861695388</td>\n",
       "      <td>تی نکست</td>\n",
       "      <td>NaN</td>\n",
       "      <td>ـ</td>\n",
       "      <td>199000.0</td>\n",
       "      <td>پی پینگ</td>\n",
       "      <td>7</td>\n",
       "      <td>1398</td>\n",
       "    </tr>\n",
       "    <tr>\n",
       "      <th>14</th>\n",
       "      <td>15</td>\n",
       "      <td>1.0</td>\n",
       "      <td>سمیرا عزیزی</td>\n",
       "      <td>09125264516</td>\n",
       "      <td>تهران خیابان شریعتی - بالاتر از میرداماد - کوچ...</td>\n",
       "      <td>ـ</td>\n",
       "      <td>پیک</td>\n",
       "      <td>NaN</td>\n",
       "      <td>ـ</td>\n",
       "      <td>47000.0</td>\n",
       "      <td>پی پینگ</td>\n",
       "      <td>7</td>\n",
       "      <td>1398</td>\n",
       "    </tr>\n",
       "    <tr>\n",
       "      <th>15</th>\n",
       "      <td>16</td>\n",
       "      <td>1.0</td>\n",
       "      <td>نیما سلطانی محمدی</td>\n",
       "      <td>09112565767\\n</td>\n",
       "      <td>استان گلستان شهرستان گنبدکاووس خیابان امام خمی...</td>\n",
       "      <td>4971878168</td>\n",
       "      <td>پست</td>\n",
       "      <td>۱۳۹۸/۷/۳۰</td>\n",
       "      <td>ـ</td>\n",
       "      <td>75000.0</td>\n",
       "      <td>پی پینگ</td>\n",
       "      <td>7</td>\n",
       "      <td>1398</td>\n",
       "    </tr>\n",
       "    <tr>\n",
       "      <th>16</th>\n",
       "      <td>17</td>\n",
       "      <td>2.0</td>\n",
       "      <td>سحر میرزایی</td>\n",
       "      <td>09134934180</td>\n",
       "      <td>کرمان میدان پژوهش دانشگاه شهید باهنر</td>\n",
       "      <td>7616914111</td>\n",
       "      <td>پست</td>\n",
       "      <td>NaN</td>\n",
       "      <td>ـ</td>\n",
       "      <td>146000.0</td>\n",
       "      <td>کارت پاسارگاد ۵۷۹۴</td>\n",
       "      <td>7</td>\n",
       "      <td>1398</td>\n",
       "    </tr>\n",
       "    <tr>\n",
       "      <th>17</th>\n",
       "      <td>18</td>\n",
       "      <td>2.0</td>\n",
       "      <td>ابراهیم مقدس</td>\n",
       "      <td>09176501820</td>\n",
       "      <td>استان فارس شهرستان داراب بخش فورگ روستای شاهمر...</td>\n",
       "      <td>7483183518</td>\n",
       "      <td>پست</td>\n",
       "      <td>NaN</td>\n",
       "      <td>_</td>\n",
       "      <td>253000.0</td>\n",
       "      <td>کارت پاسارگاد ۵۷۹۴</td>\n",
       "      <td>7</td>\n",
       "      <td>1398</td>\n",
       "    </tr>\n",
       "    <tr>\n",
       "      <th>18</th>\n",
       "      <td>19</td>\n",
       "      <td>2.0</td>\n",
       "      <td>عذرا آهنگری</td>\n",
       "      <td>09127060565</td>\n",
       "      <td>شاهین شمالی بصارتی معادن سمت راست انتهای بن بس...</td>\n",
       "      <td>ـ</td>\n",
       "      <td>تی نکست</td>\n",
       "      <td>NaN</td>\n",
       "      <td>سه شنبه های بارجیلی</td>\n",
       "      <td>231000.0</td>\n",
       "      <td>کارت پاسارگاد ۵۷۹۴</td>\n",
       "      <td>7</td>\n",
       "      <td>1398</td>\n",
       "    </tr>\n",
       "    <tr>\n",
       "      <th>19</th>\n",
       "      <td>20</td>\n",
       "      <td>2.0</td>\n",
       "      <td>بختیار خسروی</td>\n",
       "      <td>09183141105</td>\n",
       "      <td>کردستان سنندج میدان امام شافعی بلوار شبلی کوچه...</td>\n",
       "      <td>6619863883</td>\n",
       "      <td>پست</td>\n",
       "      <td>NaN</td>\n",
       "      <td>سه شنبه های بارجیلی</td>\n",
       "      <td>242000.0</td>\n",
       "      <td>کارت پاسارگاد ۵۷۹۴</td>\n",
       "      <td>7</td>\n",
       "      <td>1398</td>\n",
       "    </tr>\n",
       "    <tr>\n",
       "      <th>20</th>\n",
       "      <td>21</td>\n",
       "      <td>2.0</td>\n",
       "      <td>خانوم نهرمیانی</td>\n",
       "      <td>09183480518</td>\n",
       "      <td>هرمزگان،بندر جاسک،درمانگاه شهری،کنار پمپ بنزین...</td>\n",
       "      <td>_</td>\n",
       "      <td>پست</td>\n",
       "      <td>NaN</td>\n",
       "      <td>سه شنبه های بارجیلی</td>\n",
       "      <td>89900.0</td>\n",
       "      <td>کارت پاسارگاد ۵۷۹۴</td>\n",
       "      <td>7</td>\n",
       "      <td>1398</td>\n",
       "    </tr>\n",
       "    <tr>\n",
       "      <th>21</th>\n",
       "      <td>22</td>\n",
       "      <td>2.0</td>\n",
       "      <td>مینا گل دوست</td>\n",
       "      <td>09126856331</td>\n",
       "      <td>مطهری بعد از چهارراه سهروردی خیابان ترکمنستان ...</td>\n",
       "      <td>ـ</td>\n",
       "      <td>تی نکست</td>\n",
       "      <td>NaN</td>\n",
       "      <td>سه شنبه های بارجیلی</td>\n",
       "      <td>49800.0</td>\n",
       "      <td>کارت پاسارگاد ۵۷۹۴</td>\n",
       "      <td>7</td>\n",
       "      <td>1398</td>\n",
       "    </tr>\n",
       "    <tr>\n",
       "      <th>22</th>\n",
       "      <td>23</td>\n",
       "      <td>2.0</td>\n",
       "      <td>سارا مهدی نژاد</td>\n",
       "      <td>09367253421</td>\n",
       "      <td>کرج فردیس فلکه سوم ۱۱ غربی قدیم مجتمع مهران بل...</td>\n",
       "      <td>ـ</td>\n",
       "      <td>پست</td>\n",
       "      <td>NaN</td>\n",
       "      <td>سه شنبه های بارجیلی</td>\n",
       "      <td>102500.0</td>\n",
       "      <td>کارت پاسارگاد ۵۷۹۴</td>\n",
       "      <td>7</td>\n",
       "      <td>1398</td>\n",
       "    </tr>\n",
       "    <tr>\n",
       "      <th>23</th>\n",
       "      <td>24</td>\n",
       "      <td>2.0</td>\n",
       "      <td>باقری</td>\n",
       "      <td>09126858424</td>\n",
       "      <td>تهران میدان منیریه خیابان صداقت جنوبی کوچه شمس...</td>\n",
       "      <td>ـ</td>\n",
       "      <td>تی نکست</td>\n",
       "      <td>NaN</td>\n",
       "      <td>سه شنبه های بارجیلی</td>\n",
       "      <td>149600.0</td>\n",
       "      <td>کارت پاسارگاد ۵۷۹۴</td>\n",
       "      <td>7</td>\n",
       "      <td>1398</td>\n",
       "    </tr>\n",
       "    <tr>\n",
       "      <th>24</th>\n",
       "      <td>25</td>\n",
       "      <td>2.0</td>\n",
       "      <td>مونا ملکان</td>\n",
       "      <td>09334422836</td>\n",
       "      <td>آریاشهر اشرفی اصفهانی خیابان باهنر خیابان امیر...</td>\n",
       "      <td>ـ</td>\n",
       "      <td>NaN</td>\n",
       "      <td>NaN</td>\n",
       "      <td>سه شنبه های بارجیلی</td>\n",
       "      <td>129900.0</td>\n",
       "      <td>کارت پاسارگاد ۵۷۹۴</td>\n",
       "      <td>7</td>\n",
       "      <td>1398</td>\n",
       "    </tr>\n",
       "    <tr>\n",
       "      <th>25</th>\n",
       "      <td>26</td>\n",
       "      <td>3.0</td>\n",
       "      <td>تبسم رضوانی</td>\n",
       "      <td>09220596548</td>\n",
       "      <td>بلوار فردوس غرب خیابان پروانه جنوبی کوچه بیست ...</td>\n",
       "      <td>ـ</td>\n",
       "      <td>NaN</td>\n",
       "      <td>NaN</td>\n",
       "      <td>سه شنبه های بارجیلی</td>\n",
       "      <td>246800.0</td>\n",
       "      <td>کارت پاسارگاد ۵۷۹۴</td>\n",
       "      <td>7</td>\n",
       "      <td>1398</td>\n",
       "    </tr>\n",
       "    <tr>\n",
       "      <th>26</th>\n",
       "      <td>27</td>\n",
       "      <td>2.0</td>\n",
       "      <td>پریسا معرفتی</td>\n",
       "      <td>09128339041</td>\n",
       "      <td>میدان ونک انتهای خیابان ونک برج همراه اول</td>\n",
       "      <td>ـ</td>\n",
       "      <td>NaN</td>\n",
       "      <td>NaN</td>\n",
       "      <td>ـ</td>\n",
       "      <td>116000.0</td>\n",
       "      <td>کارت پاسارگاد ۵۷۹۴</td>\n",
       "      <td>7</td>\n",
       "      <td>1398</td>\n",
       "    </tr>\n",
       "    <tr>\n",
       "      <th>27</th>\n",
       "      <td>28</td>\n",
       "      <td>2.0</td>\n",
       "      <td>نگار رحیمی</td>\n",
       "      <td>09364954048</td>\n",
       "      <td>استان کردستان. شهرستان قروه خیابان فاطمه الزهر...</td>\n",
       "      <td>6661843154</td>\n",
       "      <td>NaN</td>\n",
       "      <td>NaN</td>\n",
       "      <td>ـ</td>\n",
       "      <td>68000.0</td>\n",
       "      <td>کارت پاسارگاد ۵۷۹۴</td>\n",
       "      <td>7</td>\n",
       "      <td>1398</td>\n",
       "    </tr>\n",
       "    <tr>\n",
       "      <th>28</th>\n",
       "      <td>29</td>\n",
       "      <td>2.0</td>\n",
       "      <td>معصومه آجلی لاهیجی</td>\n",
       "      <td>09111944501</td>\n",
       "      <td>مازندران تنکابن خیابان خیام ساختمان فرزین طبقه...</td>\n",
       "      <td>ـ</td>\n",
       "      <td>NaN</td>\n",
       "      <td>NaN</td>\n",
       "      <td>ـ</td>\n",
       "      <td>254000.0</td>\n",
       "      <td>کارت پاسارگاد ۵۷۹۴</td>\n",
       "      <td>7</td>\n",
       "      <td>1398</td>\n",
       "    </tr>\n",
       "    <tr>\n",
       "      <th>29</th>\n",
       "      <td>30</td>\n",
       "      <td>2.0</td>\n",
       "      <td>کیانا صبری</td>\n",
       "      <td>09113427436</td>\n",
       "      <td>بندر انزلی دهکده ساهلی مجتمع ترنج بلوک ۱ واحد ۱۱</td>\n",
       "      <td>ـ</td>\n",
       "      <td>NaN</td>\n",
       "      <td>NaN</td>\n",
       "      <td>ـ</td>\n",
       "      <td>519000.0</td>\n",
       "      <td>کارت پاسارگاد ۵۷۹۴</td>\n",
       "      <td>7</td>\n",
       "      <td>1398</td>\n",
       "    </tr>\n",
       "    <tr>\n",
       "      <th>...</th>\n",
       "      <td>...</td>\n",
       "      <td>...</td>\n",
       "      <td>...</td>\n",
       "      <td>...</td>\n",
       "      <td>...</td>\n",
       "      <td>...</td>\n",
       "      <td>...</td>\n",
       "      <td>...</td>\n",
       "      <td>...</td>\n",
       "      <td>...</td>\n",
       "      <td>...</td>\n",
       "      <td>...</td>\n",
       "      <td>...</td>\n",
       "    </tr>\n",
       "    <tr>\n",
       "      <th>31</th>\n",
       "      <td>32</td>\n",
       "      <td>2.0</td>\n",
       "      <td>سام منوچهری</td>\n",
       "      <td>09135603236</td>\n",
       "      <td>اصفهان سپاهان شهر بلوار غدیر خوارزمی 2 کوچه بس...</td>\n",
       "      <td>8179917775</td>\n",
       "      <td>NaN</td>\n",
       "      <td>NaN</td>\n",
       "      <td>_</td>\n",
       "      <td>56400.0</td>\n",
       "      <td>کارت پاسارگاد 5794</td>\n",
       "      <td>7</td>\n",
       "      <td>1398</td>\n",
       "    </tr>\n",
       "    <tr>\n",
       "      <th>32</th>\n",
       "      <td>33</td>\n",
       "      <td>2.0</td>\n",
       "      <td>محمدحسین بذرپاش</td>\n",
       "      <td>09357530516</td>\n",
       "      <td>تهران شهران بعد از فرهنگسرا بانک دی باجه 4 محم...</td>\n",
       "      <td>_</td>\n",
       "      <td>NaN</td>\n",
       "      <td>NaN</td>\n",
       "      <td>_</td>\n",
       "      <td>84400.0</td>\n",
       "      <td>کارت پاسارگاد 5794</td>\n",
       "      <td>7</td>\n",
       "      <td>1398</td>\n",
       "    </tr>\n",
       "    <tr>\n",
       "      <th>33</th>\n",
       "      <td>34</td>\n",
       "      <td>3.0</td>\n",
       "      <td>میثم اقبالی احمدآبادی</td>\n",
       "      <td>09137084987</td>\n",
       "      <td>تهران مجیدیه خیابان صفایی خیابان قاری شمالی کو...</td>\n",
       "      <td>_</td>\n",
       "      <td>NaN</td>\n",
       "      <td>NaN</td>\n",
       "      <td>_</td>\n",
       "      <td>86000.0</td>\n",
       "      <td>کارت پاسارگاد 5794</td>\n",
       "      <td>7</td>\n",
       "      <td>1398</td>\n",
       "    </tr>\n",
       "    <tr>\n",
       "      <th>34</th>\n",
       "      <td>35</td>\n",
       "      <td>2.0</td>\n",
       "      <td>مونا ملکان</td>\n",
       "      <td>09383051660</td>\n",
       "      <td>آرژانتین بلوار بیهقی کوچه دوازدهم شرقی پلاک 2 ...</td>\n",
       "      <td>_</td>\n",
       "      <td>NaN</td>\n",
       "      <td>NaN</td>\n",
       "      <td>_</td>\n",
       "      <td>283200.0</td>\n",
       "      <td>کارت پاسارگاد 5794</td>\n",
       "      <td>7</td>\n",
       "      <td>1398</td>\n",
       "    </tr>\n",
       "    <tr>\n",
       "      <th>35</th>\n",
       "      <td>36</td>\n",
       "      <td>2.0</td>\n",
       "      <td>باقری</td>\n",
       "      <td>09126858424</td>\n",
       "      <td>تهران میدان منیریه خیابان صداقت جنوبی کوچه شمس...</td>\n",
       "      <td>_</td>\n",
       "      <td>NaN</td>\n",
       "      <td>NaN</td>\n",
       "      <td>_</td>\n",
       "      <td>72300.0</td>\n",
       "      <td>کارت پاسارگاد 5794</td>\n",
       "      <td>7</td>\n",
       "      <td>1398</td>\n",
       "    </tr>\n",
       "    <tr>\n",
       "      <th>36</th>\n",
       "      <td>37</td>\n",
       "      <td>2.0</td>\n",
       "      <td>نظری</td>\n",
       "      <td>09360969510</td>\n",
       "      <td>تهران خیابان شهید مدنی شمالی بالاتر از پارک فد...</td>\n",
       "      <td>_</td>\n",
       "      <td>NaN</td>\n",
       "      <td>NaN</td>\n",
       "      <td>_</td>\n",
       "      <td>36300.0</td>\n",
       "      <td>کارت پاسارگاد 5794</td>\n",
       "      <td>7</td>\n",
       "      <td>1398</td>\n",
       "    </tr>\n",
       "    <tr>\n",
       "      <th>37</th>\n",
       "      <td>38</td>\n",
       "      <td>2.0</td>\n",
       "      <td>سهیلا ظاهری</td>\n",
       "      <td>09355654464</td>\n",
       "      <td>تهران اشرفی اصفهانی باغ فیض خیابان امیر ابراهی...</td>\n",
       "      <td>_</td>\n",
       "      <td>NaN</td>\n",
       "      <td>NaN</td>\n",
       "      <td>_</td>\n",
       "      <td>165000.0</td>\n",
       "      <td>کارت پاسارگاد 5794</td>\n",
       "      <td>7</td>\n",
       "      <td>1398</td>\n",
       "    </tr>\n",
       "    <tr>\n",
       "      <th>38</th>\n",
       "      <td>39</td>\n",
       "      <td>2.0</td>\n",
       "      <td>گل دوست</td>\n",
       "      <td>09126856331</td>\n",
       "      <td>تهران مطهری بعد چهار راه سهروردی خیابان ترکمنس...</td>\n",
       "      <td>_</td>\n",
       "      <td>NaN</td>\n",
       "      <td>NaN</td>\n",
       "      <td>_</td>\n",
       "      <td>103800.0</td>\n",
       "      <td>کارت پاسارگاد 5794</td>\n",
       "      <td>7</td>\n",
       "      <td>1398</td>\n",
       "    </tr>\n",
       "    <tr>\n",
       "      <th>39</th>\n",
       "      <td>40</td>\n",
       "      <td>2.0</td>\n",
       "      <td>مریم نوری</td>\n",
       "      <td>09127363740</td>\n",
       "      <td>استان زنجان شهر ابهر خیابان طالقانی جنوبی کوچه...</td>\n",
       "      <td>4561733169</td>\n",
       "      <td>NaN</td>\n",
       "      <td>NaN</td>\n",
       "      <td>_</td>\n",
       "      <td>433000.0</td>\n",
       "      <td>کارت پاسارگاد 5794</td>\n",
       "      <td>7</td>\n",
       "      <td>1398</td>\n",
       "    </tr>\n",
       "    <tr>\n",
       "      <th>40</th>\n",
       "      <td>41</td>\n",
       "      <td>2.0</td>\n",
       "      <td>فرزانه کیماسی</td>\n",
       "      <td>09030179129</td>\n",
       "      <td>اصفهان نجف آباد یزدانشهر قسمت دوم سی متری خیام...</td>\n",
       "      <td>8519979183</td>\n",
       "      <td>NaN</td>\n",
       "      <td>NaN</td>\n",
       "      <td>_</td>\n",
       "      <td>72000.0</td>\n",
       "      <td>کارت پاسارگاد 5794</td>\n",
       "      <td>7</td>\n",
       "      <td>1398</td>\n",
       "    </tr>\n",
       "    <tr>\n",
       "      <th>41</th>\n",
       "      <td>42</td>\n",
       "      <td>2.0</td>\n",
       "      <td>بختیار خسروی</td>\n",
       "      <td>09183141105</td>\n",
       "      <td>کردستان سنندج میدان امام شافعی بلوار شبلی کوچه...</td>\n",
       "      <td>6619863883</td>\n",
       "      <td>NaN</td>\n",
       "      <td>NaN</td>\n",
       "      <td>_</td>\n",
       "      <td>313800.0</td>\n",
       "      <td>کارت پاسارگاد 5794</td>\n",
       "      <td>7</td>\n",
       "      <td>1398</td>\n",
       "    </tr>\n",
       "    <tr>\n",
       "      <th>42</th>\n",
       "      <td>43</td>\n",
       "      <td>2.0</td>\n",
       "      <td>باقری</td>\n",
       "      <td>09126858424</td>\n",
       "      <td>تهران میدان منیریه خیابان صداقت جنوبی کوچه شمس...</td>\n",
       "      <td>1334698819</td>\n",
       "      <td>NaN</td>\n",
       "      <td>NaN</td>\n",
       "      <td>_</td>\n",
       "      <td>73500.0</td>\n",
       "      <td>کارت پاسارگاد 5794</td>\n",
       "      <td>7</td>\n",
       "      <td>1398</td>\n",
       "    </tr>\n",
       "    <tr>\n",
       "      <th>43</th>\n",
       "      <td>44</td>\n",
       "      <td>2.0</td>\n",
       "      <td>سهیلا ظاهری</td>\n",
       "      <td>09355654464</td>\n",
       "      <td>تهران اشرفی اصفهانی باغ فیض خیابان امیر ابراهی...</td>\n",
       "      <td>_</td>\n",
       "      <td>NaN</td>\n",
       "      <td>NaN</td>\n",
       "      <td>_</td>\n",
       "      <td>544200.0</td>\n",
       "      <td>کارت پاسارگاد 5794</td>\n",
       "      <td>7</td>\n",
       "      <td>1398</td>\n",
       "    </tr>\n",
       "    <tr>\n",
       "      <th>44</th>\n",
       "      <td>45</td>\n",
       "      <td>2.0</td>\n",
       "      <td>طناز پرویزی</td>\n",
       "      <td>44903292</td>\n",
       "      <td>تهران .کیلومتر 13 جاده مخصوص کرج  شرکت ایساکو</td>\n",
       "      <td>_</td>\n",
       "      <td>NaN</td>\n",
       "      <td>NaN</td>\n",
       "      <td>_</td>\n",
       "      <td>171000.0</td>\n",
       "      <td>کارت پاسارگاد 5794</td>\n",
       "      <td>7</td>\n",
       "      <td>1398</td>\n",
       "    </tr>\n",
       "    <tr>\n",
       "      <th>45</th>\n",
       "      <td>46</td>\n",
       "      <td>2.0</td>\n",
       "      <td>ریحانه قفلچی</td>\n",
       "      <td>09155195288</td>\n",
       "      <td>مشهد بلوار وکیل آباد ،خیابان صدف صدف 10 پلاک2...</td>\n",
       "      <td>9188914697</td>\n",
       "      <td>NaN</td>\n",
       "      <td>NaN</td>\n",
       "      <td>_</td>\n",
       "      <td>208340.0</td>\n",
       "      <td>کارت پاسارگاد 5794</td>\n",
       "      <td>7</td>\n",
       "      <td>1398</td>\n",
       "    </tr>\n",
       "    <tr>\n",
       "      <th>46</th>\n",
       "      <td>47</td>\n",
       "      <td>2.0</td>\n",
       "      <td>معصومه آجلی لاهیجی</td>\n",
       "      <td>09111944501</td>\n",
       "      <td>مازندران تنکابن خیابان خیام ساختمان فرزین طبقه...</td>\n",
       "      <td>_</td>\n",
       "      <td>NaN</td>\n",
       "      <td>NaN</td>\n",
       "      <td>_</td>\n",
       "      <td>148000.0</td>\n",
       "      <td>کارت پاسارگاد 5794</td>\n",
       "      <td>7</td>\n",
       "      <td>1398</td>\n",
       "    </tr>\n",
       "    <tr>\n",
       "      <th>47</th>\n",
       "      <td>48</td>\n",
       "      <td>2.0</td>\n",
       "      <td>کفاشی</td>\n",
       "      <td>09123714516</td>\n",
       "      <td>تهران سعادت آباد خیابان 27 پلاک 7 طبقه 5 واحد ...</td>\n",
       "      <td>_</td>\n",
       "      <td>NaN</td>\n",
       "      <td>NaN</td>\n",
       "      <td>_</td>\n",
       "      <td>425700.0</td>\n",
       "      <td>کارت پاسارگاد 5794</td>\n",
       "      <td>7</td>\n",
       "      <td>1398</td>\n",
       "    </tr>\n",
       "    <tr>\n",
       "      <th>48</th>\n",
       "      <td>49</td>\n",
       "      <td>2.0</td>\n",
       "      <td>لاله برهانی</td>\n",
       "      <td>09113384212</td>\n",
       "      <td>رشت بلوار شهید افتخاری خ شهید پورباقر پارک میخ...</td>\n",
       "      <td>4156818399</td>\n",
       "      <td>NaN</td>\n",
       "      <td>NaN</td>\n",
       "      <td>_</td>\n",
       "      <td>177000.0</td>\n",
       "      <td>کارت پاسارگاد 5794</td>\n",
       "      <td>7</td>\n",
       "      <td>1398</td>\n",
       "    </tr>\n",
       "    <tr>\n",
       "      <th>49</th>\n",
       "      <td>50</td>\n",
       "      <td>2.0</td>\n",
       "      <td>یاسمن خطیبی</td>\n",
       "      <td>09033648565</td>\n",
       "      <td>تهران میدان ونک، خیابان ملاصدرا، شیراز جنوبی، ...</td>\n",
       "      <td>_</td>\n",
       "      <td>NaN</td>\n",
       "      <td>NaN</td>\n",
       "      <td>_</td>\n",
       "      <td>140000.0</td>\n",
       "      <td>کارت پاسارگاد 5794</td>\n",
       "      <td>7</td>\n",
       "      <td>1398</td>\n",
       "    </tr>\n",
       "    <tr>\n",
       "      <th>50</th>\n",
       "      <td>51</td>\n",
       "      <td>2.0</td>\n",
       "      <td>مریم صداقت</td>\n",
       "      <td>09366384232</td>\n",
       "      <td>همدان شهرک الوند درمانگاه سمیعی 3</td>\n",
       "      <td>6518913886</td>\n",
       "      <td>NaN</td>\n",
       "      <td>NaN</td>\n",
       "      <td>_</td>\n",
       "      <td>215800.0</td>\n",
       "      <td>پرداخت طی دو مرحله\\nکارت پاسارگاد 7542 مبلغ 11...</td>\n",
       "      <td>7</td>\n",
       "      <td>1398</td>\n",
       "    </tr>\n",
       "    <tr>\n",
       "      <th>51</th>\n",
       "      <td>52</td>\n",
       "      <td>2.0</td>\n",
       "      <td>پیراهش</td>\n",
       "      <td>09125453472</td>\n",
       "      <td>تهران خیابان آزادی دانشگاه صنعتی شریف انجمن فا...</td>\n",
       "      <td>_</td>\n",
       "      <td>NaN</td>\n",
       "      <td>NaN</td>\n",
       "      <td>_</td>\n",
       "      <td>53000.0</td>\n",
       "      <td>کارت پاسارگاد 7542</td>\n",
       "      <td>7</td>\n",
       "      <td>1398</td>\n",
       "    </tr>\n",
       "    <tr>\n",
       "      <th>52</th>\n",
       "      <td>53</td>\n",
       "      <td>2.0</td>\n",
       "      <td>پیراهش</td>\n",
       "      <td>09125453472</td>\n",
       "      <td>تهران خیابان آزادی دانشگاه صنعتی شریف انجمن فا...</td>\n",
       "      <td>_</td>\n",
       "      <td>NaN</td>\n",
       "      <td>NaN</td>\n",
       "      <td>_</td>\n",
       "      <td>132000.0</td>\n",
       "      <td>کارت پاسارگاد 7542</td>\n",
       "      <td>7</td>\n",
       "      <td>1398</td>\n",
       "    </tr>\n",
       "    <tr>\n",
       "      <th>53</th>\n",
       "      <td>54</td>\n",
       "      <td>2.0</td>\n",
       "      <td>میرعابدینی</td>\n",
       "      <td>09124244690</td>\n",
       "      <td>تهران خیابان مطهری بعد از مفتح خیابان مهرداد پ...</td>\n",
       "      <td>_</td>\n",
       "      <td>NaN</td>\n",
       "      <td>NaN</td>\n",
       "      <td>_</td>\n",
       "      <td>797200.0</td>\n",
       "      <td>کارت پاسارگاد 7542</td>\n",
       "      <td>7</td>\n",
       "      <td>1398</td>\n",
       "    </tr>\n",
       "    <tr>\n",
       "      <th>54</th>\n",
       "      <td>55</td>\n",
       "      <td>2.0</td>\n",
       "      <td>هاجر حلال خور</td>\n",
       "      <td>09358780979</td>\n",
       "      <td>شهر ری دولت آباد فلکه دوم خیابان بهشتی کوچه گی...</td>\n",
       "      <td>_</td>\n",
       "      <td>NaN</td>\n",
       "      <td>NaN</td>\n",
       "      <td>_</td>\n",
       "      <td>259000.0</td>\n",
       "      <td>کارت پاسارگاد 7542</td>\n",
       "      <td>7</td>\n",
       "      <td>1398</td>\n",
       "    </tr>\n",
       "    <tr>\n",
       "      <th>55</th>\n",
       "      <td>56</td>\n",
       "      <td>2.0</td>\n",
       "      <td>یاسمین ملکی</td>\n",
       "      <td>09120215439</td>\n",
       "      <td>تهران خیابان نیاوران بعد از سه راه یاسر پلاک 2...</td>\n",
       "      <td>_</td>\n",
       "      <td>NaN</td>\n",
       "      <td>NaN</td>\n",
       "      <td>_</td>\n",
       "      <td>145000.0</td>\n",
       "      <td>کارت پاسارگاد 7542</td>\n",
       "      <td>7</td>\n",
       "      <td>1398</td>\n",
       "    </tr>\n",
       "    <tr>\n",
       "      <th>56</th>\n",
       "      <td>57</td>\n",
       "      <td>2.0</td>\n",
       "      <td>ملیکا معزی فر</td>\n",
       "      <td>09128312507</td>\n",
       "      <td>سمنان میدان شقایق کلینیک دندان پزشکی اسپا</td>\n",
       "      <td>_</td>\n",
       "      <td>NaN</td>\n",
       "      <td>NaN</td>\n",
       "      <td>_</td>\n",
       "      <td>221800.0</td>\n",
       "      <td>کارت پاسارگاد 7542</td>\n",
       "      <td>7</td>\n",
       "      <td>1398</td>\n",
       "    </tr>\n",
       "    <tr>\n",
       "      <th>57</th>\n",
       "      <td>58</td>\n",
       "      <td>3.0</td>\n",
       "      <td>مریم مهدوی</td>\n",
       "      <td>09178473863</td>\n",
       "      <td>استان فارس شیراز بلوار سرداران بلوار شهید صیاد...</td>\n",
       "      <td>_</td>\n",
       "      <td>پست</td>\n",
       "      <td>NaN</td>\n",
       "      <td>_</td>\n",
       "      <td>202100.0</td>\n",
       "      <td>کارت پاسارگاد 7542</td>\n",
       "      <td>7</td>\n",
       "      <td>1398</td>\n",
       "    </tr>\n",
       "    <tr>\n",
       "      <th>58</th>\n",
       "      <td>59</td>\n",
       "      <td>2.0</td>\n",
       "      <td>مهسا خواجه دهی</td>\n",
       "      <td>09121185836</td>\n",
       "      <td>تهران بلوار فردوس غرب خیابان ورزی شمالی کوچه ش...</td>\n",
       "      <td>_</td>\n",
       "      <td>NaN</td>\n",
       "      <td>NaN</td>\n",
       "      <td>_</td>\n",
       "      <td>59000.0</td>\n",
       "      <td>کارت پاسارگاد 7542</td>\n",
       "      <td>7</td>\n",
       "      <td>1398</td>\n",
       "    </tr>\n",
       "    <tr>\n",
       "      <th>59</th>\n",
       "      <td>60</td>\n",
       "      <td>2.0</td>\n",
       "      <td>خانم مختاری</td>\n",
       "      <td>09198927595</td>\n",
       "      <td>تهران خیابان ولیعصر بالاتر از میرداماد ساختمان...</td>\n",
       "      <td>_</td>\n",
       "      <td>NaN</td>\n",
       "      <td>NaN</td>\n",
       "      <td>_</td>\n",
       "      <td>195000.0</td>\n",
       "      <td>کارت پاسارگاد 7542</td>\n",
       "      <td>7</td>\n",
       "      <td>1398</td>\n",
       "    </tr>\n",
       "    <tr>\n",
       "      <th>60</th>\n",
       "      <td>61</td>\n",
       "      <td>2.0</td>\n",
       "      <td>نگین عبداللهی</td>\n",
       "      <td>09126134480</td>\n",
       "      <td>تهران کیلومتر 9 بزرگراه شهید لشکری(جاده مخصوص ...</td>\n",
       "      <td>_</td>\n",
       "      <td>NaN</td>\n",
       "      <td>NaN</td>\n",
       "      <td>_</td>\n",
       "      <td>185000.0</td>\n",
       "      <td>کارت پاسارگاد 7542</td>\n",
       "      <td>7</td>\n",
       "      <td>1398</td>\n",
       "    </tr>\n",
       "  </tbody>\n",
       "</table>\n",
       "<p>61 rows × 13 columns</p>\n",
       "</div>"
      ],
      "text/plain": [
       "    Order_Id  Channel                   Name          Phone  \\\n",
       "0          1      1.0        پانته آ پارسایی    09354552718   \n",
       "1          2      1.0        ندا ابراهیم پور    09144628935   \n",
       "2          3      1.0           هانیه امرایی    09304203740   \n",
       "3          4      1.0            مونا کنعانی    09125967037   \n",
       "4          5      1.0         محمد مهدی آصفی    09177141377   \n",
       "5          6      1.0        فرزانه علی یاری    09214518434   \n",
       "6          7      1.0           مهرناز ناظری    09123471064   \n",
       "7          8      1.0             فاطمه ملکی    09906953025   \n",
       "8          9      1.0          غزل ملک حسینی    09216178320   \n",
       "9         10      2.0             میرعابدینی    09124244690   \n",
       "10        11      2.0                  باقری    09126858424   \n",
       "11        12      1.0             صادق آشوری    09303968081   \n",
       "12        13      2.0             خانم دهقان    09177782419   \n",
       "13        14      1.0            مریم گودرزی    09197072433   \n",
       "14        15      1.0            سمیرا عزیزی    09125264516   \n",
       "15        16      1.0      نیما سلطانی محمدی  09112565767\\n   \n",
       "16        17      2.0            سحر میرزایی    09134934180   \n",
       "17        18      2.0           ابراهیم مقدس    09176501820   \n",
       "18        19      2.0            عذرا آهنگری    09127060565   \n",
       "19        20      2.0           بختیار خسروی    09183141105   \n",
       "20        21      2.0         خانوم نهرمیانی    09183480518   \n",
       "21        22      2.0           مینا گل دوست    09126856331   \n",
       "22        23      2.0         سارا مهدی نژاد    09367253421   \n",
       "23        24      2.0                  باقری    09126858424   \n",
       "24        25      2.0             مونا ملکان    09334422836   \n",
       "25        26      3.0            تبسم رضوانی    09220596548   \n",
       "26        27      2.0           پریسا معرفتی    09128339041   \n",
       "27        28      2.0             نگار رحیمی    09364954048   \n",
       "28        29      2.0     معصومه آجلی لاهیجی    09111944501   \n",
       "29        30      2.0             کیانا صبری    09113427436   \n",
       "..       ...      ...                    ...            ...   \n",
       "31        32      2.0            سام منوچهری    09135603236   \n",
       "32        33      2.0        محمدحسین بذرپاش    09357530516   \n",
       "33        34      3.0  میثم اقبالی احمدآبادی    09137084987   \n",
       "34        35      2.0             مونا ملکان    09383051660   \n",
       "35        36      2.0                  باقری    09126858424   \n",
       "36        37      2.0                   نظری    09360969510   \n",
       "37        38      2.0            سهیلا ظاهری    09355654464   \n",
       "38        39      2.0                گل دوست    09126856331   \n",
       "39        40      2.0              مریم نوری    09127363740   \n",
       "40        41      2.0          فرزانه کیماسی    09030179129   \n",
       "41        42      2.0           بختیار خسروی    09183141105   \n",
       "42        43      2.0                  باقری    09126858424   \n",
       "43        44      2.0            سهیلا ظاهری    09355654464   \n",
       "44        45      2.0            طناز پرویزی       44903292   \n",
       "45        46      2.0           ریحانه قفلچی    09155195288   \n",
       "46        47      2.0     معصومه آجلی لاهیجی    09111944501   \n",
       "47        48      2.0                  کفاشی    09123714516   \n",
       "48        49      2.0            لاله برهانی    09113384212   \n",
       "49        50      2.0            یاسمن خطیبی    09033648565   \n",
       "50        51      2.0             مریم صداقت    09366384232   \n",
       "51        52      2.0                 پیراهش    09125453472   \n",
       "52        53      2.0                 پیراهش    09125453472   \n",
       "53        54      2.0             میرعابدینی    09124244690   \n",
       "54        55      2.0          هاجر حلال خور    09358780979   \n",
       "55        56      2.0            یاسمین ملکی    09120215439   \n",
       "56        57      2.0          ملیکا معزی فر    09128312507   \n",
       "57        58      3.0             مریم مهدوی    09178473863   \n",
       "58        59      2.0         مهسا خواجه دهی    09121185836   \n",
       "59        60      2.0            خانم مختاری    09198927595   \n",
       "60        61      2.0          نگین عبداللهی    09126134480   \n",
       "\n",
       "                                              Address Postal Code Send_Type  \\\n",
       "0       تهران کیلومتر 8 بزرگراه فتح  شرکت صنعتی بهشهر  1386934311   تی نکست   \n",
       "1   آذربایجان غربی ماکو آذربایجان غربی ماکو بلوار ...  5861685838       پست   \n",
       "2   لرستان خرم آباد علوی کوچه شهید کاظمیان روبروی ...  6814636800       پست   \n",
       "3   تهران خيابان دكتر علي شريعتي بالاتر از ميراماد...  1948845341       پیک   \n",
       "4   تهران خیابان ولیعصر، ایستگاه خبرنگاران، بن بست...  1966843584   تی نکست   \n",
       "5   آذربایجان شرقی بناب کوی سعدی بن بست شماره ۸ پل...  5551753696       پست   \n",
       "6   تهران میدان محسنی خیابان شاه نظری بین کوچه 10 ...  1547735811       پیک   \n",
       "7   هرمزگان بندرعباس ششصد دستگاه خ ميعاد سوم ساختم...  7918613759       پست   \n",
       "8   هرمزگان کیش شهرک نوبنیاد یک میدان بهارستان راش...           ـ       پست   \n",
       "9   خیابان مطهری. بعد از مفتح. خیابان مهرداد. پلاک...           _   تی نکست   \n",
       "10  میدان منیریه. خیابان صداقت جنوبی کوچه شمس کوچه...           ـ   تی نکست   \n",
       "11  تهران خیابان آزادی  خیابان استاد معین خیابان ۲...  1341765761   تی نکست   \n",
       "12  بوشهر شهرستان عسلویه بلوار امام خمینی بیمارستا...  7511976589       پست   \n",
       "13  شهر ری پل سیمان خیابان سرگردمحمدی کوچه پورشه ا...  1861695388   تی نکست   \n",
       "14  تهران خیابان شریعتی - بالاتر از میرداماد - کوچ...           ـ       پیک   \n",
       "15  استان گلستان شهرستان گنبدکاووس خیابان امام خمی...  4971878168       پست   \n",
       "16               کرمان میدان پژوهش دانشگاه شهید باهنر  7616914111       پست   \n",
       "17  استان فارس شهرستان داراب بخش فورگ روستای شاهمر...  7483183518       پست   \n",
       "18  شاهین شمالی بصارتی معادن سمت راست انتهای بن بس...           ـ   تی نکست   \n",
       "19  کردستان سنندج میدان امام شافعی بلوار شبلی کوچه...  6619863883       پست   \n",
       "20  هرمزگان،بندر جاسک،درمانگاه شهری،کنار پمپ بنزین...           _       پست   \n",
       "21  مطهری بعد از چهارراه سهروردی خیابان ترکمنستان ...           ـ   تی نکست   \n",
       "22  کرج فردیس فلکه سوم ۱۱ غربی قدیم مجتمع مهران بل...           ـ       پست   \n",
       "23  تهران میدان منیریه خیابان صداقت جنوبی کوچه شمس...           ـ   تی نکست   \n",
       "24  آریاشهر اشرفی اصفهانی خیابان باهنر خیابان امیر...           ـ       NaN   \n",
       "25  بلوار فردوس غرب خیابان پروانه جنوبی کوچه بیست ...           ـ       NaN   \n",
       "26         میدان ونک انتهای خیابان ونک برج همراه اول            ـ       NaN   \n",
       "27  استان کردستان. شهرستان قروه خیابان فاطمه الزهر...  6661843154       NaN   \n",
       "28  مازندران تنکابن خیابان خیام ساختمان فرزین طبقه...           ـ       NaN   \n",
       "29   بندر انزلی دهکده ساهلی مجتمع ترنج بلوک ۱ واحد ۱۱           ـ       NaN   \n",
       "..                                                ...         ...       ...   \n",
       "31  اصفهان سپاهان شهر بلوار غدیر خوارزمی 2 کوچه بس...  8179917775       NaN   \n",
       "32  تهران شهران بعد از فرهنگسرا بانک دی باجه 4 محم...           _       NaN   \n",
       "33  تهران مجیدیه خیابان صفایی خیابان قاری شمالی کو...           _       NaN   \n",
       "34  آرژانتین بلوار بیهقی کوچه دوازدهم شرقی پلاک 2 ...           _       NaN   \n",
       "35  تهران میدان منیریه خیابان صداقت جنوبی کوچه شمس...           _       NaN   \n",
       "36  تهران خیابان شهید مدنی شمالی بالاتر از پارک فد...           _       NaN   \n",
       "37  تهران اشرفی اصفهانی باغ فیض خیابان امیر ابراهی...           _       NaN   \n",
       "38  تهران مطهری بعد چهار راه سهروردی خیابان ترکمنس...           _       NaN   \n",
       "39  استان زنجان شهر ابهر خیابان طالقانی جنوبی کوچه...  4561733169       NaN   \n",
       "40  اصفهان نجف آباد یزدانشهر قسمت دوم سی متری خیام...  8519979183       NaN   \n",
       "41  کردستان سنندج میدان امام شافعی بلوار شبلی کوچه...  6619863883       NaN   \n",
       "42  تهران میدان منیریه خیابان صداقت جنوبی کوچه شمس...  1334698819       NaN   \n",
       "43  تهران اشرفی اصفهانی باغ فیض خیابان امیر ابراهی...           _       NaN   \n",
       "44      تهران .کیلومتر 13 جاده مخصوص کرج  شرکت ایساکو           _       NaN   \n",
       "45   مشهد بلوار وکیل آباد ،خیابان صدف صدف 10 پلاک2...  9188914697       NaN   \n",
       "46  مازندران تنکابن خیابان خیام ساختمان فرزین طبقه...           _       NaN   \n",
       "47  تهران سعادت آباد خیابان 27 پلاک 7 طبقه 5 واحد ...           _       NaN   \n",
       "48  رشت بلوار شهید افتخاری خ شهید پورباقر پارک میخ...  4156818399       NaN   \n",
       "49  تهران میدان ونک، خیابان ملاصدرا، شیراز جنوبی، ...           _       NaN   \n",
       "50                 همدان شهرک الوند درمانگاه سمیعی 3   6518913886       NaN   \n",
       "51  تهران خیابان آزادی دانشگاه صنعتی شریف انجمن فا...           _       NaN   \n",
       "52  تهران خیابان آزادی دانشگاه صنعتی شریف انجمن فا...           _       NaN   \n",
       "53  تهران خیابان مطهری بعد از مفتح خیابان مهرداد پ...           _       NaN   \n",
       "54  شهر ری دولت آباد فلکه دوم خیابان بهشتی کوچه گی...           _       NaN   \n",
       "55  تهران خیابان نیاوران بعد از سه راه یاسر پلاک 2...           _       NaN   \n",
       "56          سمنان میدان شقایق کلینیک دندان پزشکی اسپا           _       NaN   \n",
       "57  استان فارس شیراز بلوار سرداران بلوار شهید صیاد...           _       پست   \n",
       "58  تهران بلوار فردوس غرب خیابان ورزی شمالی کوچه ش...           _       NaN   \n",
       "59  تهران خیابان ولیعصر بالاتر از میرداماد ساختمان...           _       NaN   \n",
       "60  تهران کیلومتر 9 بزرگراه شهید لشکری(جاده مخصوص ...           _       NaN   \n",
       "\n",
       "   Send _Date             Discoutn     Price  \\\n",
       "0         NaN                    ـ  155000.0   \n",
       "1    ۱۳۹۸/۸/۱  سه شنبه های بارجیلی   75000.0   \n",
       "2    ۱۳۹۸/۸/۱  سه شنبه های بارجیلی  178300.0   \n",
       "3         NaN  سه شنبه های بارجیلی  209400.0   \n",
       "4         NaN  سه شنبه های بارجیلی  119600.0   \n",
       "5   ۱۳۹۸/۷/۳۰  سه شنبه های بارجیلی  126400.0   \n",
       "6         NaN      سه شنبه بارجیلی  173300.0   \n",
       "7   ۱۳۹۸/۷/۳۰      سه شنبه بارجیلی  322300.0   \n",
       "8   ۱۳۹۸/۷/۳۰  سه شنبه های بارجیلی   52400.0   \n",
       "9         NaN  سه شنبه های بارجیلی  343900.0   \n",
       "10        NaN  سه شنبه های بارجیلی  115300.0   \n",
       "11        NaN      سه شنبه بارجیلی   46200.0   \n",
       "12  ۱۳۹۸/۷/۳۰                    ـ   40000.0   \n",
       "13        NaN                    ـ  199000.0   \n",
       "14        NaN                    ـ   47000.0   \n",
       "15  ۱۳۹۸/۷/۳۰                    ـ   75000.0   \n",
       "16        NaN                    ـ  146000.0   \n",
       "17        NaN                    _  253000.0   \n",
       "18        NaN  سه شنبه های بارجیلی  231000.0   \n",
       "19        NaN  سه شنبه های بارجیلی  242000.0   \n",
       "20        NaN  سه شنبه های بارجیلی   89900.0   \n",
       "21        NaN  سه شنبه های بارجیلی   49800.0   \n",
       "22        NaN  سه شنبه های بارجیلی  102500.0   \n",
       "23        NaN  سه شنبه های بارجیلی  149600.0   \n",
       "24        NaN  سه شنبه های بارجیلی  129900.0   \n",
       "25        NaN  سه شنبه های بارجیلی  246800.0   \n",
       "26        NaN                    ـ  116000.0   \n",
       "27        NaN                    ـ   68000.0   \n",
       "28        NaN                    ـ  254000.0   \n",
       "29        NaN                    ـ  519000.0   \n",
       "..        ...                  ...       ...   \n",
       "31        NaN                    _   56400.0   \n",
       "32        NaN                    _   84400.0   \n",
       "33        NaN                    _   86000.0   \n",
       "34        NaN                    _  283200.0   \n",
       "35        NaN                    _   72300.0   \n",
       "36        NaN                    _   36300.0   \n",
       "37        NaN                    _  165000.0   \n",
       "38        NaN                    _  103800.0   \n",
       "39        NaN                    _  433000.0   \n",
       "40        NaN                    _   72000.0   \n",
       "41        NaN                    _  313800.0   \n",
       "42        NaN                    _   73500.0   \n",
       "43        NaN                    _  544200.0   \n",
       "44        NaN                    _  171000.0   \n",
       "45        NaN                    _  208340.0   \n",
       "46        NaN                    _  148000.0   \n",
       "47        NaN                    _  425700.0   \n",
       "48        NaN                    _  177000.0   \n",
       "49        NaN                    _  140000.0   \n",
       "50        NaN                    _  215800.0   \n",
       "51        NaN                    _   53000.0   \n",
       "52        NaN                    _  132000.0   \n",
       "53        NaN                    _  797200.0   \n",
       "54        NaN                    _  259000.0   \n",
       "55        NaN                    _  145000.0   \n",
       "56        NaN                    _  221800.0   \n",
       "57        NaN                    _  202100.0   \n",
       "58        NaN                    _   59000.0   \n",
       "59        NaN                    _  195000.0   \n",
       "60        NaN                    _  185000.0   \n",
       "\n",
       "                                         Payment_Type  Date_Month  Date_Year  \n",
       "0                                             پی پینگ           7       1398  \n",
       "1                                             پی پینگ           7       1398  \n",
       "2                                             پی پینگ           7       1398  \n",
       "3                                             پی پینگ           7       1398  \n",
       "4                                             پی پینگ           7       1398  \n",
       "5                                             پی پینگ           7       1398  \n",
       "6                                             پی پینگ           7       1398  \n",
       "7                                             پی پینگ           7       1398  \n",
       "8                                             پی پینگ           7       1398  \n",
       "9                                  کارت پاسارگاد ۵۷۹۴           7       1398  \n",
       "10                                 کارت پاسارگاد ۵۷۹۴           7       1398  \n",
       "11                                            پی پینگ           7       1398  \n",
       "12                                 کارت پاسارگاد ۵۷۹۴           7       1398  \n",
       "13                                            پی پینگ           7       1398  \n",
       "14                                            پی پینگ           7       1398  \n",
       "15                                            پی پینگ           7       1398  \n",
       "16                                 کارت پاسارگاد ۵۷۹۴           7       1398  \n",
       "17                                 کارت پاسارگاد ۵۷۹۴           7       1398  \n",
       "18                                 کارت پاسارگاد ۵۷۹۴           7       1398  \n",
       "19                                 کارت پاسارگاد ۵۷۹۴           7       1398  \n",
       "20                                 کارت پاسارگاد ۵۷۹۴           7       1398  \n",
       "21                                 کارت پاسارگاد ۵۷۹۴           7       1398  \n",
       "22                                 کارت پاسارگاد ۵۷۹۴           7       1398  \n",
       "23                                 کارت پاسارگاد ۵۷۹۴           7       1398  \n",
       "24                                 کارت پاسارگاد ۵۷۹۴           7       1398  \n",
       "25                                 کارت پاسارگاد ۵۷۹۴           7       1398  \n",
       "26                                 کارت پاسارگاد ۵۷۹۴           7       1398  \n",
       "27                                 کارت پاسارگاد ۵۷۹۴           7       1398  \n",
       "28                                 کارت پاسارگاد ۵۷۹۴           7       1398  \n",
       "29                                 کارت پاسارگاد ۵۷۹۴           7       1398  \n",
       "..                                                ...         ...        ...  \n",
       "31                                 کارت پاسارگاد 5794           7       1398  \n",
       "32                                 کارت پاسارگاد 5794           7       1398  \n",
       "33                                 کارت پاسارگاد 5794           7       1398  \n",
       "34                                 کارت پاسارگاد 5794           7       1398  \n",
       "35                                 کارت پاسارگاد 5794           7       1398  \n",
       "36                                 کارت پاسارگاد 5794           7       1398  \n",
       "37                                 کارت پاسارگاد 5794           7       1398  \n",
       "38                                 کارت پاسارگاد 5794           7       1398  \n",
       "39                                 کارت پاسارگاد 5794           7       1398  \n",
       "40                                 کارت پاسارگاد 5794           7       1398  \n",
       "41                                 کارت پاسارگاد 5794           7       1398  \n",
       "42                                 کارت پاسارگاد 5794           7       1398  \n",
       "43                                 کارت پاسارگاد 5794           7       1398  \n",
       "44                                 کارت پاسارگاد 5794           7       1398  \n",
       "45                                 کارت پاسارگاد 5794           7       1398  \n",
       "46                                 کارت پاسارگاد 5794           7       1398  \n",
       "47                                 کارت پاسارگاد 5794           7       1398  \n",
       "48                                 کارت پاسارگاد 5794           7       1398  \n",
       "49                                 کارت پاسارگاد 5794           7       1398  \n",
       "50  پرداخت طی دو مرحله\\nکارت پاسارگاد 7542 مبلغ 11...           7       1398  \n",
       "51                                 کارت پاسارگاد 7542           7       1398  \n",
       "52                                 کارت پاسارگاد 7542           7       1398  \n",
       "53                                 کارت پاسارگاد 7542           7       1398  \n",
       "54                                 کارت پاسارگاد 7542           7       1398  \n",
       "55                                 کارت پاسارگاد 7542           7       1398  \n",
       "56                                 کارت پاسارگاد 7542           7       1398  \n",
       "57                                 کارت پاسارگاد 7542           7       1398  \n",
       "58                                 کارت پاسارگاد 7542           7       1398  \n",
       "59                                 کارت پاسارگاد 7542           7       1398  \n",
       "60                                 کارت پاسارگاد 7542           7       1398  \n",
       "\n",
       "[61 rows x 13 columns]"
      ]
     },
     "execution_count": 42,
     "metadata": {},
     "output_type": "execute_result"
    }
   ],
   "source": [
    "data.loc[data['Date_Month']== 7]"
   ]
  },
  {
   "cell_type": "code",
   "execution_count": 157,
   "metadata": {},
   "outputs": [
    {
     "data": {
      "text/plain": [
       "(1635, 14)"
      ]
     },
     "execution_count": 157,
     "metadata": {},
     "output_type": "execute_result"
    }
   ],
   "source": [
    "data.shape"
   ]
  },
  {
   "cell_type": "markdown",
   "metadata": {},
   "source": [
    "برای این که در حذف نقاط پرت اختلال ایجاد نشود و همچنین در محاسبات بعدی مربوط به قیمت صفرها را حذف  می کنیم"
   ]
  },
  {
   "cell_type": "markdown",
   "metadata": {},
   "source": [
    "سطرهایی را انتخاب می کنیم که قیمت تهی نباشد"
   ]
  },
  {
   "cell_type": "code",
   "execution_count": 6,
   "metadata": {},
   "outputs": [],
   "source": [
    "out=data[data['Price'].notna()]"
   ]
  },
  {
   "cell_type": "code",
   "execution_count": 7,
   "metadata": {},
   "outputs": [],
   "source": [
    "x=np.array(out['Order_Id'])"
   ]
  },
  {
   "cell_type": "code",
   "execution_count": 160,
   "metadata": {},
   "outputs": [],
   "source": [
    "rows=out.shape[0]"
   ]
  },
  {
   "cell_type": "code",
   "execution_count": 8,
   "metadata": {},
   "outputs": [
    {
     "name": "stderr",
     "output_type": "stream",
     "text": [
      "C:\\ProgramData\\Anaconda3\\lib\\site-packages\\ipykernel_launcher.py:1: SettingWithCopyWarning: \n",
      "A value is trying to be set on a copy of a slice from a DataFrame.\n",
      "Try using .loc[row_indexer,col_indexer] = value instead\n",
      "\n",
      "See the caveats in the documentation: http://pandas.pydata.org/pandas-docs/stable/indexing.html#indexing-view-versus-copy\n",
      "  \"\"\"Entry point for launching an IPython kernel.\n"
     ]
    }
   ],
   "source": [
    "out['Price'] = out['Price'].astype(int)"
   ]
  },
  {
   "cell_type": "code",
   "execution_count": 9,
   "metadata": {},
   "outputs": [],
   "source": [
    "def Remove_Outlier_Indices(out):\n",
    "    Q1 = out['Price'].quantile(0.25)\n",
    "    Q3 = out['Price'].quantile(0.75)\n",
    "    IQR = Q3 - Q1\n",
    "    trueList = ~((out['Price'] < (Q1 - 1.5 * IQR)) |(out['Price'] > (Q3 + 1.5 * IQR)))\n",
    "    return trueList"
   ]
  },
  {
   "cell_type": "code",
   "execution_count": 10,
   "metadata": {},
   "outputs": [],
   "source": [
    "nonOutlierList = Remove_Outlier_Indices(out)"
   ]
  },
  {
   "cell_type": "code",
   "execution_count": 11,
   "metadata": {},
   "outputs": [],
   "source": [
    "dfSubset = out[nonOutlierList]"
   ]
  },
  {
   "cell_type": "code",
   "execution_count": 12,
   "metadata": {},
   "outputs": [],
   "source": [
    "dataout=dfSubset"
   ]
  },
  {
   "cell_type": "markdown",
   "metadata": {},
   "source": [
    "# تحلیل فروش کل  "
   ]
  },
  {
   "cell_type": "markdown",
   "metadata": {},
   "source": [
    "This result shows the amont of sales in each month, as you see in the fourth month which means Tir the Bargil has had most amount \n",
    "of sales"
   ]
  },
  {
   "cell_type": "markdown",
   "metadata": {},
   "source": [
    "اگر قیمت هایی که تهی هست را دنظر نگیریم ماه هایی که قیمت حتی یک سطر در آنها تهی هست در خروجی ظاهر نمی شوند چون تهی یک متغیر تعریف نشده می باشد"
   ]
  },
  {
   "cell_type": "code",
   "execution_count": 13,
   "metadata": {},
   "outputs": [],
   "source": [
    "s=data[data['Price'].notna()]"
   ]
  },
  {
   "cell_type": "code",
   "execution_count": 14,
   "metadata": {},
   "outputs": [
    {
     "name": "stderr",
     "output_type": "stream",
     "text": [
      "C:\\ProgramData\\Anaconda3\\lib\\site-packages\\ipykernel_launcher.py:1: SettingWithCopyWarning: \n",
      "A value is trying to be set on a copy of a slice from a DataFrame.\n",
      "Try using .loc[row_indexer,col_indexer] = value instead\n",
      "\n",
      "See the caveats in the documentation: http://pandas.pydata.org/pandas-docs/stable/indexing.html#indexing-view-versus-copy\n",
      "  \"\"\"Entry point for launching an IPython kernel.\n"
     ]
    }
   ],
   "source": [
    "s['Price'] = s['Price'].astype(int)"
   ]
  },
  {
   "cell_type": "code",
   "execution_count": 227,
   "metadata": {},
   "outputs": [],
   "source": [
    "from matplotlib.font_manager import FontProperties"
   ]
  },
  {
   "cell_type": "code",
   "execution_count": 228,
   "metadata": {},
   "outputs": [],
   "source": [
    "fontP = FontProperties()\n",
    "#fontP.set_size('xx-small')"
   ]
  },
  {
   "cell_type": "code",
   "execution_count": 233,
   "metadata": {},
   "outputs": [],
   "source": [
    "import seaborn as sns\n",
    "sns.set()"
   ]
  },
  {
   "cell_type": "code",
   "execution_count": 234,
   "metadata": {},
   "outputs": [
    {
     "data": {
      "text/plain": [
       "Date_Month\n",
       "9     204395387\n",
       "12    144836580\n",
       "5      63462496\n",
       "4      53378850\n",
       "2      45546340\n",
       "3      35805190\n",
       "1      34806600\n",
       "11     33994143\n",
       "10     33966670\n",
       "8      18080054\n",
       "7      14744675\n",
       "Name: Price, dtype: int32"
      ]
     },
     "execution_count": 234,
     "metadata": {},
     "output_type": "execute_result"
    },
    {
     "data": {
      "image/png": "[encoded data removed]",
      "text/plain": [
       "<Figure size 640x480 with 1 Axes>"
      ]
     },
     "metadata": {},
     "output_type": "display_data"
    },
    {
     "data": {
      "text/plain": [
       "<Figure size 1000x2000 with 0 Axes>"
      ]
     },
     "metadata": {},
     "output_type": "display_data"
    }
   ],
   "source": [
    "s.groupby(['Date_Month'])['Price'].sum().plot.bar()\n",
    "colors = {'Farvardin':'blue','Ordibehesht':'orange','Khordad':'green','Tir':'red','Mordad':'purple','Mehr':'saddlebrown',\n",
    "         'Aban':'Pink','Azar':'gray','Dey':'olive','Bhaman':'cyan','Esfand':'royalblue'} \n",
    "plt.style.use('seaborn-whitegrid')\n",
    "plt.rcParams.update(plt.rcParamsDefault)\n",
    "labels = list(colors.keys())\n",
    "handles = [plt.Rectangle((0,0),1,1, color=colors[label]) for label in labels]\n",
    "plt.legend(handles, labels, bbox_to_anchor=(1.05, 1), loc=2, prop=fontP)\n",
    "plt.title('total sales analysis')\n",
    "plt.xlabel('Month')\n",
    "plt.ylabel('Price(number * 100million)')\n",
    "#plt.ylim(11000000,155000000)\n",
    "ax = plt.gca()\n",
    "ax.tick_params(axis='x', colors='blue')\n",
    "ax.tick_params(axis='y', colors='red')\n",
    "plt.figure(figsize=(10,20))\n",
    "s.groupby(['Date_Month'])['Price'].sum().sort_values(ascending=False)"
   ]
  },
  {
   "cell_type": "markdown",
   "metadata": {},
   "source": [
    "# تحلیل زمانی میانگین ارزش سبد خرید"
   ]
  },
  {
   "cell_type": "markdown",
   "metadata": {},
   "source": [
    "Time analysis of the average value of the shopping "
   ]
  },
  {
   "cell_type": "markdown",
   "metadata": {},
   "source": [
    "در اینجا از جدولی استفاده می کنیم که نقاط پرت حذف شده باشد"
   ]
  },
  {
   "cell_type": "code",
   "execution_count": 238,
   "metadata": {},
   "outputs": [],
   "source": [
    "import seaborn as sns\n",
    "sns.set()"
   ]
  },
  {
   "cell_type": "code",
   "execution_count": 236,
   "metadata": {},
   "outputs": [],
   "source": [
    "g=dataout.groupby(['Date_Month'])['Price'].mean()"
   ]
  },
  {
   "cell_type": "code",
   "execution_count": 239,
   "metadata": {},
   "outputs": [
    {
     "data": {
      "text/plain": [
       "Date_Month\n",
       "1     252343.307087\n",
       "2     243604.080000\n",
       "3     224223.527132\n",
       "4     270905.312500\n",
       "5     251022.465608\n",
       "7     231932.644068\n",
       "8     225290.400000\n",
       "9     263873.151515\n",
       "10    230508.188679\n",
       "11    242523.583333\n",
       "12    305454.473913\n",
       "Name: Price, dtype: float64"
      ]
     },
     "execution_count": 239,
     "metadata": {},
     "output_type": "execute_result"
    },
    {
     "data": {
      "image/png": "[encoded data removed]",
      "text/plain": [
       "<Figure size 640x480 with 1 Axes>"
      ]
     },
     "metadata": {},
     "output_type": "display_data"
    }
   ],
   "source": [
    "g.plot.bar()\n",
    "colors = {'Farvardin':'cornflowerblue','Ordibehesht':'orange','Khordad':'green','Tir':'red','Mehr':'purple','Aban':'saddlebrown',\n",
    "         'Azar':'Pink','Dey':'gray','Bahman':'olive','Esfand':'lightsteelblue','Mordad':'royalblue'} \n",
    "plt.rcParams.update(plt.rcParamsDefault)\n",
    "labels = list(colors.keys())\n",
    "handles = [plt.Rectangle((0,0),1,1, color=colors[label]) for label in labels]\n",
    "plt.legend(handles, labels, bbox_to_anchor=(1.05, 1), loc=2, prop=fontP)\n",
    "plt.xlabel('Month')\n",
    "plt.ylabel('price(toman)')\n",
    "plt.ylim(200000,320000)\n",
    "plt.title('Time analysis of the average value of the shopping')\n",
    "#plt.figure(figsize=(10,20))\n",
    "g"
   ]
  },
  {
   "cell_type": "markdown",
   "metadata": {},
   "source": [
    "# تحلیل کانال های فروش- جمع کل فروش هر کانال"
   ]
  },
  {
   "cell_type": "markdown",
   "metadata": {},
   "source": [
    " Sales channel analysis"
   ]
  },
  {
   "cell_type": "code",
   "execution_count": 15,
   "metadata": {},
   "outputs": [
    {
     "name": "stderr",
     "output_type": "stream",
     "text": [
      "C:\\ProgramData\\Anaconda3\\lib\\site-packages\\ipykernel_launcher.py:2: SettingWithCopyWarning: \n",
      "A value is trying to be set on a copy of a slice from a DataFrame.\n",
      "Try using .loc[row_indexer,col_indexer] = value instead\n",
      "\n",
      "See the caveats in the documentation: http://pandas.pydata.org/pandas-docs/stable/indexing.html#indexing-view-versus-copy\n",
      "  \n"
     ]
    }
   ],
   "source": [
    "ch=data[data['Price'].notna()]\n",
    "ch['Price'] = ch['Price'].astype(int)"
   ]
  },
  {
   "cell_type": "code",
   "execution_count": 16,
   "metadata": {},
   "outputs": [
    {
     "name": "stderr",
     "output_type": "stream",
     "text": [
      "C:\\ProgramData\\Anaconda3\\lib\\site-packages\\ipykernel_launcher.py:2: SettingWithCopyWarning: \n",
      "A value is trying to be set on a copy of a slice from a DataFrame.\n",
      "Try using .loc[row_indexer,col_indexer] = value instead\n",
      "\n",
      "See the caveats in the documentation: http://pandas.pydata.org/pandas-docs/stable/indexing.html#indexing-view-versus-copy\n",
      "  \n"
     ]
    }
   ],
   "source": [
    "ch1=ch[ch['Channel'].notna()]\n",
    "ch1['Channel'] = ch1['Channel'].astype(int)"
   ]
  },
  {
   "cell_type": "code",
   "execution_count": 242,
   "metadata": {},
   "outputs": [],
   "source": [
    "import seaborn as sns\n",
    "sns.set()"
   ]
  },
  {
   "cell_type": "code",
   "execution_count": 262,
   "metadata": {},
   "outputs": [],
   "source": [
    "plt.xlabel?"
   ]
  },
  {
   "cell_type": "code",
   "execution_count": 271,
   "metadata": {},
   "outputs": [
    {
     "data": {
      "text/plain": [
       "Channel\n",
       "1    371779033\n",
       "3    188398255\n",
       "2    106394118\n",
       "5      6147308\n",
       "4      4945888\n",
       "Name: Price, dtype: int32"
      ]
     },
     "execution_count": 271,
     "metadata": {},
     "output_type": "execute_result"
    },
    {
     "data": {
      "image/png": "[encoded data removed]",
      "text/plain": [
       "<Figure size 640x480 with 1 Axes>"
      ]
     },
     "metadata": {},
     "output_type": "display_data"
    },
    {
     "data": {
      "text/plain": [
       "<Figure size 500x1000 with 0 Axes>"
      ]
     },
     "metadata": {},
     "output_type": "display_data"
    }
   ],
   "source": [
    "ch1.groupby(['Channel'])['Price'].sum().plot.bar()\n",
    "plt.rcParams.update(plt.rcParamsDefault)\n",
    "colors = {'website':'blue','instagram':'red','phone and whatsapp':'yellow','snap':'green','other':'gray'} \n",
    "labels = list(colors.keys())\n",
    "handles = [plt.Rectangle((0,0),1,1, color=colors[label]) for label in labels]\n",
    "plt.legend(handles, labels, loc=1, prop=fontP)\n",
    "plt.style.use('fivethirtyeight')\n",
    "plt.ylabel('price(number * 100milion)')\n",
    "plt.xlabel('channel')\n",
    "ax.spines['bottom'].set_color('red')\n",
    "plt.title('Sales channel analysis')\n",
    "plt.figure(figsize=(5,10))\n",
    "ch1.groupby(['Channel'])['Price'].sum().sort_values(ascending=False)"
   ]
  },
  {
   "cell_type": "markdown",
   "metadata": {},
   "source": [
    "# تحلیل کانال های فروش تعداد تراکنش ها"
   ]
  },
  {
   "cell_type": "code",
   "execution_count": 244,
   "metadata": {},
   "outputs": [
    {
     "name": "stderr",
     "output_type": "stream",
     "text": [
      "C:\\ProgramData\\Anaconda3\\lib\\site-packages\\ipykernel_launcher.py:2: SettingWithCopyWarning: \n",
      "A value is trying to be set on a copy of a slice from a DataFrame.\n",
      "Try using .loc[row_indexer,col_indexer] = value instead\n",
      "\n",
      "See the caveats in the documentation: http://pandas.pydata.org/pandas-docs/stable/indexing.html#indexing-view-versus-copy\n",
      "  \n"
     ]
    }
   ],
   "source": [
    "ch2=data[data['Channel'].notna()]\n",
    "ch2['Channel'] = ch2['Channel'].astype(int)"
   ]
  },
  {
   "cell_type": "code",
   "execution_count": 272,
   "metadata": {},
   "outputs": [
    {
     "data": {
      "text/plain": [
       "Channel\n",
       "1    1112\n",
       "2     369\n",
       "3      94\n",
       "5      27\n",
       "4      20\n",
       "Name: Order_Id, dtype: int64"
      ]
     },
     "execution_count": 272,
     "metadata": {},
     "output_type": "execute_result"
    },
    {
     "data": {
      "image/png": "[encoded data removed]",
      "text/plain": [
       "<Figure size 640x480 with 1 Axes>"
      ]
     },
     "metadata": {},
     "output_type": "display_data"
    },
    {
     "data": {
      "text/plain": [
       "<Figure size 1000x2000 with 0 Axes>"
      ]
     },
     "metadata": {},
     "output_type": "display_data"
    }
   ],
   "source": [
    "ch2.groupby(['Channel'])['Order_Id'].count().sort_values(ascending=False).plot.bar()\n",
    "plt.rcParams.update(plt.rcParamsDefault)\n",
    "colors = {'website':'blue','instagram':'red','phone and whatsapp':'yellow','snap':'green','other':'gray'} \n",
    "labels = list(colors.keys())\n",
    "handles = [plt.Rectangle((0,0),1,1, color=colors[label]) for label in labels]\n",
    "plt.legend(handles, labels, loc=1, prop=fontP)\n",
    "plt.style.use( 'ggplot')\n",
    "plt.ylabel('number of order')\n",
    "plt.xlabel('channel')\n",
    "plt.title('channel_order  ')\n",
    "plt.figure(figsize=(10,20))\n",
    "ch2.groupby(['Channel'])['Order_Id'].count().sort_values(ascending=False)"
   ]
  },
  {
   "cell_type": "markdown",
   "metadata": {},
   "source": [
    "# براساس هرماه"
   ]
  },
  {
   "cell_type": "code",
   "execution_count": 254,
   "metadata": {},
   "outputs": [],
   "source": [
    "import seaborn as sns\n",
    "sns.set()"
   ]
  },
  {
   "cell_type": "code",
   "execution_count": 60,
   "metadata": {},
   "outputs": [],
   "source": [
    "%matplotlib inline"
   ]
  },
  {
   "cell_type": "code",
   "execution_count": 255,
   "metadata": {},
   "outputs": [
    {
     "data": {
      "text/plain": [
       "Date_Month  Channel\n",
       "1           1           99\n",
       "            2           24\n",
       "            3            3\n",
       "            4            1\n",
       "2           1           98\n",
       "            2           17\n",
       "            3           14\n",
       "            5            2\n",
       "3           1          106\n",
       "            2           21\n",
       "            3            2\n",
       "            4            1\n",
       "            5            2\n",
       "4           1          134\n",
       "            2           29\n",
       "            3            2\n",
       "5           1          166\n",
       "            2           26\n",
       "            3           10\n",
       "            5            1\n",
       "7           1           13\n",
       "            2           45\n",
       "            3            3\n",
       "8           1           40\n",
       "            2           12\n",
       "            3            2\n",
       "            5            3\n",
       "9           1          148\n",
       "            2           70\n",
       "            3           23\n",
       "            4            5\n",
       "            5            8\n",
       "10          1           57\n",
       "            2           41\n",
       "            3            8\n",
       "            4            6\n",
       "            5            1\n",
       "11          1           70\n",
       "            2           26\n",
       "            3            6\n",
       "            4            4\n",
       "            5           10\n",
       "12          1          181\n",
       "            2           58\n",
       "            3           21\n",
       "            4            3\n",
       "Name: Order_Id, dtype: int64"
      ]
     },
     "execution_count": 255,
     "metadata": {},
     "output_type": "execute_result"
    },
    {
     "data": {
      "image/png": "[encoded data removed]",
      "text/plain": [
       "<Figure size 640x480 with 1 Axes>"
      ]
     },
     "metadata": {},
     "output_type": "display_data"
    },
    {
     "data": {
      "text/plain": [
       "<Figure size 1000x2000 with 0 Axes>"
      ]
     },
     "metadata": {},
     "output_type": "display_data"
    }
   ],
   "source": [
    "ch2.groupby(['Date_Month','Channel'])['Order_Id'].count().unstack('Channel').plot.bar()\n",
    "plt.rcParams.update(plt.rcParamsDefault)\n",
    "plt.style.use('grayscale')\n",
    "plt.ylabel('number of order')\n",
    "plt.xlabel('month(1:Farvardin,2:ordibehsht,3:khordad,4:tir,5:mordad,7:mehr,8:aban,9:azar,10:dey,11:bahman,12:esfand)')\n",
    "plt.title('channel_order per month ')\n",
    "plt.figure(figsize=(10,20))\n",
    "ch2.groupby(['Date_Month','Channel'])['Order_Id'].count()"
   ]
  },
  {
   "cell_type": "code",
   "execution_count": null,
   "metadata": {},
   "outputs": [],
   "source": []
  },
  {
   "cell_type": "markdown",
   "metadata": {},
   "source": [
    "در اینجا از جدول دوم استفاده شده است جایی که نقاط پرت حذف  شده است"
   ]
  },
  {
   "cell_type": "markdown",
   "metadata": {},
   "source": [
    "#  کانال های فروش-AOV"
   ]
  },
  {
   "cell_type": "code",
   "execution_count": 66,
   "metadata": {},
   "outputs": [],
   "source": [
    "ch3= dataout[dataout['Channel'].notna()]"
   ]
  },
  {
   "cell_type": "code",
   "execution_count": 67,
   "metadata": {},
   "outputs": [
    {
     "name": "stderr",
     "output_type": "stream",
     "text": [
      "C:\\ProgramData\\Anaconda3\\lib\\site-packages\\ipykernel_launcher.py:1: SettingWithCopyWarning: \n",
      "A value is trying to be set on a copy of a slice from a DataFrame.\n",
      "Try using .loc[row_indexer,col_indexer] = value instead\n",
      "\n",
      "See the caveats in the documentation: http://pandas.pydata.org/pandas-docs/stable/indexing.html#indexing-view-versus-copy\n",
      "  \"\"\"Entry point for launching an IPython kernel.\n"
     ]
    }
   ],
   "source": [
    "ch3['Channel']=ch3['Channel'].astype(int)"
   ]
  },
  {
   "cell_type": "code",
   "execution_count": 257,
   "metadata": {},
   "outputs": [],
   "source": [
    "import seaborn as sns\n",
    "sns.set()"
   ]
  },
  {
   "cell_type": "code",
   "execution_count": 258,
   "metadata": {},
   "outputs": [
    {
     "data": {
      "text/plain": [
       "Channel\n",
       "1    254271.776616\n",
       "2    260218.547337\n",
       "3    323285.631579\n",
       "4    178549.176471\n",
       "5    197339.653846\n",
       "Name: Price, dtype: float64"
      ]
     },
     "execution_count": 258,
     "metadata": {},
     "output_type": "execute_result"
    },
    {
     "data": {
      "image/png": "[encoded data removed]",
      "text/plain": [
       "<Figure size 640x480 with 1 Axes>"
      ]
     },
     "metadata": {},
     "output_type": "display_data"
    }
   ],
   "source": [
    "channel=ch3.groupby(['Channel'])['Price'].mean().sort_values(ascending=False)\n",
    "channel.plot.bar()\n",
    "plt.rcParams.update(plt.rcParamsDefault)\n",
    "plt.style.use('ggplot')\n",
    "plt.ylim(150000,340000)\n",
    "plt.ylabel('price(toman)')\n",
    "plt.xlabel('channel(1:website, 2:instagram, 3:phone and whatsaap, 4:snapfood, 5:other)')\n",
    "plt.title('AOV in channel ')\n",
    "ch3.groupby(['Channel'])['Price'].mean()"
   ]
  },
  {
   "cell_type": "markdown",
   "metadata": {},
   "source": [
    "# براساس هرماه"
   ]
  },
  {
   "cell_type": "code",
   "execution_count": 259,
   "metadata": {},
   "outputs": [
    {
     "data": {
      "text/plain": [
       "Date_Month  Channel\n",
       "1           1          263862.244898\n",
       "            2          220145.833333\n",
       "            3          290100.000000\n",
       "            4           10000.000000\n",
       "2           1          239121.979167\n",
       "            2          214797.058824\n",
       "            3          384805.555556\n",
       "            5          153500.000000\n",
       "3           1          232081.225490\n",
       "            2          201919.047619\n",
       "            3          264500.000000\n",
       "            4           89000.000000\n",
       "            5          144625.000000\n",
       "4           1          271534.251969\n",
       "            2          255357.142857\n",
       "            3          503900.000000\n",
       "5           1          247686.084967\n",
       "            2          263167.000000\n",
       "            3          277200.000000\n",
       "            5          118500.000000\n",
       "7           1          182058.923077\n",
       "            2          246641.720930\n",
       "            3          237222.000000\n",
       "8           1          240721.947368\n",
       "            2          144743.166667\n",
       "            3          177217.500000\n",
       "            5          384061.666667\n",
       "9           1          261153.368056\n",
       "            2          283044.767857\n",
       "            3          268663.105263\n",
       "            4           81823.500000\n",
       "            5          258276.625000\n",
       "10          1          222432.446429\n",
       "            2          233343.205128\n",
       "            3          271574.800000\n",
       "            4          277535.200000\n",
       "            5          131716.000000\n",
       "11          1          236700.939394\n",
       "            2          316939.250000\n",
       "            3          248105.400000\n",
       "            4          164312.250000\n",
       "            5          118440.777778\n",
       "12          1          285709.616352\n",
       "            2          329579.551020\n",
       "            3          421197.736842\n",
       "            4          282058.500000\n",
       "Name: Price, dtype: float64"
      ]
     },
     "execution_count": 259,
     "metadata": {},
     "output_type": "execute_result"
    },
    {
     "data": {
      "image/png": "[encoded data removed]",
      "text/plain": [
       "<Figure size 640x480 with 1 Axes>"
      ]
     },
     "metadata": {},
     "output_type": "display_data"
    }
   ],
   "source": [
    "ch3.groupby(['Date_Month','Channel'])['Price'].mean().unstack('Channel').plot.bar()\n",
    "plt.ylabel('price(toman)')\n",
    "plt.xlabel('month(1:Farvardin,2:ordibehsht,3:khordad,4:tir,5:mordad,7:mehr,8:aban,9:azar,10:dey,11:bahman,12:esfand)')\n",
    "plt.title('AOV in channel_per month')\n",
    "ch3.groupby(['Date_Month','Channel'])['Price'].mean()"
   ]
  },
  {
   "cell_type": "code",
   "execution_count": null,
   "metadata": {},
   "outputs": [],
   "source": [
    "a[['Phone','Order_Id']]\n",
    "x = a['Phone'].values\n",
    "y = b['Phone'].values\n",
    "z = pd.Series(a['Phone'])\n",
    "a=alltable.loc[alltable['Date_Month'] == 1]\n",
    "s3= np.append (s1,s2)\n",
    "x = np.unique(s3)"
   ]
  },
  {
   "cell_type": "code",
   "execution_count": 273,
   "metadata": {},
   "outputs": [
    {
     "data": {
      "text/html": [
       "<div>\n",
       "<style scoped>\n",
       "    .dataframe tbody tr th:only-of-type {\n",
       "        vertical-align: middle;\n",
       "    }\n",
       "\n",
       "    .dataframe tbody tr th {\n",
       "        vertical-align: top;\n",
       "    }\n",
       "\n",
       "    .dataframe thead th {\n",
       "        text-align: right;\n",
       "    }\n",
       "</style>\n",
       "<table border=\"1\" class=\"dataframe\">\n",
       "  <thead>\n",
       "    <tr style=\"text-align: right;\">\n",
       "      <th></th>\n",
       "      <th>Order_Id</th>\n",
       "      <th>Channel</th>\n",
       "      <th>Name</th>\n",
       "      <th>Phone</th>\n",
       "      <th>Address</th>\n",
       "      <th>Postal Code</th>\n",
       "      <th>Send_Type</th>\n",
       "      <th>Send _Date</th>\n",
       "      <th>Discoutn</th>\n",
       "      <th>Price</th>\n",
       "      <th>Payment_Type</th>\n",
       "      <th>Date_Month</th>\n",
       "      <th>Date_Year</th>\n",
       "      <th>Price_2</th>\n",
       "    </tr>\n",
       "  </thead>\n",
       "  <tbody>\n",
       "    <tr>\n",
       "      <th>0</th>\n",
       "      <td>1</td>\n",
       "      <td>1.0</td>\n",
       "      <td>پانته آ پارسایی</td>\n",
       "      <td>09354552718</td>\n",
       "      <td>تهران کیلومتر 8 بزرگراه فتح  شرکت صنعتی بهشهر</td>\n",
       "      <td>1386934311</td>\n",
       "      <td>تی نکست</td>\n",
       "      <td>NaN</td>\n",
       "      <td>ـ</td>\n",
       "      <td>206222.607453</td>\n",
       "      <td>پی پینگ</td>\n",
       "      <td>7</td>\n",
       "      <td>1398</td>\n",
       "      <td>155000.0</td>\n",
       "    </tr>\n",
       "    <tr>\n",
       "      <th>1</th>\n",
       "      <td>2</td>\n",
       "      <td>1.0</td>\n",
       "      <td>ندا ابراهیم پور</td>\n",
       "      <td>09144628935</td>\n",
       "      <td>آذربایجان غربی ماکو آذربایجان غربی ماکو بلوار ...</td>\n",
       "      <td>5861685838</td>\n",
       "      <td>پست</td>\n",
       "      <td>۱۳۹۸/۸/۱</td>\n",
       "      <td>سه شنبه های بارجیلی</td>\n",
       "      <td>99785.132638</td>\n",
       "      <td>پی پینگ</td>\n",
       "      <td>7</td>\n",
       "      <td>1398</td>\n",
       "      <td>75000.0</td>\n",
       "    </tr>\n",
       "    <tr>\n",
       "      <th>2</th>\n",
       "      <td>3</td>\n",
       "      <td>1.0</td>\n",
       "      <td>هانیه امرایی</td>\n",
       "      <td>09304203740</td>\n",
       "      <td>لرستان خرم آباد علوی کوچه شهید کاظمیان روبروی ...</td>\n",
       "      <td>6814636800</td>\n",
       "      <td>پست</td>\n",
       "      <td>۱۳۹۸/۸/۱</td>\n",
       "      <td>سه شنبه های بارجیلی</td>\n",
       "      <td>237222.521992</td>\n",
       "      <td>پی پینگ</td>\n",
       "      <td>7</td>\n",
       "      <td>1398</td>\n",
       "      <td>178300.0</td>\n",
       "    </tr>\n",
       "    <tr>\n",
       "      <th>3</th>\n",
       "      <td>4</td>\n",
       "      <td>1.0</td>\n",
       "      <td>مونا کنعانی</td>\n",
       "      <td>09125967037</td>\n",
       "      <td>تهران خيابان دكتر علي شريعتي بالاتر از ميراماد...</td>\n",
       "      <td>1948845341</td>\n",
       "      <td>پیک</td>\n",
       "      <td>NaN</td>\n",
       "      <td>سه شنبه های بارجیلی</td>\n",
       "      <td>278600.090326</td>\n",
       "      <td>پی پینگ</td>\n",
       "      <td>7</td>\n",
       "      <td>1398</td>\n",
       "      <td>209400.0</td>\n",
       "    </tr>\n",
       "    <tr>\n",
       "      <th>4</th>\n",
       "      <td>5</td>\n",
       "      <td>1.0</td>\n",
       "      <td>محمد مهدی آصفی</td>\n",
       "      <td>09177141377</td>\n",
       "      <td>تهران خیابان ولیعصر، ایستگاه خبرنگاران، بن بست...</td>\n",
       "      <td>1966843584</td>\n",
       "      <td>تی نکست</td>\n",
       "      <td>NaN</td>\n",
       "      <td>سه شنبه های بارجیلی</td>\n",
       "      <td>159124.024847</td>\n",
       "      <td>پی پینگ</td>\n",
       "      <td>7</td>\n",
       "      <td>1398</td>\n",
       "      <td>119600.0</td>\n",
       "    </tr>\n",
       "  </tbody>\n",
       "</table>\n",
       "</div>"
      ],
      "text/plain": [
       "   Order_Id  Channel             Name        Phone  \\\n",
       "0         1      1.0  پانته آ پارسایی  09354552718   \n",
       "1         2      1.0  ندا ابراهیم پور  09144628935   \n",
       "2         3      1.0     هانیه امرایی  09304203740   \n",
       "3         4      1.0      مونا کنعانی  09125967037   \n",
       "4         5      1.0   محمد مهدی آصفی  09177141377   \n",
       "\n",
       "                                             Address Postal Code Send_Type  \\\n",
       "0      تهران کیلومتر 8 بزرگراه فتح  شرکت صنعتی بهشهر  1386934311   تی نکست   \n",
       "1  آذربایجان غربی ماکو آذربایجان غربی ماکو بلوار ...  5861685838       پست   \n",
       "2  لرستان خرم آباد علوی کوچه شهید کاظمیان روبروی ...  6814636800       پست   \n",
       "3  تهران خيابان دكتر علي شريعتي بالاتر از ميراماد...  1948845341       پیک   \n",
       "4  تهران خیابان ولیعصر، ایستگاه خبرنگاران، بن بست...  1966843584   تی نکست   \n",
       "\n",
       "  Send _Date             Discoutn          Price Payment_Type  Date_Month  \\\n",
       "0        NaN                    ـ  206222.607453      پی پینگ           7   \n",
       "1   ۱۳۹۸/۸/۱  سه شنبه های بارجیلی   99785.132638      پی پینگ           7   \n",
       "2   ۱۳۹۸/۸/۱  سه شنبه های بارجیلی  237222.521992      پی پینگ           7   \n",
       "3        NaN  سه شنبه های بارجیلی  278600.090326      پی پینگ           7   \n",
       "4        NaN  سه شنبه های بارجیلی  159124.024847      پی پینگ           7   \n",
       "\n",
       "   Date_Year   Price_2  \n",
       "0       1398  155000.0  \n",
       "1       1398   75000.0  \n",
       "2       1398  178300.0  \n",
       "3       1398  209400.0  \n",
       "4       1398  119600.0  "
      ]
     },
     "execution_count": 273,
     "metadata": {},
     "output_type": "execute_result"
    }
   ],
   "source": [
    "data.head()"
   ]
  },
  {
   "cell_type": "markdown",
   "metadata": {},
   "source": [
    "# محاسبه نرخ برگشت کاربر"
   ]
  },
  {
   "cell_type": "code",
   "execution_count": 80,
   "metadata": {},
   "outputs": [],
   "source": [
    "m=np.array(data['Phone'][data['Date_Month']==7].unique())\n",
    "a=np.array(data['Phone'][data['Date_Month']==8].unique())\n",
    "z=np.array(data['Phone'][data['Date_Month']==9].unique())\n",
    "d=np.array(data['Phone'][data['Date_Month']==10].unique())\n",
    "b=np.array(data['Phone'][data['Date_Month']==11].unique())\n",
    "e=np.array(data['Phone'][data['Date_Month']==12].unique())\n",
    "f=np.array(data['Phone'][data['Date_Month']==1].unique())\n",
    "o=np.array(data['Phone'][data['Date_Month']==2].unique())\n",
    "k=np.array(data['Phone'][data['Date_Month']==3].unique())\n",
    "t=np.array(data['Phone'][data['Date_Month']==4].unique())"
   ]
  },
  {
   "cell_type": "code",
   "execution_count": 81,
   "metadata": {},
   "outputs": [],
   "source": [
    "mr=np.array(data['Phone'][data['Date_Month']==5].unique())"
   ]
  },
  {
   "cell_type": "markdown",
   "metadata": {},
   "source": [
    "# data cleaning"
   ]
  },
  {
   "cell_type": "markdown",
   "metadata": {},
   "source": [
    "mehr"
   ]
  },
  {
   "cell_type": "code",
   "execution_count": 82,
   "metadata": {},
   "outputs": [],
   "source": [
    "m[15]='09112565767'"
   ]
  },
  {
   "cell_type": "markdown",
   "metadata": {},
   "source": [
    "azar"
   ]
  },
  {
   "cell_type": "code",
   "execution_count": null,
   "metadata": {},
   "outputs": [],
   "source": [
    "'09114804917','09126004295','09128077296','09128142855','09129477010','09199147277','09192530803','09122581061','093654692295'\n",
    "'09122774208','09354959009''09907357636','09126206472','09121891499','09121520803','09029178851'"
   ]
  },
  {
   "cell_type": "code",
   "execution_count": null,
   "metadata": {},
   "outputs": [],
   "source": [
    "#09907357636,09126206472,09121891499,09121520803,09029178851"
   ]
  },
  {
   "cell_type": "code",
   "execution_count": 298,
   "metadata": {},
   "outputs": [],
   "source": [
    "#z[11]='09114804917'"
   ]
  },
  {
   "cell_type": "code",
   "execution_count": 299,
   "metadata": {},
   "outputs": [],
   "source": [
    "#z[35]='09126004295'"
   ]
  },
  {
   "cell_type": "code",
   "execution_count": 300,
   "metadata": {},
   "outputs": [],
   "source": [
    "#z[66]='09128077296'"
   ]
  },
  {
   "cell_type": "code",
   "execution_count": 301,
   "metadata": {},
   "outputs": [],
   "source": [
    "#z[81]='09128142855'"
   ]
  },
  {
   "cell_type": "code",
   "execution_count": 302,
   "metadata": {},
   "outputs": [],
   "source": [
    "#z[92]='09129477010'"
   ]
  },
  {
   "cell_type": "code",
   "execution_count": 303,
   "metadata": {},
   "outputs": [],
   "source": [
    "#z[123]='09199147277'"
   ]
  },
  {
   "cell_type": "code",
   "execution_count": 304,
   "metadata": {},
   "outputs": [],
   "source": [
    "#z[136]='09192530803'"
   ]
  },
  {
   "cell_type": "code",
   "execution_count": 305,
   "metadata": {},
   "outputs": [],
   "source": [
    "#z[156]='09122581061'"
   ]
  },
  {
   "cell_type": "code",
   "execution_count": 306,
   "metadata": {},
   "outputs": [],
   "source": [
    "#z[190]='093654692295'"
   ]
  },
  {
   "cell_type": "code",
   "execution_count": 307,
   "metadata": {},
   "outputs": [],
   "source": [
    "#z[198]='09122774208'"
   ]
  },
  {
   "cell_type": "code",
   "execution_count": 308,
   "metadata": {},
   "outputs": [],
   "source": [
    "#z[210]='09354959009'"
   ]
  },
  {
   "cell_type": "code",
   "execution_count": 83,
   "metadata": {},
   "outputs": [],
   "source": [
    "z = np.delete(z, [11,35,66,81,92,123,136,156,190,198,210])"
   ]
  },
  {
   "cell_type": "code",
   "execution_count": 84,
   "metadata": {},
   "outputs": [
    {
     "data": {
      "text/plain": [
       "216"
      ]
     },
     "execution_count": 84,
     "metadata": {},
     "output_type": "execute_result"
    }
   ],
   "source": [
    "z.size"
   ]
  },
  {
   "cell_type": "code",
   "execution_count": 85,
   "metadata": {},
   "outputs": [],
   "source": [
    "z=np.append(z,['09114804917','09126004295','09128077296','09128142855','09129477010','09199147277','09192530803','09122581061','093654692295'\n",
    ",'09122774208','09354959009''09907357636','09126206472','09121891499','09121520803','09029178851'])"
   ]
  },
  {
   "cell_type": "code",
   "execution_count": 86,
   "metadata": {},
   "outputs": [
    {
     "data": {
      "text/plain": [
       "231"
      ]
     },
     "execution_count": 86,
     "metadata": {},
     "output_type": "execute_result"
    }
   ],
   "source": [
    "z.size"
   ]
  },
  {
   "cell_type": "code",
   "execution_count": 310,
   "metadata": {},
   "outputs": [
    {
     "data": {
      "text/plain": [
       "array(['09907357636', '09126206472', '09121891499', '09121520803',\n",
       "       '09029178851', '09358645002', '09203195985', '9', '09124279260',\n",
       "       '09126550182', '09026164558', '09114804917', '09124386488',\n",
       "       '09393371162', '02144333688', '09119678966',\n",
       "       '09114804917\\n09907357636', '09126705003', '09363259133',\n",
       "       '09356153544', '09121507617', '09123875812', '09126418773',\n",
       "       '09128122805', '09156069327', '09123276388', '09194091305',\n",
       "       '09129510039', '09019544119', '09127795100', '09183421687',\n",
       "       '09128944975', '09141537203', '09121267867', '09358831319',\n",
       "       '09126004295', '77246927', '09352589500', '09121069784',\n",
       "       '09112820775', '09126004295\\n', '09360564402', '09126031164',\n",
       "       '09375331361', '09367986498', '09120136310', '09111530286',\n",
       "       '09203187202', '09193049021', '09126066578', '09122779863',\n",
       "       '09127038862', '09128214369', '09220596548', '09356659943',\n",
       "       '09123798523', '09133201376', '09143179246', '09148966003',\n",
       "       '09121300816', '09351349704', '09183647767', '09143188349',\n",
       "       '09151922920', '09212546712', '09125137907', '09128077296',\n",
       "       '09383158681', '09120309812', '09371951066', '09171166272',\n",
       "       '09128077296\\n', '09122801933', '09124244690', '09122779269',\n",
       "       '09135557848', '09112334096', '09129401363', '09363636105',\n",
       "       '09122714740', '09131142399', '09128142855', '09113310449',\n",
       "       '09303553055', '09912001620', '09166456960',\n",
       "       '09128142855\\n09126206472\\n', '09191483904', '09126764929',\n",
       "       '09363243511', '09198927595', '09378349609', '09129477010',\n",
       "       '09124095523', '09187762990', '09194741201', '09366081203',\n",
       "       '09129477010\\n', '09224028982', '09120221363', '09381900603',\n",
       "       '09128395183', '09122650218', '09122316922', '09113300175',\n",
       "       '09184040667', '09197262214', '09021368517', '09308989237',\n",
       "       '09132520204', '09126750558', '09127850406', '09132250324',\n",
       "       '09905068142', '09178576828', '09123111334', '09115004977',\n",
       "       '09189712588', '09130442988', '09122986158', '09121088707',\n",
       "       '09377950062', '09118108546', '09199147277', '09124720755',\n",
       "       '09358105400', '09193332995', '09126701652',\n",
       "       '09199147277\\n09121891499', '09123201734', '09158988661',\n",
       "       '09160555867', '09125616049', '09123335860', '09034607606',\n",
       "       '09120491521', '09192530803', '09398937536', '09166197591',\n",
       "       '09166315603', '09377795936', '09192530803\\n09121520803\\n',\n",
       "       '09361117536', '09129585373', '09191989808', '09125382146',\n",
       "       '09127212605', '09123518490', '09188428007', '09367146601',\n",
       "       '09122372831', '09396842031', '09123114577', '09373209935',\n",
       "       '09335693386', '09354498769', '09122581061', '09370329269',\n",
       "       '09198402066', '09128887665', '09181334496', '09122581061\\n',\n",
       "       '09192467239', '09378924419', '09151416297', '09121956040',\n",
       "       '09134092997', '09123440305', '09924613822', '09126858424',\n",
       "       '09360969510', '09371497773', '09198705709', '09102203224',\n",
       "       '09109412029', '09122341089', '09124079093', '09183528239',\n",
       "       '09302653014', '09124901271', '09196070023', '09398431033',\n",
       "       '09121247910', '9353000064', '09123463406', '09358713318',\n",
       "       '9122688488', '09188611638', '09142957203', '09372574549',\n",
       "       '093654692295', '09195298838', '09128168620', '09122870179',\n",
       "       '09121332903', '093654692295\\n09029178851', '09120915913',\n",
       "       '09120447485', '09122774208', '09121363544', '09133665531',\n",
       "       '09191034500', '09103994540', '09122774208\\n', '9130442988',\n",
       "       '09126906801', '09128333026', '09121053807', '09124358116',\n",
       "       '09127182353', '09354959009', '09363438399', '09128346302',\n",
       "       '09352001336', '09121312122', '\\n09354959009', '09126353599',\n",
       "       '09121332979', '09111176962', '09210068539', '09195540687',\n",
       "       '09371034834', '09335592227', '09365168193', '09188411698',\n",
       "       '09183141105', '09352270350', '09122027947', '09139721274',\n",
       "       '09147194313', '091255264516', '09120745315'], dtype=object)"
      ]
     },
     "execution_count": 310,
     "metadata": {},
     "output_type": "execute_result"
    }
   ],
   "source": [
    "z"
   ]
  },
  {
   "cell_type": "markdown",
   "metadata": {},
   "source": [
    "dey"
   ]
  },
  {
   "cell_type": "code",
   "execution_count": 191,
   "metadata": {},
   "outputs": [],
   "source": [
    "#d[0]='09351088808'"
   ]
  },
  {
   "cell_type": "code",
   "execution_count": 192,
   "metadata": {},
   "outputs": [],
   "source": [
    "#d[21]='09374993740'"
   ]
  },
  {
   "cell_type": "code",
   "execution_count": 193,
   "metadata": {},
   "outputs": [],
   "source": [
    "#d[79]='09353984940'"
   ]
  },
  {
   "cell_type": "code",
   "execution_count": 194,
   "metadata": {},
   "outputs": [],
   "source": [
    "#d[89]='09129477010'"
   ]
  },
  {
   "cell_type": "code",
   "execution_count": null,
   "metadata": {},
   "outputs": [],
   "source": [
    "'09351088808','09374993740','09353984940','09129477010'"
   ]
  },
  {
   "cell_type": "code",
   "execution_count": 112,
   "metadata": {},
   "outputs": [
    {
     "data": {
      "text/plain": [
       "array(['\\n09351088808', '09203195985', '09129309334', '09125474162',\n",
       "       '09108785742', '09123169661', '09128194416', '09143541713',\n",
       "       '09902941483', '09126786471', '10', '09380296978', '09125088270',\n",
       "       '09121300816', '09307565647', '09216517159', '09355013372',\n",
       "       '09924613822', '09038780908', '09335355120', '09351349704',\n",
       "       '\\n09374993740', '09129404721', '09125332301', '09126856331',\n",
       "       '09128103194', '09128860633', '09191009773', '09303553055',\n",
       "       '09120883371', '09111944501', '09121360384', '09354202211',\n",
       "       '09126130092', '09126130274', '09126431296', '09148966003',\n",
       "       '09122794327', '09152085239', '09126353599', '09128079426',\n",
       "       '09363438399', '09301494905', '9112528079', '09359215128',\n",
       "       '09121640259', '09197262214', '09209202220', '09198447921',\n",
       "       '09170322300', '09129280247', '9151415795', '02177345088',\n",
       "       '09123775015', '09377644393', '09376033743', '09034607606',\n",
       "       '09026164558', '09111523484', '09891261452', '09125304939',\n",
       "       '09183449041', '09360665598', '09162930371', '09124935461',\n",
       "       '09129212463', '09134092997', '09126858424', '09127207623',\n",
       "       '09185036707', '09352589500', '09355845804', '09125391947',\n",
       "       '09306225100', '09301107659', '09143534434', '09132693290',\n",
       "       '09182200562', '09122407858', '09353984940\\n', '09372320920',\n",
       "       '09125819761', '09366384232', '09115523005', '09375331361',\n",
       "       '09124445193', '09353132259', '09124939939', '09216804335',\n",
       "       '09129477010\\n', '09129510039', '09354498869', '09021106364',\n",
       "       '09122895847', '09144131984', '09134607969', '09122753196',\n",
       "       '09120566002'], dtype=object)"
      ]
     },
     "execution_count": 112,
     "metadata": {},
     "output_type": "execute_result"
    }
   ],
   "source": [
    "d"
   ]
  },
  {
   "cell_type": "code",
   "execution_count": 87,
   "metadata": {},
   "outputs": [],
   "source": [
    "d = np.delete(d, [0,21,79,89])"
   ]
  },
  {
   "cell_type": "code",
   "execution_count": 88,
   "metadata": {},
   "outputs": [],
   "source": [
    "d=np.append(d,['09351088808','09374993740','09353984940','09129477010'])"
   ]
  },
  {
   "cell_type": "markdown",
   "metadata": {},
   "source": [
    "bahman"
   ]
  },
  {
   "cell_type": "code",
   "execution_count": 89,
   "metadata": {},
   "outputs": [],
   "source": [
    "b[12]='11'"
   ]
  },
  {
   "cell_type": "code",
   "execution_count": 196,
   "metadata": {},
   "outputs": [],
   "source": [
    "#b[23]='09177879912'"
   ]
  },
  {
   "cell_type": "code",
   "execution_count": 197,
   "metadata": {},
   "outputs": [],
   "source": [
    "#b[24]='09125320500'"
   ]
  },
  {
   "cell_type": "code",
   "execution_count": 198,
   "metadata": {},
   "outputs": [],
   "source": [
    "#b[31]='09121910539'"
   ]
  },
  {
   "cell_type": "code",
   "execution_count": 199,
   "metadata": {},
   "outputs": [],
   "source": [
    "'09121319773''09177879912','09125320500','09121910539','09121319773'"
   ]
  },
  {
   "cell_type": "code",
   "execution_count": 123,
   "metadata": {},
   "outputs": [
    {
     "data": {
      "text/plain": [
       "array(['09101964766', '09356149565', '09364104221', '09120041364',\n",
       "       '09167937201', '09194130299', '09149246774', '09924613822',\n",
       "       '09116742708', '09171692231', '09127037533', '09131484548', nan,\n",
       "       '09355013372', '09126786471', '11', '09130442988', '09132486539',\n",
       "       '09123459661', '09891261452', '09351349704', '09126607803',\n",
       "       '09356659943', '09177879912\\n', '09125320500\\n09121319773',\n",
       "       '09124571143', '09147059641', '09159950496', '09122383746',\n",
       "       '09352480430', '09124848663', '09121910539\\n', '09332231170',\n",
       "       '09332221072', '09122753196', '09193898808', '09304427989',\n",
       "       '09126160092', '09125625596', '09176740688', '09126119529',\n",
       "       '09212455701', '09127081130', '09124079093', '09166542864',\n",
       "       '09372814540', '09126005527', '09123875812', '09124312296',\n",
       "       '09133201376', '09177237620', '09127251712', '09381910907',\n",
       "       '09166119104', '09163184992', '09334608119', '09148966003',\n",
       "       '09193255815', '09201011491', '09216178320', '09120373226',\n",
       "       '09033622061', '09353132259', '09193000338', '09113743405',\n",
       "       '09217084595', '09126353599', '09379872828', '09171562932',\n",
       "       '09357028934', '09037615093', '09126130092', '09198447921',\n",
       "       '09188332332', '09194883343', '09398764608', '09126858424',\n",
       "       '09105714297', '09127709766', '09211073727', '09121033297',\n",
       "       '09129403382', '09335106840', '09383939162', '09128312507',\n",
       "       '09212005781', '09374993740', '09171166272', '09038780908',\n",
       "       '09124873921', '09109814354', '09128333026', '09123374336',\n",
       "       '09136806681', '09177626171'], dtype=object)"
      ]
     },
     "execution_count": 123,
     "metadata": {},
     "output_type": "execute_result"
    }
   ],
   "source": [
    "b"
   ]
  },
  {
   "cell_type": "code",
   "execution_count": 90,
   "metadata": {},
   "outputs": [],
   "source": [
    "b= np.delete(b, [12,23,24,21])"
   ]
  },
  {
   "cell_type": "code",
   "execution_count": 91,
   "metadata": {},
   "outputs": [],
   "source": [
    "b=np.append(b,['09177879912','09125320500','09121910539','09121319773'])"
   ]
  },
  {
   "cell_type": "markdown",
   "metadata": {},
   "source": [
    "esfand"
   ]
  },
  {
   "cell_type": "code",
   "execution_count": 201,
   "metadata": {},
   "outputs": [],
   "source": [
    "#e[35]='09379490457'"
   ]
  },
  {
   "cell_type": "code",
   "execution_count": 202,
   "metadata": {},
   "outputs": [],
   "source": [
    "#e[59]='09113207390'"
   ]
  },
  {
   "cell_type": "code",
   "execution_count": 203,
   "metadata": {},
   "outputs": [],
   "source": [
    "#e[87]='09307170476'"
   ]
  },
  {
   "cell_type": "code",
   "execution_count": 204,
   "metadata": {},
   "outputs": [],
   "source": [
    "#e[202]='09181209514'"
   ]
  },
  {
   "cell_type": "code",
   "execution_count": 50,
   "metadata": {},
   "outputs": [],
   "source": [
    "#e[72]='12'"
   ]
  },
  {
   "cell_type": "code",
   "execution_count": null,
   "metadata": {},
   "outputs": [],
   "source": [
    "09123647212,09113207399,0983538277520,"
   ]
  },
  {
   "cell_type": "code",
   "execution_count": 92,
   "metadata": {},
   "outputs": [
    {
     "data": {
      "text/plain": [
       "221"
      ]
     },
     "execution_count": 92,
     "metadata": {},
     "output_type": "execute_result"
    }
   ],
   "source": [
    "e.size"
   ]
  },
  {
   "cell_type": "code",
   "execution_count": 134,
   "metadata": {},
   "outputs": [
    {
     "data": {
      "text/plain": [
       "array(['09124852166', '09121300816', '02122408743', '09166921350',\n",
       "       '09125522460', '12', '09128356211', '09124150941', '09216512500',\n",
       "       '09182172637', '09334608119', '09122169527', '09100808167',\n",
       "       '09394703348', '09197948548', '09195017223', '09126431709',\n",
       "       '09158546706', '09122807637', '09227921936', '09129307446',\n",
       "       '09190423792', '09161145071', '09223740438', '09124194612',\n",
       "       '09121314690', '09126040280', '09125348124', '09127759743',\n",
       "       '09123470196', '02177609718', '09123704523', '09122131723',\n",
       "       '09121031850', '09126236472', '09379490457\\n09123647212',\n",
       "       '09397228487', '09105978073', '09126066578', '09123984007',\n",
       "       '09354101976', '09127931634', '09122897725', '09123127405',\n",
       "       '09334544336', '09157742010', '09223276314', '09385033747',\n",
       "       '09194419221', '09121098000', '09396117180', '09101231359',\n",
       "       '09126783828', '09192459177', '09113856217', '09392029292',\n",
       "       '09191618570', '09120501271', '09138989650',\n",
       "       '09113207390\\n09113207399', '09125378288', '09129646239',\n",
       "       '09127081130', '09141545059', '09907435008', '09122231342',\n",
       "       '09382595343', '09123950611', '09128995595', '09104990755',\n",
       "       '09134897362', '09107779448', nan, '09127090027', '09112188767',\n",
       "       '09109913711', '09351250771', '09128242817', '09112459626',\n",
       "       '09139695636', '09383737556', '09177924767', '09123114577',\n",
       "       '09123603476', '09365360168', '09359519406', '09128195163',\n",
       "       '09307170476\\n44476723', '09183679970', '09124393352',\n",
       "       '09124226242', '09193049021', '09134080698', '09907973573',\n",
       "       '09188028985', '09120717577', '09132150860', '09122044725',\n",
       "       '09903221532', '09126753076', '09128435105', '09123240406',\n",
       "       '09337847674', '09127286760', '09179181527', '09121130579',\n",
       "       '09369683196', '09195426436', '09153842873', '09173677568',\n",
       "       '09129595623', '09157170031', '09352241398', '09126990190',\n",
       "       '09361800156', '09120651920', '09365113835', '09127892118',\n",
       "       '09364917828', '09121870496', '09044110232', '09373273055',\n",
       "       '09125721165', '09124923531', '09156069327', '09127790599',\n",
       "       '09370604879', '09125334587', '09383516330', '09122577269',\n",
       "       '09101722861', '09163533699', '09351349704', '09155052554',\n",
       "       '09128928454', '09115003212', '09213961095', '09136836403',\n",
       "       '09305990265', '09125025581', '09127325219', '09112916166',\n",
       "       '09123111334', '09126119529', '09128495311', '09381190787',\n",
       "       '09372814540', '09113311330', '09121500224', '09121484115',\n",
       "       '09127272637', '09124244690', '09125693235', '09123091815',\n",
       "       '09308891157', '09126607803', '09158279914', '09124152981',\n",
       "       '09124409829', '09125772715', '09129241768', '09188481088',\n",
       "       '09330349595', '09902941483', '09026505292', '09124279260',\n",
       "       '09143929429', '09121196043', '09358407345', '09131257073',\n",
       "       '09126304150', '09210430981', '09203187202', '09124434268',\n",
       "       '09177679030', '09122933748', '09197142443', '09123615405',\n",
       "       '09128909866', '09352213902', '09366669348', '09119075441',\n",
       "       '09027685040', '09034607606', '09397161559', '09123592297',\n",
       "       '088460384', '09124790124', '09355013372', '09364761070',\n",
       "       '09118094056', '09911889623', '09197552494', '09196046986',\n",
       "       '09153451097', '09191015740', '09148040040', '09198905800',\n",
       "       '09354989818', '09124873921', '09128927028', '09335592227',\n",
       "       '09181209514\\n0983538277520', '09194741201', '09104959909',\n",
       "       '09122896755', '09195049351', '09193255815', '09220596548',\n",
       "       '09188730893', '09161134907', '09163900519', '09374993740',\n",
       "       '09128934565', '09125137907', '09123875812', '09126786471',\n",
       "       '09177237620', '09124570914', '09127931623', '09115708435'],\n",
       "      dtype=object)"
      ]
     },
     "execution_count": 134,
     "metadata": {},
     "output_type": "execute_result"
    }
   ],
   "source": [
    "e"
   ]
  },
  {
   "cell_type": "code",
   "execution_count": 93,
   "metadata": {},
   "outputs": [],
   "source": [
    "e=np.delete(e, [35,59,87,202,72])"
   ]
  },
  {
   "cell_type": "code",
   "execution_count": 94,
   "metadata": {},
   "outputs": [],
   "source": [
    "e=np.append(e,['09123647212','09113207399','0983538277520','09379490457','09113207390','09307170476','09181209514'])"
   ]
  },
  {
   "cell_type": "markdown",
   "metadata": {},
   "source": [
    "farvardin"
   ]
  },
  {
   "cell_type": "code",
   "execution_count": 208,
   "metadata": {},
   "outputs": [],
   "source": [
    "#f[54]='09383051660'"
   ]
  },
  {
   "cell_type": "code",
   "execution_count": 209,
   "metadata": {},
   "outputs": [],
   "source": [
    "'09924613822'"
   ]
  },
  {
   "cell_type": "code",
   "execution_count": 153,
   "metadata": {},
   "outputs": [
    {
     "data": {
      "text/plain": [
       "array(['09353132259', '09124530719', '09399854299', '09177748711',\n",
       "       '09129404721', '09132150860', '09163452618', '09123114577',\n",
       "       '09122454303', '09111359135', '09125762785', '09128311383',\n",
       "       '09109797357', '09113721647', '1', '09029168383', '09216178320',\n",
       "       '09125836260', '09125229707', '09170322300', '09926511126',\n",
       "       '09123397688', '09128490528', '09197949548', '09383367768',\n",
       "       '09128312507', '09188411698', '09128356211', '09161157801',\n",
       "       '09126858424', '09127428290', '09127790599', '09196210811',\n",
       "       '09126545629', '09123903946', '09106968258', '09125695625',\n",
       "       '09109814354', '09122010713', '09121930790', '09301832928',\n",
       "       '09127286760', '09203195985', '09351071470', '09198278908',\n",
       "       '09134322133', '09167937201', '09172722740', '09126809167',\n",
       "       '09339028110', '09124409516', '09188114037', '09188730893',\n",
       "       '09122637265', '09383051660\\n09924613822', '09173614930',\n",
       "       '09195805560', '09112531461', '09169587593', '09122049150',\n",
       "       '09031499787', '09112587104', '09149512580', '09123950611',\n",
       "       '09195117566', '09127112494', '09133661779', '09912767513',\n",
       "       '09157772581', '09123470196', '09122896219', '09112145193',\n",
       "       '09164167010', '09119744784', '09017067778', '09359519406',\n",
       "       '09102128082', '09361800156', '09188028985', '09183387789',\n",
       "       '09123874197', '09197142443', '09121033297', '09301128934',\n",
       "       '09127710542', '09126130092', '8143196117', '09152882300',\n",
       "       '09122897725', '09130199712', '09124244690', '09149246774',\n",
       "       '09183679970', '77921467', '09199505167', '09163052181',\n",
       "       '09123835679', '09125112986', '09115003212', '09140730819',\n",
       "       '09128928454', '09126040280', '09166542864', '09124981966',\n",
       "       '09106231609', '09216512500', '09127978480', '09190786623',\n",
       "       '09353006929', '09352369117', '09126236472'], dtype=object)"
      ]
     },
     "execution_count": 153,
     "metadata": {},
     "output_type": "execute_result"
    }
   ],
   "source": [
    "f"
   ]
  },
  {
   "cell_type": "code",
   "execution_count": 95,
   "metadata": {},
   "outputs": [],
   "source": [
    "f=np.delete(f, [54])"
   ]
  },
  {
   "cell_type": "code",
   "execution_count": 96,
   "metadata": {},
   "outputs": [],
   "source": [
    "f=np.append(f,['09383051660','09924613822'])"
   ]
  },
  {
   "cell_type": "markdown",
   "metadata": {},
   "source": [
    "ordibehesth"
   ]
  },
  {
   "cell_type": "code",
   "execution_count": 97,
   "metadata": {},
   "outputs": [],
   "source": [
    "o[21]='2'"
   ]
  },
  {
   "cell_type": "code",
   "execution_count": 162,
   "metadata": {},
   "outputs": [
    {
     "data": {
      "text/plain": [
       "array(['09386914646', '09203187202', '09355126789', '09166208220',\n",
       "       '09193255815', '09212823014', '09332221072', '09148966003',\n",
       "       '09338238712', '09122191368', '09362483262', '09129265156',\n",
       "       '09217072133', '09123230963', '09119744784', '09163452618',\n",
       "       '09124831814', '09126101534', '09123235446', '09179043543', '2',\n",
       "       nan, '09109203289', '09122143248', '09126160092', '09388494622',\n",
       "       '09115003212', '09132969477', '09132069063', '09226212916',\n",
       "       '09121033297', '09035784306', '09397228487', '09125393035',\n",
       "       '09106968258', '09128205493', '09926511126', '09126130092',\n",
       "       '09177748711', '09126721243', '09128613912', '09121314690',\n",
       "       '09396901575', '09203195985', '09111360199', '09126353599',\n",
       "       '09123986037', '09122360282', '09124251135', '09023133249',\n",
       "       '09124764331', '09125112986', '09125477524', '09124279260',\n",
       "       '09387342246', '09924613822', '09166921350', '09359154141',\n",
       "       '09113453084', '09139995073', '09352589500', '09307135578',\n",
       "       '09199828272', '09399692760', '09220596548', '09198278908',\n",
       "       '09365360168', '09359519406', '09123875812', '09126898510',\n",
       "       '09191261310', '09125366033', '09122514234', '09124475842',\n",
       "       '09101231359', '09126300945', '09163205087', '09352450518',\n",
       "       '09199034362', '09127710542', '09112916166', '09125362458',\n",
       "       '09120763876', '09376033743', '09193049021', '09133518910',\n",
       "       '09125451695', '09371075324', '09196201476', '09161145071',\n",
       "       '09123798385', '09195362114', '09188730893', '09198447921',\n",
       "       '09385222904', '09111359135', '09390158495', '09195332219',\n",
       "       '09123206277', '09174037822', '09364056192', '09039660166',\n",
       "       '09127081130', '09912550513', '09127286760', '09126130274',\n",
       "       '09121534078', '09120215439', '09300637657', '09188332332'],\n",
       "      dtype=object)"
      ]
     },
     "execution_count": 162,
     "metadata": {},
     "output_type": "execute_result"
    }
   ],
   "source": [
    "o"
   ]
  },
  {
   "cell_type": "code",
   "execution_count": 98,
   "metadata": {},
   "outputs": [],
   "source": [
    "o=np.delete(o, [21])"
   ]
  },
  {
   "cell_type": "markdown",
   "metadata": {},
   "source": [
    " khordad"
   ]
  },
  {
   "cell_type": "code",
   "execution_count": 211,
   "metadata": {},
   "outputs": [],
   "source": [
    "#k[1]='09121540721'"
   ]
  },
  {
   "cell_type": "code",
   "execution_count": null,
   "metadata": {},
   "outputs": [],
   "source": [
    "09101231359"
   ]
  },
  {
   "cell_type": "code",
   "execution_count": 165,
   "metadata": {},
   "outputs": [
    {
     "data": {
      "text/plain": [
       "array(['09121184489', '09121540721\\n09101231359', '09913305915',\n",
       "       '09354717596', '09126431709', '09112531461', '09398095976',\n",
       "       '09131257073', '09196210811', '09038098754', '09177799099',\n",
       "       '09356677586', '09123594088', '09178400715', '09187424793',\n",
       "       '09352337181', '09392605969', '09385820148', '09121014840',\n",
       "       '09188028985', '09125936011', '09122361957', '09183421687',\n",
       "       '09105008097', '09122121089', '09133623240', '09113536899',\n",
       "       '09124668115', '09124251135', '09123664087', '09359356567',\n",
       "       '09363030596', '09171678783', '09122965875', '09107788466',\n",
       "       '09125836260', '09122461862', '09120756289', '09122305600',\n",
       "       '09141893489', '09354292853', '09109908125', '09125474162',\n",
       "       '09124244690', '09128356211', '09127400527', '09351669143',\n",
       "       '09199505167', '09372051532', '09183199853', '09122431323',\n",
       "       '09034607606', '09112916166', '09387466489', '09123169661',\n",
       "       '09122762647', '09176963082', '09177748711', '09126119529',\n",
       "       '09120763876', '09124831814', '09361484146', '09121598825',\n",
       "       '09128512628', '09140468825', '3', '09331584931', '09128168620',\n",
       "       '09123419506', '09197135589', '09363438399', '09127718194',\n",
       "       '09210153038', '09335693386', '09127186309', '09121314690',\n",
       "       '09361075672', '09105147462', '09336211210', '09122191368',\n",
       "       '09111360199', '09126858424', '09211249455', '09123017965',\n",
       "       '09122168838', '09126005527', '09153329732', '09121033297',\n",
       "       '09372320297', '09926511126', '09381910907', '09391257758',\n",
       "       '09120446858', '09204524364', '09017567422', '09161145071',\n",
       "       '09177680739', '09398340677', '09183295457', '09390158495',\n",
       "       '09124395929', '09131022879', '09183647767', '09121534078',\n",
       "       '09372609220', '09226131203', '09347698214', '09124108127',\n",
       "       '09190395850', '09128439522', '09177619469', '09128945680',\n",
       "       '09128812743', '09199906409', '09137114164', '09361126002',\n",
       "       '09301107659', '09121071869', '09124475842'], dtype=object)"
      ]
     },
     "execution_count": 165,
     "metadata": {},
     "output_type": "execute_result"
    }
   ],
   "source": [
    "k"
   ]
  },
  {
   "cell_type": "code",
   "execution_count": 99,
   "metadata": {},
   "outputs": [],
   "source": [
    "k=np.delete(k, [1])"
   ]
  },
  {
   "cell_type": "code",
   "execution_count": 100,
   "metadata": {},
   "outputs": [],
   "source": [
    "k=np.append(k,['09101231359','09121540721'])"
   ]
  },
  {
   "cell_type": "markdown",
   "metadata": {},
   "source": [
    "Tir"
   ]
  },
  {
   "cell_type": "code",
   "execution_count": 213,
   "metadata": {},
   "outputs": [],
   "source": [
    "#t[77]='09121984699'"
   ]
  },
  {
   "cell_type": "code",
   "execution_count": null,
   "metadata": {},
   "outputs": [],
   "source": [
    "09122721431"
   ]
  },
  {
   "cell_type": "code",
   "execution_count": 170,
   "metadata": {},
   "outputs": [
    {
     "data": {
      "text/plain": [
       "array(['09924613822', '09125127470', '09366844505', '09127790599',\n",
       "       '09193255815', '09124939939', '09145894550', '09122035975',\n",
       "       '09125016108', '09126304150', '09369297052', '09192396129',\n",
       "       '09122217901', '09198278908', '09122361957', '09155496791',\n",
       "       '09121764622', '09122657153', '09123230963', '09337208365',\n",
       "       '09124831814', '09171986681', '09013920859', '09123950611',\n",
       "       '09119505918', '09163444290', '09126394699', '4', '09122098692',\n",
       "       '09166601653', '09388450292', '09122461862', '09125936011',\n",
       "       '09121300816', '09203195985', '09121716367', '09126783828',\n",
       "       '09124244690', '09363438399', '09128356211', '09121598825',\n",
       "       '09120214273', '09196210811', '09370754354', '09125785038',\n",
       "       '09352000821', '09126128250', '09123584503', '09113838028',\n",
       "       '09122896219', '09359397414', '09355337053', '09128184865',\n",
       "       '09120313452', '09118586947', '09134213200', '09123432710',\n",
       "       '09123875812', '09128159711', '09338238712', '09203187202',\n",
       "       '09124499510', '09122006886', '09126236472', '09199505167',\n",
       "       '09122495842', '09127017048', '09382404695', '09129369258',\n",
       "       '09125015867', '09364635467', '09133623240', '09393525788',\n",
       "       '09126130092', '09122191368', '09191223841', '09395997750',\n",
       "       '09121984699\\n09122721431', '09195332219', '09124435682',\n",
       "       '09024897838', '09143513015', '09347698214', '09129212463',\n",
       "       '09129265156', '09133166315', '09109203289', '09126993273',\n",
       "       '09163906784', '09139721274', '09216178320', '09217927926',\n",
       "       '09194055814', '09128040630', '09354243302', '09931428407',\n",
       "       '09124943484', '09192703802', '09128157433', '09121314690',\n",
       "       '09216804335', '09131257073', '09166208220', '09372609220',\n",
       "       '09381910907', '09336236565', '09397996114', '09125601541',\n",
       "       '09123867892', '09390556515', '09171246241', '09128053902',\n",
       "       '09124758115', '09121300314', '09125393035', '09361126002',\n",
       "       '09372138659', '09198672884', '09354657380', '09121964079',\n",
       "       '09383244212', '09187568931', '09193099698', '09363282016',\n",
       "       '09307359001', '09136705985', '09334605349', '09352217259',\n",
       "       '09124668115', '09121271507', '09177799099', '09188557233',\n",
       "       '09112528079', '09124246885', '09031733935', '09365360168',\n",
       "       '09398340677', '09127400527', '09105008097', '09121112502',\n",
       "       '09125883140', '09171122076', '09335592227', '09168518979',\n",
       "       '09120591150'], dtype=object)"
      ]
     },
     "execution_count": 170,
     "metadata": {},
     "output_type": "execute_result"
    }
   ],
   "source": [
    "t"
   ]
  },
  {
   "cell_type": "code",
   "execution_count": 101,
   "metadata": {},
   "outputs": [],
   "source": [
    "t=np.delete(t, [77])"
   ]
  },
  {
   "cell_type": "code",
   "execution_count": 102,
   "metadata": {},
   "outputs": [],
   "source": [
    "t=np.append(t,['09122721431','09121984699'])"
   ]
  },
  {
   "cell_type": "markdown",
   "metadata": {},
   "source": [
    "mordad"
   ]
  },
  {
   "cell_type": "code",
   "execution_count": 175,
   "metadata": {},
   "outputs": [
    {
     "data": {
      "text/plain": [
       "'09121540721\\n09101231359'"
      ]
     },
     "execution_count": 175,
     "metadata": {},
     "output_type": "execute_result"
    }
   ],
   "source": [
    "#mr[13]"
   ]
  },
  {
   "cell_type": "code",
   "execution_count": 179,
   "metadata": {},
   "outputs": [
    {
     "data": {
      "text/plain": [
       "'09183453048\\n22452791'"
      ]
     },
     "execution_count": 179,
     "metadata": {},
     "output_type": "execute_result"
    }
   ],
   "source": [
    "#mr[34]"
   ]
  },
  {
   "cell_type": "code",
   "execution_count": 182,
   "metadata": {},
   "outputs": [
    {
     "data": {
      "text/plain": [
       "'09203195985\\n'"
      ]
     },
     "execution_count": 182,
     "metadata": {},
     "output_type": "execute_result"
    }
   ],
   "source": [
    "#mr[80]"
   ]
  },
  {
   "cell_type": "code",
   "execution_count": 186,
   "metadata": {},
   "outputs": [
    {
     "data": {
      "text/plain": [
       "'09192530803\\n09121520803'"
      ]
     },
     "execution_count": 186,
     "metadata": {},
     "output_type": "execute_result"
    }
   ],
   "source": [
    "#mr[187]"
   ]
  },
  {
   "cell_type": "code",
   "execution_count": 103,
   "metadata": {},
   "outputs": [],
   "source": [
    "mr=np.delete(mr, [13,34,80,187])"
   ]
  },
  {
   "cell_type": "code",
   "execution_count": 104,
   "metadata": {},
   "outputs": [],
   "source": [
    "mr=np.append(mr,['09121540721','09101231359','09183453048','09203195985','09192530803','09121520803'])"
   ]
  },
  {
   "cell_type": "code",
   "execution_count": 176,
   "metadata": {},
   "outputs": [
    {
     "data": {
      "text/plain": [
       "array(['09163444290', '09309288929', '09214755315', '09121248422',\n",
       "       '09123803908', '09121487444', '09187971054', '09128343793',\n",
       "       '09122137230', '09106704129', '09183342701', '09171787390',\n",
       "       '09229119152', '09121540721\\n09101231359', '09028126373',\n",
       "       '09163906784', '09123148705', '09121957580', '09305342686',\n",
       "       '09123300844', '09122899421', '09122975846', '09125936011',\n",
       "       '09141635892', '09188175942', '09127133342', '09111005874',\n",
       "       '09128356211', '09363953445', '09183492148', '09120622139',\n",
       "       '09125111255', '09171562932', '09127718194',\n",
       "       '09183453048\\n22452791', '09132708900', '09359154141',\n",
       "       '09126838545', '09121226639', '09118094056', '09104060686',\n",
       "       '09397417097', '09379134717', '09128168620', '09386899085',\n",
       "       '09392412039', '09122300629', '09132693290', '09123362437', '5',\n",
       "       '09112349691', '09124249289', '09120650573', '09358150959',\n",
       "       '09183722458', '09190151216', '09362986565', '09121038271',\n",
       "       '09385103939', '09128008924', '09931327546', '09133862948',\n",
       "       '09109203289', '09356476334', '09132883779', '09125148868',\n",
       "       '09102909123', '09121332979', '09123106625', '09919596247',\n",
       "       '09363438399', '09121081034', '09125016108', '09196997819',\n",
       "       '09376072376', '09171712346', '09372399197', '09122779313',\n",
       "       '09033622061', '09382728981', '09203195985\\n', '09223828125',\n",
       "       '09356014966', '09363971060', '09224868428', '09181507001',\n",
       "       '09203301341', '09301111881', '09111513085', '09022762087',\n",
       "       '09114701367', '09351250771', '09112241418', '09141881474',\n",
       "       '09123017965', '09125061748', '09139403124', '09121937520',\n",
       "       '09357410247', '09188745460', '09121521005', '09122983656',\n",
       "       '09122029892', '09126733241', '09120150456', '09123908706',\n",
       "       '09169698269', '09306323945', '09155232545', '09127160462',\n",
       "       '09183141105', '09124244690', '09140730819', '09121534078',\n",
       "       '09374623004', '09217927926', '09121882492', '09166119104',\n",
       "       '09334608119', '09183142218', '09127072671', '09352217259',\n",
       "       '09124499510', '09166456960', '09211796590', '09912043205',\n",
       "       '0989125185765', '09375146830', '09335811159', '09351726531',\n",
       "       '09125588071', '09381410553', '09199129764', '09203195985',\n",
       "       '09390556515', '09904326122', '09305352849', '09160682604',\n",
       "       '09106757344', '09926511126', '09352425500', '09124831814',\n",
       "       '09388450292', '09128040630', '09123127405', '09123986037',\n",
       "       '09131257073', '09352589500', '09129748321', '09113726197',\n",
       "       '09358846520', '09163003789', '09122191368', '09122156880',\n",
       "       '09352000821', '09381910907', '09931428407', '09338238712',\n",
       "       '09122360282', '09213951422', '09126011909', '09121334542',\n",
       "       '09122088737', '09398340677', '09188028985', '09122006886',\n",
       "       '09125789189', '09122361957', '09173329432', '09113565631',\n",
       "       '09198416772', '09121303976', '09118586947', '09122147416',\n",
       "       '09057967344', '09125304939', '09122169965', '09353023699',\n",
       "       '09334447334', '09171246241', '09123180206', '09383244212',\n",
       "       '09123908919', '09195793013', '09191015740', '09025322233',\n",
       "       '09199507921', '09192530803\\n09121520803'], dtype=object)"
      ]
     },
     "execution_count": 176,
     "metadata": {},
     "output_type": "execute_result"
    }
   ],
   "source": [
    "mr"
   ]
  },
  {
   "cell_type": "markdown",
   "metadata": {},
   "source": [
    "# calculating "
   ]
  },
  {
   "cell_type": "code",
   "execution_count": 105,
   "metadata": {},
   "outputs": [],
   "source": [
    "m =np.unique(m)\n",
    "a =np.unique(a)\n",
    "z =np.unique(z)\n",
    "b =np.unique(b)\n",
    "e =np.unique(e)\n",
    "f =np.unique(f)\n",
    "o =np.unique(o)\n",
    "k =np.unique(k)"
   ]
  },
  {
   "cell_type": "code",
   "execution_count": 106,
   "metadata": {},
   "outputs": [],
   "source": [
    "mr=np.unique(mr)"
   ]
  },
  {
   "cell_type": "markdown",
   "metadata": {},
   "source": [
    "# Aban"
   ]
  },
  {
   "cell_type": "code",
   "execution_count": 107,
   "metadata": {},
   "outputs": [],
   "source": [
    "intersect_ma =np.intersect1d(m,a)  "
   ]
  },
  {
   "cell_type": "code",
   "execution_count": 108,
   "metadata": {},
   "outputs": [],
   "source": [
    "or_aban=np.divide(intersect_ma.size, m.size)*100"
   ]
  },
  {
   "cell_type": "code",
   "execution_count": 109,
   "metadata": {},
   "outputs": [
    {
     "data": {
      "text/plain": [
       "7.6923076923076925"
      ]
     },
     "execution_count": 109,
     "metadata": {},
     "output_type": "execute_result"
    }
   ],
   "source": [
    "or_aban"
   ]
  },
  {
   "cell_type": "markdown",
   "metadata": {},
   "source": [
    "# Azar"
   ]
  },
  {
   "cell_type": "code",
   "execution_count": 110,
   "metadata": {},
   "outputs": [],
   "source": [
    "ma =np.unique( np.append(m,a))"
   ]
  },
  {
   "cell_type": "code",
   "execution_count": 111,
   "metadata": {},
   "outputs": [],
   "source": [
    " intersect_z_ma =np.intersect1d(ma,z)"
   ]
  },
  {
   "cell_type": "code",
   "execution_count": 112,
   "metadata": {},
   "outputs": [],
   "source": [
    "or_azar=np.divide(intersect_z_ma.size, ma.size)*100"
   ]
  },
  {
   "cell_type": "code",
   "execution_count": 113,
   "metadata": {},
   "outputs": [
    {
     "data": {
      "text/plain": [
       "13.131313131313133"
      ]
     },
     "execution_count": 113,
     "metadata": {},
     "output_type": "execute_result"
    }
   ],
   "source": [
    "or_azar"
   ]
  },
  {
   "cell_type": "markdown",
   "metadata": {},
   "source": [
    "# Dey"
   ]
  },
  {
   "cell_type": "code",
   "execution_count": 114,
   "metadata": {},
   "outputs": [],
   "source": [
    "maz =np.unique( np.append(ma,z))"
   ]
  },
  {
   "cell_type": "code",
   "execution_count": 115,
   "metadata": {},
   "outputs": [],
   "source": [
    "intersect_d_maz =np.intersect1d(maz,d)"
   ]
  },
  {
   "cell_type": "code",
   "execution_count": 116,
   "metadata": {},
   "outputs": [],
   "source": [
    "or_dey=np.divide(intersect_d_maz.size, maz.size)*100"
   ]
  },
  {
   "cell_type": "code",
   "execution_count": 117,
   "metadata": {},
   "outputs": [
    {
     "data": {
      "text/plain": [
       "6.624605678233439"
      ]
     },
     "execution_count": 117,
     "metadata": {},
     "output_type": "execute_result"
    }
   ],
   "source": [
    "or_dey"
   ]
  },
  {
   "cell_type": "markdown",
   "metadata": {},
   "source": [
    "# Bahman"
   ]
  },
  {
   "cell_type": "code",
   "execution_count": 118,
   "metadata": {},
   "outputs": [],
   "source": [
    "mazd =np.unique( np.append(maz,d))"
   ]
  },
  {
   "cell_type": "code",
   "execution_count": 119,
   "metadata": {},
   "outputs": [],
   "source": [
    "intersect_b_mazd =np.intersect1d(mazd,b)"
   ]
  },
  {
   "cell_type": "code",
   "execution_count": 120,
   "metadata": {},
   "outputs": [],
   "source": [
    "or_bahm=np.divide(intersect_b_mazd.size, mazd.size)*100"
   ]
  },
  {
   "cell_type": "code",
   "execution_count": 121,
   "metadata": {},
   "outputs": [
    {
     "data": {
      "text/plain": [
       "6.345177664974619"
      ]
     },
     "execution_count": 121,
     "metadata": {},
     "output_type": "execute_result"
    }
   ],
   "source": [
    "or_bahm"
   ]
  },
  {
   "cell_type": "markdown",
   "metadata": {},
   "source": [
    "# Esfand"
   ]
  },
  {
   "cell_type": "code",
   "execution_count": 122,
   "metadata": {},
   "outputs": [],
   "source": [
    "mazdb =np.unique( np.append(mazd,b))"
   ]
  },
  {
   "cell_type": "code",
   "execution_count": 123,
   "metadata": {},
   "outputs": [],
   "source": [
    "intersect_e_mazdb =np.intersect1d(mazdb,e)"
   ]
  },
  {
   "cell_type": "code",
   "execution_count": 124,
   "metadata": {},
   "outputs": [],
   "source": [
    "or_esfand=np.divide(intersect_e_mazdb.size, mazdb.size)*100"
   ]
  },
  {
   "cell_type": "code",
   "execution_count": 125,
   "metadata": {},
   "outputs": [
    {
     "data": {
      "text/plain": [
       "6.0344827586206895"
      ]
     },
     "execution_count": 125,
     "metadata": {},
     "output_type": "execute_result"
    }
   ],
   "source": [
    "or_esfand"
   ]
  },
  {
   "cell_type": "markdown",
   "metadata": {},
   "source": [
    "# Farvardin"
   ]
  },
  {
   "cell_type": "code",
   "execution_count": 126,
   "metadata": {},
   "outputs": [],
   "source": [
    "mazdbe =np.unique( np.append(mazdb,e))"
   ]
  },
  {
   "cell_type": "code",
   "execution_count": 127,
   "metadata": {},
   "outputs": [],
   "source": [
    "intersect_f_mazdbe =np.intersect1d(mazdbe,f)"
   ]
  },
  {
   "cell_type": "code",
   "execution_count": 128,
   "metadata": {},
   "outputs": [],
   "source": [
    "or_farvardin=np.divide(intersect_f_mazdbe.size, mazdbe.size)*100"
   ]
  },
  {
   "cell_type": "code",
   "execution_count": 129,
   "metadata": {},
   "outputs": [
    {
     "data": {
      "text/plain": [
       "5.614567526555387"
      ]
     },
     "execution_count": 129,
     "metadata": {},
     "output_type": "execute_result"
    }
   ],
   "source": [
    "or_farvardin"
   ]
  },
  {
   "cell_type": "markdown",
   "metadata": {},
   "source": [
    "# ordibehesht"
   ]
  },
  {
   "cell_type": "code",
   "execution_count": 130,
   "metadata": {},
   "outputs": [],
   "source": [
    "mazdbef =np.unique(np.append(mazdbe,f))"
   ]
  },
  {
   "cell_type": "code",
   "execution_count": 131,
   "metadata": {},
   "outputs": [],
   "source": [
    "intersect_o_mazdbef =np.intersect1d(mazdbef,o)"
   ]
  },
  {
   "cell_type": "code",
   "execution_count": 132,
   "metadata": {},
   "outputs": [],
   "source": [
    "or_ordibehesht=np.divide(intersect_o_mazdbef.size, mazdbef.size)*100"
   ]
  },
  {
   "cell_type": "code",
   "execution_count": 133,
   "metadata": {},
   "outputs": [
    {
     "data": {
      "text/plain": [
       "5.5858310626703"
      ]
     },
     "execution_count": 133,
     "metadata": {},
     "output_type": "execute_result"
    }
   ],
   "source": [
    "or_ordibehesht"
   ]
  },
  {
   "cell_type": "markdown",
   "metadata": {},
   "source": [
    "# Khordad"
   ]
  },
  {
   "cell_type": "code",
   "execution_count": 134,
   "metadata": {},
   "outputs": [],
   "source": [
    "mazdbefo =np.unique(np.append(mazdbef,o))"
   ]
  },
  {
   "cell_type": "code",
   "execution_count": 135,
   "metadata": {},
   "outputs": [],
   "source": [
    "intersect_k_mazdbefo =np.intersect1d(mazdbefo,k)"
   ]
  },
  {
   "cell_type": "code",
   "execution_count": 136,
   "metadata": {},
   "outputs": [],
   "source": [
    "or_khordad=np.divide(intersect_k_mazdbefo.size, mazdbefo.size)*100"
   ]
  },
  {
   "cell_type": "code",
   "execution_count": 137,
   "metadata": {},
   "outputs": [
    {
     "data": {
      "text/plain": [
       "4.738154613466334"
      ]
     },
     "execution_count": 137,
     "metadata": {},
     "output_type": "execute_result"
    }
   ],
   "source": [
    "or_khordad"
   ]
  },
  {
   "cell_type": "markdown",
   "metadata": {},
   "source": [
    "# Tir"
   ]
  },
  {
   "cell_type": "code",
   "execution_count": 138,
   "metadata": {},
   "outputs": [],
   "source": [
    "mazdbefok =np.unique(np.append(mazdbefo,k))"
   ]
  },
  {
   "cell_type": "code",
   "execution_count": 139,
   "metadata": {},
   "outputs": [],
   "source": [
    "intersect_t_mazdbefok =np.intersect1d(mazdbefok,t)"
   ]
  },
  {
   "cell_type": "code",
   "execution_count": 140,
   "metadata": {},
   "outputs": [],
   "source": [
    "or_tir=np.divide(intersect_t_mazdbefok.size, mazdbefok.size)*100"
   ]
  },
  {
   "cell_type": "code",
   "execution_count": 141,
   "metadata": {},
   "outputs": [
    {
     "data": {
      "text/plain": [
       "5.88235294117647"
      ]
     },
     "execution_count": 141,
     "metadata": {},
     "output_type": "execute_result"
    }
   ],
   "source": [
    "or_tir"
   ]
  },
  {
   "cell_type": "markdown",
   "metadata": {},
   "source": [
    "# Mordad"
   ]
  },
  {
   "cell_type": "code",
   "execution_count": 142,
   "metadata": {},
   "outputs": [],
   "source": [
    "mazdbefokt =np.unique(np.append(mazdbefok,t))"
   ]
  },
  {
   "cell_type": "code",
   "execution_count": 143,
   "metadata": {},
   "outputs": [],
   "source": [
    "intersect_mr_mazdbefokt =np.intersect1d(mazdbefokt,mr)"
   ]
  },
  {
   "cell_type": "code",
   "execution_count": 144,
   "metadata": {},
   "outputs": [],
   "source": [
    "or_mordad=np.divide(intersect_mr_mazdbefokt.size, mazdbefokt.size)*100"
   ]
  },
  {
   "cell_type": "code",
   "execution_count": 145,
   "metadata": {},
   "outputs": [
    {
     "data": {
      "text/plain": [
       "5.725971370143149"
      ]
     },
     "execution_count": 145,
     "metadata": {},
     "output_type": "execute_result"
    }
   ],
   "source": [
    "or_mordad"
   ]
  },
  {
   "cell_type": "code",
   "execution_count": 146,
   "metadata": {},
   "outputs": [],
   "source": [
    "ser = pd.Series(data=[or_aban,or_azar,or_dey,or_bahm,or_esfand,or_farvardin,or_ordibehesht,or_khordad,or_tir,or_mordad],index=['8','9','10','11','12','1','2','3','4','5'])"
   ]
  },
  {
   "cell_type": "code",
   "execution_count": 148,
   "metadata": {},
   "outputs": [
    {
     "name": "stdout",
     "output_type": "stream",
     "text": [
      "Aban: 7.6923076923076925\n",
      "Azar: 13.131313131313133\n",
      "Dey: 6.624605678233439\n",
      "Bahman: 6.345177664974619\n",
      "Esfand: 6.0344827586206895\n",
      "Farvardin: 5.614567526555387\n",
      "Ordibehesht: 5.5858310626703\n",
      "Khordad: 4.738154613466334\n",
      "Tir: 5.88235294117647\n",
      "Mordad: 5.725971370143149\n"
     ]
    },
    {
     "data": {
      "image/png": "[encoded data removed]",
      "text/plain": [
       "<Figure size 640x480 with 1 Axes>"
      ]
     },
     "metadata": {},
     "output_type": "display_data"
    }
   ],
   "source": [
    "ser.plot.bar()\n",
    "plt.xlabel('Month')\n",
    "plt.ylabel('retention rate')\n",
    "plt.ylim(4,14)\n",
    "colors = {'Aban':'blue', 'Azar':'orange','Dey':'green','Bahman':'red', 'Esfand':'purple','Farvardin':'brown',\n",
    "          'Ordibehesht':'pink', 'Khordad':'gray','Tir':'Olive','Mordad':'deepskyblue'}         \n",
    "labels = list(colors.keys())\n",
    "handles = [plt.Rectangle((0,0),1,1, color=colors[label]) for label in labels]\n",
    "plt.legend(handles, labels)\n",
    "print('Aban:', or_aban)\n",
    "print('Azar:' ,or_azar)\n",
    "print('Dey:' ,or_dey)\n",
    "print('Bahman:', or_bahm)\n",
    "print('Esfand:' ,or_esfand)\n",
    "print('Farvardin:', or_farvardin)\n",
    "print('Ordibehesht:' ,or_ordibehesht)\n",
    "print('Khordad:' ,or_khordad)\n",
    "print('Tir:' ,or_tir)\n",
    "print('Mordad:', or_mordad)\n"
   ]
  },
  {
   "cell_type": "markdown",
   "metadata": {},
   "source": [
    "# AOV"
   ]
  },
  {
   "cell_type": "markdown",
   "metadata": {},
   "source": [
    "# آبان"
   ]
  },
  {
   "cell_type": "markdown",
   "metadata": {},
   "source": [
    "# pre"
   ]
  },
  {
   "cell_type": "code",
   "execution_count": 149,
   "metadata": {},
   "outputs": [
    {
     "data": {
      "text/plain": [
       "array(['09111944501', '09113384212', '09135603236', '09144628935'],\n",
       "      dtype=object)"
      ]
     },
     "execution_count": 149,
     "metadata": {},
     "output_type": "execute_result"
    }
   ],
   "source": [
    "np.intersect1d(m,a)# elements in a and m"
   ]
  },
  {
   "cell_type": "code",
   "execution_count": 150,
   "metadata": {},
   "outputs": [],
   "source": [
    "A_pre=dataout[dataout['Phone'].isin(['09111944501', '09113384212', '09135603236', '09144628935'])]"
   ]
  },
  {
   "cell_type": "code",
   "execution_count": 151,
   "metadata": {},
   "outputs": [],
   "source": [
    "a_pre=A_pre['Price'].mean()"
   ]
  },
  {
   "cell_type": "code",
   "execution_count": 152,
   "metadata": {},
   "outputs": [
    {
     "data": {
      "text/plain": [
       "202124.2"
      ]
     },
     "execution_count": 152,
     "metadata": {},
     "output_type": "execute_result"
    }
   ],
   "source": [
    "a_pre"
   ]
  },
  {
   "cell_type": "markdown",
   "metadata": {},
   "source": [
    "# new"
   ]
  },
  {
   "cell_type": "code",
   "execution_count": 153,
   "metadata": {},
   "outputs": [
    {
     "data": {
      "text/plain": [
       "array([], dtype=object)"
      ]
     },
     "execution_count": 153,
     "metadata": {},
     "output_type": "execute_result"
    }
   ],
   "source": [
    "np.setdiff1d(a, ma)# elements in a that are not in ma"
   ]
  },
  {
   "cell_type": "code",
   "execution_count": 154,
   "metadata": {},
   "outputs": [],
   "source": [
    "A_new=dataout[dataout['Phone'].isin(['09017567422', '09031039300', '09109778345', '09111176962',\n",
    "       '09119730206', '09120285469', '09120548490', '09121360384',\n",
    "       '09122027947', '09122851368', '09124270602', '09124368857',\n",
    "       '09124408053', '09126066578', '09127356323', '09127526652',\n",
    "       '09131655342', '09131655582', '09134955392', '09139722591',\n",
    "       '09143639304', '09144441796', '09151075667', '09163052181',\n",
    "       '09163339019', '09170747297', '09171535937', '09171832253',\n",
    "       '09181501705', '09194283099', '09224853306', '09332221072',\n",
    "       '09351349704', '09352000821', '09352270350', '09353340013',\n",
    "       '09362247819', '09363438399', '09365168193', '09368061454',\n",
    "       '09380090246', '09391058260', '09392157549', '09392707599',\n",
    "       '09903193488', '8'])]"
   ]
  },
  {
   "cell_type": "code",
   "execution_count": 155,
   "metadata": {},
   "outputs": [],
   "source": [
    "a_new=A_new['Price'].mean()"
   ]
  },
  {
   "cell_type": "code",
   "execution_count": 156,
   "metadata": {},
   "outputs": [
    {
     "data": {
      "text/plain": [
       "239278.06329113923"
      ]
     },
     "execution_count": 156,
     "metadata": {},
     "output_type": "execute_result"
    }
   ],
   "source": [
    "a_new"
   ]
  },
  {
   "cell_type": "markdown",
   "metadata": {},
   "source": [
    "# آذر"
   ]
  },
  {
   "cell_type": "markdown",
   "metadata": {},
   "source": [
    "# pre"
   ]
  },
  {
   "cell_type": "code",
   "execution_count": 157,
   "metadata": {},
   "outputs": [],
   "source": [
    "Z_pre=dataout[dataout['Phone'].isin(np.intersect1d(z,ma))]"
   ]
  },
  {
   "cell_type": "code",
   "execution_count": 158,
   "metadata": {},
   "outputs": [],
   "source": [
    "z_pre=Z_pre['Price'].mean()"
   ]
  },
  {
   "cell_type": "code",
   "execution_count": 159,
   "metadata": {},
   "outputs": [
    {
     "data": {
      "text/plain": [
       "266658.93548387097"
      ]
     },
     "execution_count": 159,
     "metadata": {},
     "output_type": "execute_result"
    }
   ],
   "source": [
    "z_pre"
   ]
  },
  {
   "cell_type": "markdown",
   "metadata": {},
   "source": [
    "# new"
   ]
  },
  {
   "cell_type": "code",
   "execution_count": 160,
   "metadata": {},
   "outputs": [],
   "source": [
    "Z_new=dataout[dataout['Phone'].isin(np.setdiff1d(z, np.intersect1d(z,ma)))]"
   ]
  },
  {
   "cell_type": "code",
   "execution_count": 161,
   "metadata": {},
   "outputs": [],
   "source": [
    "z_new=Z_new['Price'].mean()"
   ]
  },
  {
   "cell_type": "code",
   "execution_count": 162,
   "metadata": {},
   "outputs": [
    {
     "data": {
      "text/plain": [
       "266813.39114391146"
      ]
     },
     "execution_count": 162,
     "metadata": {},
     "output_type": "execute_result"
    }
   ],
   "source": [
    "z_new"
   ]
  },
  {
   "cell_type": "markdown",
   "metadata": {},
   "source": [
    "# دی"
   ]
  },
  {
   "cell_type": "markdown",
   "metadata": {},
   "source": [
    "# pre"
   ]
  },
  {
   "cell_type": "code",
   "execution_count": 163,
   "metadata": {},
   "outputs": [],
   "source": [
    "D_pre=dataout[dataout['Phone'].isin(np.intersect1d(d,maz))]"
   ]
  },
  {
   "cell_type": "code",
   "execution_count": 164,
   "metadata": {},
   "outputs": [],
   "source": [
    "d_pre=D_pre['Price'].mean()"
   ]
  },
  {
   "cell_type": "code",
   "execution_count": 165,
   "metadata": {},
   "outputs": [
    {
     "data": {
      "text/plain": [
       "253960.14285714287"
      ]
     },
     "execution_count": 165,
     "metadata": {},
     "output_type": "execute_result"
    }
   ],
   "source": [
    "d_pre"
   ]
  },
  {
   "cell_type": "markdown",
   "metadata": {},
   "source": [
    "# new"
   ]
  },
  {
   "cell_type": "code",
   "execution_count": 166,
   "metadata": {},
   "outputs": [],
   "source": [
    "D_new=dataout[dataout['Phone'].isin(np.setdiff1d(d, np.intersect1d(d,maz)))]"
   ]
  },
  {
   "cell_type": "code",
   "execution_count": 167,
   "metadata": {},
   "outputs": [],
   "source": [
    "d_new=D_new['Price'].mean()"
   ]
  },
  {
   "cell_type": "code",
   "execution_count": 168,
   "metadata": {},
   "outputs": [
    {
     "data": {
      "text/plain": [
       "229230.4732142857"
      ]
     },
     "execution_count": 168,
     "metadata": {},
     "output_type": "execute_result"
    }
   ],
   "source": [
    "d_new"
   ]
  },
  {
   "cell_type": "markdown",
   "metadata": {},
   "source": [
    "# بهمن"
   ]
  },
  {
   "cell_type": "markdown",
   "metadata": {},
   "source": [
    "# pre"
   ]
  },
  {
   "cell_type": "code",
   "execution_count": 169,
   "metadata": {},
   "outputs": [],
   "source": [
    "B_pre=dataout[dataout['Phone'].isin(np.intersect1d(b,mazd))]"
   ]
  },
  {
   "cell_type": "code",
   "execution_count": 170,
   "metadata": {},
   "outputs": [],
   "source": [
    "b_pre=B_pre['Price'].mean()"
   ]
  },
  {
   "cell_type": "code",
   "execution_count": 171,
   "metadata": {},
   "outputs": [
    {
     "data": {
      "text/plain": [
       "260947.28260869565"
      ]
     },
     "execution_count": 171,
     "metadata": {},
     "output_type": "execute_result"
    }
   ],
   "source": [
    "b_pre"
   ]
  },
  {
   "cell_type": "markdown",
   "metadata": {},
   "source": [
    "# new"
   ]
  },
  {
   "cell_type": "code",
   "execution_count": 172,
   "metadata": {},
   "outputs": [],
   "source": [
    "B_new=dataout[dataout['Phone'].isin(np.setdiff1d(b, np.intersect1d(b,mazd)))]"
   ]
  },
  {
   "cell_type": "code",
   "execution_count": 173,
   "metadata": {},
   "outputs": [],
   "source": [
    "b_new=B_new['Price'].mean()"
   ]
  },
  {
   "cell_type": "code",
   "execution_count": 174,
   "metadata": {},
   "outputs": [
    {
     "data": {
      "text/plain": [
       "222738.95192307694"
      ]
     },
     "execution_count": 174,
     "metadata": {},
     "output_type": "execute_result"
    }
   ],
   "source": [
    "b_new"
   ]
  },
  {
   "cell_type": "markdown",
   "metadata": {},
   "source": [
    "# اسفند"
   ]
  },
  {
   "cell_type": "markdown",
   "metadata": {},
   "source": [
    "# pre"
   ]
  },
  {
   "cell_type": "code",
   "execution_count": 175,
   "metadata": {},
   "outputs": [],
   "source": [
    "E_pre=dataout[dataout['Phone'].isin(np.intersect1d(e,mazdb))]"
   ]
  },
  {
   "cell_type": "code",
   "execution_count": 176,
   "metadata": {},
   "outputs": [],
   "source": [
    "e_pre=E_pre['Price'].mean()"
   ]
  },
  {
   "cell_type": "code",
   "execution_count": 177,
   "metadata": {},
   "outputs": [
    {
     "data": {
      "text/plain": [
       "299331.2747252747"
      ]
     },
     "execution_count": 177,
     "metadata": {},
     "output_type": "execute_result"
    }
   ],
   "source": [
    "e_pre"
   ]
  },
  {
   "cell_type": "markdown",
   "metadata": {},
   "source": [
    "# new"
   ]
  },
  {
   "cell_type": "code",
   "execution_count": 178,
   "metadata": {},
   "outputs": [],
   "source": [
    "E_new=dataout[dataout['Phone'].isin(np.setdiff1d(e, np.intersect1d(e,mazdb)))]"
   ]
  },
  {
   "cell_type": "code",
   "execution_count": 179,
   "metadata": {},
   "outputs": [],
   "source": [
    "e_new=E_new['Price'].mean()"
   ]
  },
  {
   "cell_type": "code",
   "execution_count": 180,
   "metadata": {},
   "outputs": [
    {
     "data": {
      "text/plain": [
       "291777.58914728684"
      ]
     },
     "execution_count": 180,
     "metadata": {},
     "output_type": "execute_result"
    }
   ],
   "source": [
    "e_new"
   ]
  },
  {
   "cell_type": "markdown",
   "metadata": {},
   "source": [
    "# فروردین"
   ]
  },
  {
   "cell_type": "markdown",
   "metadata": {},
   "source": [
    "# pre"
   ]
  },
  {
   "cell_type": "code",
   "execution_count": 181,
   "metadata": {},
   "outputs": [],
   "source": [
    "F_pre=dataout[dataout['Phone'].isin(np.intersect1d(f,mazdbe))]"
   ]
  },
  {
   "cell_type": "code",
   "execution_count": 182,
   "metadata": {},
   "outputs": [],
   "source": [
    "f_pre=F_pre['Price'].mean()"
   ]
  },
  {
   "cell_type": "code",
   "execution_count": 183,
   "metadata": {},
   "outputs": [
    {
     "data": {
      "text/plain": [
       "279351.0833333333"
      ]
     },
     "execution_count": 183,
     "metadata": {},
     "output_type": "execute_result"
    }
   ],
   "source": [
    "f_pre"
   ]
  },
  {
   "cell_type": "markdown",
   "metadata": {},
   "source": [
    "# new"
   ]
  },
  {
   "cell_type": "code",
   "execution_count": 184,
   "metadata": {},
   "outputs": [],
   "source": [
    "F_new=dataout[dataout['Phone'].isin(np.setdiff1d(f, np.intersect1d(f,mazdbe)))]"
   ]
  },
  {
   "cell_type": "code",
   "execution_count": 185,
   "metadata": {},
   "outputs": [],
   "source": [
    "f_new=F_new['Price'].mean()"
   ]
  },
  {
   "cell_type": "code",
   "execution_count": 186,
   "metadata": {},
   "outputs": [
    {
     "data": {
      "text/plain": [
       "250643.30357142858"
      ]
     },
     "execution_count": 186,
     "metadata": {},
     "output_type": "execute_result"
    }
   ],
   "source": [
    "f_new"
   ]
  },
  {
   "cell_type": "markdown",
   "metadata": {},
   "source": [
    "# اردیبهشت"
   ]
  },
  {
   "cell_type": "markdown",
   "metadata": {},
   "source": [
    "# Pre"
   ]
  },
  {
   "cell_type": "code",
   "execution_count": 187,
   "metadata": {},
   "outputs": [],
   "source": [
    "O_pre=dataout[dataout['Phone'].isin(np.intersect1d(o,mazdbef))]"
   ]
  },
  {
   "cell_type": "code",
   "execution_count": 188,
   "metadata": {},
   "outputs": [],
   "source": [
    "o_pre=O_pre['Price'].mean()"
   ]
  },
  {
   "cell_type": "code",
   "execution_count": 189,
   "metadata": {},
   "outputs": [
    {
     "data": {
      "text/plain": [
       "285681.8456375839"
      ]
     },
     "execution_count": 189,
     "metadata": {},
     "output_type": "execute_result"
    }
   ],
   "source": [
    "o_pre"
   ]
  },
  {
   "cell_type": "markdown",
   "metadata": {},
   "source": [
    "# new"
   ]
  },
  {
   "cell_type": "code",
   "execution_count": 190,
   "metadata": {},
   "outputs": [],
   "source": [
    "O_new=dataout[dataout['Phone'].isin(np.setdiff1d(o, np.intersect1d(o,mazdbef)))]"
   ]
  },
  {
   "cell_type": "code",
   "execution_count": 191,
   "metadata": {},
   "outputs": [],
   "source": [
    "o_new=O_new['Price'].mean()"
   ]
  },
  {
   "cell_type": "code",
   "execution_count": 192,
   "metadata": {},
   "outputs": [
    {
     "data": {
      "text/plain": [
       "269870.6818181818"
      ]
     },
     "execution_count": 192,
     "metadata": {},
     "output_type": "execute_result"
    }
   ],
   "source": [
    "o_new"
   ]
  },
  {
   "cell_type": "markdown",
   "metadata": {},
   "source": [
    "# خرداد"
   ]
  },
  {
   "cell_type": "markdown",
   "metadata": {},
   "source": [
    "# pre"
   ]
  },
  {
   "cell_type": "code",
   "execution_count": 193,
   "metadata": {},
   "outputs": [],
   "source": [
    "K_pre=dataout[dataout['Phone'].isin(np.intersect1d(k,mazdbefo))]"
   ]
  },
  {
   "cell_type": "code",
   "execution_count": 194,
   "metadata": {},
   "outputs": [],
   "source": [
    "k_pre=K_pre['Price'].mean()"
   ]
  },
  {
   "cell_type": "code",
   "execution_count": 195,
   "metadata": {},
   "outputs": [
    {
     "data": {
      "text/plain": [
       "255936.30714285714"
      ]
     },
     "execution_count": 195,
     "metadata": {},
     "output_type": "execute_result"
    }
   ],
   "source": [
    "k_pre"
   ]
  },
  {
   "cell_type": "markdown",
   "metadata": {},
   "source": [
    "# new"
   ]
  },
  {
   "cell_type": "code",
   "execution_count": 196,
   "metadata": {},
   "outputs": [],
   "source": [
    "K_new=dataout[dataout['Phone'].isin(np.setdiff1d(k, np.intersect1d(k,mazdbefo)))]"
   ]
  },
  {
   "cell_type": "code",
   "execution_count": 197,
   "metadata": {},
   "outputs": [],
   "source": [
    "k_new=K_new['Price'].mean()"
   ]
  },
  {
   "cell_type": "code",
   "execution_count": 198,
   "metadata": {},
   "outputs": [
    {
     "data": {
      "text/plain": [
       "231317.2972972973"
      ]
     },
     "execution_count": 198,
     "metadata": {},
     "output_type": "execute_result"
    }
   ],
   "source": [
    "k_new"
   ]
  },
  {
   "cell_type": "markdown",
   "metadata": {},
   "source": [
    "# تیر"
   ]
  },
  {
   "cell_type": "markdown",
   "metadata": {},
   "source": [
    "# pre"
   ]
  },
  {
   "cell_type": "code",
   "execution_count": 199,
   "metadata": {},
   "outputs": [],
   "source": [
    "T_pre=dataout[dataout['Phone'].isin(np.intersect1d(t,mazdbefok))]"
   ]
  },
  {
   "cell_type": "code",
   "execution_count": 200,
   "metadata": {},
   "outputs": [],
   "source": [
    "t_pre=T_pre['Price'].mean()"
   ]
  },
  {
   "cell_type": "code",
   "execution_count": 201,
   "metadata": {},
   "outputs": [
    {
     "data": {
      "text/plain": [
       "289654.76216216217"
      ]
     },
     "execution_count": 201,
     "metadata": {},
     "output_type": "execute_result"
    }
   ],
   "source": [
    "t_pre"
   ]
  },
  {
   "cell_type": "markdown",
   "metadata": {},
   "source": [
    "# new"
   ]
  },
  {
   "cell_type": "code",
   "execution_count": 202,
   "metadata": {},
   "outputs": [],
   "source": [
    "T_new=dataout[dataout['Phone'].isin(np.setdiff1d(t, np.intersect1d(t,mazdbefok)))]"
   ]
  },
  {
   "cell_type": "code",
   "execution_count": 203,
   "metadata": {},
   "outputs": [],
   "source": [
    "t_new=T_new['Price'].mean()"
   ]
  },
  {
   "cell_type": "code",
   "execution_count": 204,
   "metadata": {},
   "outputs": [
    {
     "data": {
      "text/plain": [
       "254428.09523809524"
      ]
     },
     "execution_count": 204,
     "metadata": {},
     "output_type": "execute_result"
    }
   ],
   "source": [
    "t_new"
   ]
  },
  {
   "cell_type": "markdown",
   "metadata": {},
   "source": [
    "# مرداد"
   ]
  },
  {
   "cell_type": "markdown",
   "metadata": {},
   "source": [
    "# pre"
   ]
  },
  {
   "cell_type": "code",
   "execution_count": 205,
   "metadata": {},
   "outputs": [],
   "source": [
    "Mr_pre=dataout[dataout['Phone'].isin(np.intersect1d(mr,mazdbefokt))]"
   ]
  },
  {
   "cell_type": "code",
   "execution_count": 206,
   "metadata": {},
   "outputs": [],
   "source": [
    "mr_pre=Mr_pre['Price'].mean()"
   ]
  },
  {
   "cell_type": "code",
   "execution_count": 207,
   "metadata": {},
   "outputs": [
    {
     "data": {
      "text/plain": [
       "298711.7267080745"
      ]
     },
     "execution_count": 207,
     "metadata": {},
     "output_type": "execute_result"
    }
   ],
   "source": [
    "mr_pre"
   ]
  },
  {
   "cell_type": "markdown",
   "metadata": {},
   "source": [
    "# new"
   ]
  },
  {
   "cell_type": "code",
   "execution_count": 208,
   "metadata": {},
   "outputs": [],
   "source": [
    "Mr_new=dataout[dataout['Phone'].isin(np.setdiff1d(mr, np.intersect1d(mr,mazdbefokt)))]"
   ]
  },
  {
   "cell_type": "code",
   "execution_count": 209,
   "metadata": {},
   "outputs": [],
   "source": [
    "mr_new=Mr_new['Price'].mean()"
   ]
  },
  {
   "cell_type": "code",
   "execution_count": 210,
   "metadata": {},
   "outputs": [
    {
     "data": {
      "text/plain": [
       "239583.88235294117"
      ]
     },
     "execution_count": 210,
     "metadata": {},
     "output_type": "execute_result"
    }
   ],
   "source": [
    "mr_new"
   ]
  },
  {
   "cell_type": "code",
   "execution_count": 215,
   "metadata": {},
   "outputs": [],
   "source": [
    "ds = {'ret' : pd.Series([a_pre, z_pre, d_pre,b_pre,e_pre,f_pre,o_pre,k_pre,t_pre,mr_pre], index=['Aban', 'Azar', 'Dey','Bahman','Esfand','Farvardin','Ordibehsth','Khordad','Tir','Mordad']),\n",
    "     'new' : pd.Series([a_new, z_new, d_new,b_new,e_new,f_new,o_new,k_new,t_new,mr_new], index=['Aban', 'Azar', 'Dey','Bahman','Esfand','Farvardin','Ordibehsth','Khordad','Tir','Mordad'])}"
   ]
  },
  {
   "cell_type": "code",
   "execution_count": 216,
   "metadata": {},
   "outputs": [],
   "source": [
    "df2 = pd.DataFrame(ds)"
   ]
  },
  {
   "cell_type": "code",
   "execution_count": 217,
   "metadata": {},
   "outputs": [
    {
     "data": {
      "text/html": [
       "<div>\n",
       "<style scoped>\n",
       "    .dataframe tbody tr th:only-of-type {\n",
       "        vertical-align: middle;\n",
       "    }\n",
       "\n",
       "    .dataframe tbody tr th {\n",
       "        vertical-align: top;\n",
       "    }\n",
       "\n",
       "    .dataframe thead th {\n",
       "        text-align: right;\n",
       "    }\n",
       "</style>\n",
       "<table border=\"1\" class=\"dataframe\">\n",
       "  <thead>\n",
       "    <tr style=\"text-align: right;\">\n",
       "      <th></th>\n",
       "      <th>ret</th>\n",
       "      <th>new</th>\n",
       "    </tr>\n",
       "  </thead>\n",
       "  <tbody>\n",
       "    <tr>\n",
       "      <th>Aban</th>\n",
       "      <td>202124.200000</td>\n",
       "      <td>239278.063291</td>\n",
       "    </tr>\n",
       "    <tr>\n",
       "      <th>Azar</th>\n",
       "      <td>266658.935484</td>\n",
       "      <td>266813.391144</td>\n",
       "    </tr>\n",
       "    <tr>\n",
       "      <th>Dey</th>\n",
       "      <td>253960.142857</td>\n",
       "      <td>229230.473214</td>\n",
       "    </tr>\n",
       "    <tr>\n",
       "      <th>Bahman</th>\n",
       "      <td>260947.282609</td>\n",
       "      <td>222738.951923</td>\n",
       "    </tr>\n",
       "    <tr>\n",
       "      <th>Esfand</th>\n",
       "      <td>299331.274725</td>\n",
       "      <td>291777.589147</td>\n",
       "    </tr>\n",
       "    <tr>\n",
       "      <th>Farvardin</th>\n",
       "      <td>279351.083333</td>\n",
       "      <td>250643.303571</td>\n",
       "    </tr>\n",
       "    <tr>\n",
       "      <th>Ordibehsth</th>\n",
       "      <td>285681.845638</td>\n",
       "      <td>269870.681818</td>\n",
       "    </tr>\n",
       "    <tr>\n",
       "      <th>Khordad</th>\n",
       "      <td>255936.307143</td>\n",
       "      <td>231317.297297</td>\n",
       "    </tr>\n",
       "    <tr>\n",
       "      <th>Tir</th>\n",
       "      <td>289654.762162</td>\n",
       "      <td>254428.095238</td>\n",
       "    </tr>\n",
       "    <tr>\n",
       "      <th>Mordad</th>\n",
       "      <td>298711.726708</td>\n",
       "      <td>239583.882353</td>\n",
       "    </tr>\n",
       "  </tbody>\n",
       "</table>\n",
       "</div>"
      ],
      "text/plain": [
       "                      ret            new\n",
       "Aban        202124.200000  239278.063291\n",
       "Azar        266658.935484  266813.391144\n",
       "Dey         253960.142857  229230.473214\n",
       "Bahman      260947.282609  222738.951923\n",
       "Esfand      299331.274725  291777.589147\n",
       "Farvardin   279351.083333  250643.303571\n",
       "Ordibehsth  285681.845638  269870.681818\n",
       "Khordad     255936.307143  231317.297297\n",
       "Tir         289654.762162  254428.095238\n",
       "Mordad      298711.726708  239583.882353"
      ]
     },
     "execution_count": 217,
     "metadata": {},
     "output_type": "execute_result"
    }
   ],
   "source": [
    "df2"
   ]
  },
  {
   "cell_type": "code",
   "execution_count": 260,
   "metadata": {},
   "outputs": [
    {
     "name": "stdout",
     "output_type": "stream",
     "text": [
      "Aban_pre: 202124.2\n",
      "Aban_new: 239278.06329113923\n",
      "\n",
      "Azar_pre: 266658.93548387097\n",
      "Azar_new: 266813.39114391146\n",
      "\n",
      "Dey_pre: 253960.14285714287\n",
      "Dey_new: 229230.4732142857\n",
      "\n",
      "Bahman_pre: 260947.28260869565\n",
      "Bahman_new: 222738.95192307694\n",
      "\n",
      "Esfand_pre: 299331.2747252747\n",
      "Esfand_new: 291777.58914728684\n",
      "\n",
      "Farvardin_pre: 279351.0833333333\n",
      "Farvardin_new: 250643.30357142858\n",
      "\n",
      "Ordibehesth_pre: 285681.8456375839\n",
      "Ordibehesth_new: 269870.6818181818\n",
      "\n",
      "Khordad_pre: 255936.30714285714\n",
      "Khordad_new: 231317.2972972973\n",
      "\n",
      "Tir_pre: 289654.76216216217\n",
      "Tir_new: 254428.09523809524\n",
      "\n",
      "Mordad_pre: 289654.76216216217\n",
      "Mordad_new: 254428.09523809524\n"
     ]
    },
    {
     "data": {
      "image/png": "[encoded data removed]",
      "text/plain": [
       "<Figure size 640x480 with 1 Axes>"
      ]
     },
     "metadata": {},
     "output_type": "display_data"
    },
    {
     "data": {
      "text/plain": [
       "<Figure size 1000x2000 with 0 Axes>"
      ]
     },
     "metadata": {},
     "output_type": "display_data"
    }
   ],
   "source": [
    "#color_dict={'red':'aban', 'blue': 'azar','green':'dey','gray':'bahman'}\n",
    "#df1['aban'].plot.bar(color = color_dict)\n",
    "df2.plot(kind='bar')\n",
    "ax = plt.gca()\n",
    "ax.tick_params(axis='x', colors='green')\n",
    "ax.tick_params(axis='y', colors='red')\n",
    "plt.ylim(180000,310000)\n",
    "plt.xlabel(' month ')\n",
    "plt.ylabel('Price')\n",
    "plt.figure(figsize=(10,20))\n",
    "print('Aban_pre:', a_pre)\n",
    "print('Aban_new:' ,a_new)\n",
    "print()\n",
    "print('Azar_pre:' ,z_pre)\n",
    "print('Azar_new:', z_new)\n",
    "print()\n",
    "print('Dey_pre:' ,d_pre)\n",
    "print('Dey_new:', d_new)\n",
    "print()\n",
    "print('Bahman_pre:' ,b_pre)\n",
    "print('Bahman_new:' ,b_new)\n",
    "print()\n",
    "print('Esfand_pre:' ,e_pre)\n",
    "print('Esfand_new:' ,e_new)\n",
    "print()\n",
    "print('Farvardin_pre:', f_pre)\n",
    "print('Farvardin_new:' ,f_new)\n",
    "print()\n",
    "print('Ordibehesth_pre:', o_pre)\n",
    "print('Ordibehesth_new:' ,o_new)\n",
    "print()\n",
    "print('Khordad_pre:' ,k_pre)\n",
    "print('Khordad_new:' ,k_new)\n",
    "print()\n",
    "print('Tir_pre:' ,t_pre)\n",
    "print('Tir_new:' ,t_new)\n",
    "print()\n",
    "print('Mordad_pre:' ,t_pre)\n",
    "print('Mordad_new:' ,t_new)"
   ]
  },
  {
   "cell_type": "code",
   "execution_count": null,
   "metadata": {},
   "outputs": [],
   "source": [
    "plt.style.use('stylename')\n",
    "304\n",
    "plt.style.use('seaborn-whitegrid')\n",
    "plt.style.use('fivethirtyeight')\n",
    "plt.style.use( 'ggplot')\n",
    "plt.style.use('seaborn-pastel')\n",
    "plt.style.use( 'grayscale')"
   ]
  },
  {
   "cell_type": "code",
   "execution_count": 14,
   "metadata": {},
   "outputs": [],
   "source": [
    "margin=pd.read_excel('C:\\\\Users\\\\Hadi\\\\profit.xlsx')"
   ]
  },
  {
   "cell_type": "code",
   "execution_count": 15,
   "metadata": {},
   "outputs": [
    {
     "data": {
      "text/html": [
       "<div>\n",
       "<style scoped>\n",
       "    .dataframe tbody tr th:only-of-type {\n",
       "        vertical-align: middle;\n",
       "    }\n",
       "\n",
       "    .dataframe tbody tr th {\n",
       "        vertical-align: top;\n",
       "    }\n",
       "\n",
       "    .dataframe thead th {\n",
       "        text-align: right;\n",
       "    }\n",
       "</style>\n",
       "<table border=\"1\" class=\"dataframe\">\n",
       "  <thead>\n",
       "    <tr style=\"text-align: right;\">\n",
       "      <th></th>\n",
       "      <th>product_Id</th>\n",
       "      <th>category</th>\n",
       "      <th>type</th>\n",
       "      <th>sale99</th>\n",
       "      <th>quality</th>\n",
       "      <th>purches</th>\n",
       "      <th>profit persent</th>\n",
       "      <th>sale98</th>\n",
       "    </tr>\n",
       "  </thead>\n",
       "  <tbody>\n",
       "    <tr>\n",
       "      <th>0</th>\n",
       "      <td>1</td>\n",
       "      <td>میوه خشک</td>\n",
       "      <td>آلبالو خشک</td>\n",
       "      <td>32000</td>\n",
       "      <td>اعلی</td>\n",
       "      <td>21000.0</td>\n",
       "      <td>52.380952</td>\n",
       "      <td>28000.0</td>\n",
       "    </tr>\n",
       "    <tr>\n",
       "      <th>1</th>\n",
       "      <td>2</td>\n",
       "      <td>میوه خشک</td>\n",
       "      <td>انبه</td>\n",
       "      <td>389000</td>\n",
       "      <td>اعلی</td>\n",
       "      <td>320000.0</td>\n",
       "      <td>21.562500</td>\n",
       "      <td>319000.0</td>\n",
       "    </tr>\n",
       "    <tr>\n",
       "      <th>2</th>\n",
       "      <td>3</td>\n",
       "      <td>میوه خشک</td>\n",
       "      <td>توت فرنگی اسلایسی</td>\n",
       "      <td>308000</td>\n",
       "      <td>اعلی</td>\n",
       "      <td>220000.0</td>\n",
       "      <td>40.000000</td>\n",
       "      <td>217750.0</td>\n",
       "    </tr>\n",
       "    <tr>\n",
       "      <th>3</th>\n",
       "      <td>4</td>\n",
       "      <td>میوه خشک</td>\n",
       "      <td>موز</td>\n",
       "      <td>189000</td>\n",
       "      <td>اعلی</td>\n",
       "      <td>135000.0</td>\n",
       "      <td>40.000000</td>\n",
       "      <td>127000.0</td>\n",
       "    </tr>\n",
       "    <tr>\n",
       "      <th>4</th>\n",
       "      <td>5</td>\n",
       "      <td>میوه خشک</td>\n",
       "      <td>نارگیل</td>\n",
       "      <td>182000</td>\n",
       "      <td>اعلی</td>\n",
       "      <td>130000.0</td>\n",
       "      <td>40.000000</td>\n",
       "      <td>142500.0</td>\n",
       "    </tr>\n",
       "  </tbody>\n",
       "</table>\n",
       "</div>"
      ],
      "text/plain": [
       "   product_Id  category               type  sale99 quality   purches  \\\n",
       "0           1  میوه خشک         آلبالو خشک   32000    اعلی   21000.0   \n",
       "1           2  میوه خشک               انبه  389000    اعلی  320000.0   \n",
       "2           3  میوه خشک  توت فرنگی اسلایسی  308000    اعلی  220000.0   \n",
       "3           4  میوه خشک                موز  189000    اعلی  135000.0   \n",
       "4           5  میوه خشک             نارگیل  182000    اعلی  130000.0   \n",
       "\n",
       "   profit persent    sale98  \n",
       "0       52.380952   28000.0  \n",
       "1       21.562500  319000.0  \n",
       "2       40.000000  217750.0  \n",
       "3       40.000000  127000.0  \n",
       "4       40.000000  142500.0  "
      ]
     },
     "execution_count": 15,
     "metadata": {},
     "output_type": "execute_result"
    }
   ],
   "source": [
    "margin.head()"
   ]
  },
  {
   "cell_type": "code",
   "execution_count": 16,
   "metadata": {},
   "outputs": [],
   "source": [
    "margin['subscribe'] = margin[\"sale99\"]-margin[\"sale98\"]"
   ]
  },
  {
   "cell_type": "code",
   "execution_count": 17,
   "metadata": {},
   "outputs": [
    {
     "data": {
      "text/html": [
       "<div>\n",
       "<style scoped>\n",
       "    .dataframe tbody tr th:only-of-type {\n",
       "        vertical-align: middle;\n",
       "    }\n",
       "\n",
       "    .dataframe tbody tr th {\n",
       "        vertical-align: top;\n",
       "    }\n",
       "\n",
       "    .dataframe thead th {\n",
       "        text-align: right;\n",
       "    }\n",
       "</style>\n",
       "<table border=\"1\" class=\"dataframe\">\n",
       "  <thead>\n",
       "    <tr style=\"text-align: right;\">\n",
       "      <th></th>\n",
       "      <th>product_Id</th>\n",
       "      <th>category</th>\n",
       "      <th>type</th>\n",
       "      <th>sale99</th>\n",
       "      <th>quality</th>\n",
       "      <th>purches</th>\n",
       "      <th>profit persent</th>\n",
       "      <th>sale98</th>\n",
       "      <th>subscribe</th>\n",
       "    </tr>\n",
       "  </thead>\n",
       "  <tbody>\n",
       "    <tr>\n",
       "      <th>0</th>\n",
       "      <td>1</td>\n",
       "      <td>میوه خشک</td>\n",
       "      <td>آلبالو خشک</td>\n",
       "      <td>32000</td>\n",
       "      <td>اعلی</td>\n",
       "      <td>21000.0</td>\n",
       "      <td>52.380952</td>\n",
       "      <td>28000.0</td>\n",
       "      <td>4000.0</td>\n",
       "    </tr>\n",
       "    <tr>\n",
       "      <th>1</th>\n",
       "      <td>2</td>\n",
       "      <td>میوه خشک</td>\n",
       "      <td>انبه</td>\n",
       "      <td>389000</td>\n",
       "      <td>اعلی</td>\n",
       "      <td>320000.0</td>\n",
       "      <td>21.562500</td>\n",
       "      <td>319000.0</td>\n",
       "      <td>70000.0</td>\n",
       "    </tr>\n",
       "    <tr>\n",
       "      <th>2</th>\n",
       "      <td>3</td>\n",
       "      <td>میوه خشک</td>\n",
       "      <td>توت فرنگی اسلایسی</td>\n",
       "      <td>308000</td>\n",
       "      <td>اعلی</td>\n",
       "      <td>220000.0</td>\n",
       "      <td>40.000000</td>\n",
       "      <td>217750.0</td>\n",
       "      <td>90250.0</td>\n",
       "    </tr>\n",
       "    <tr>\n",
       "      <th>3</th>\n",
       "      <td>4</td>\n",
       "      <td>میوه خشک</td>\n",
       "      <td>موز</td>\n",
       "      <td>189000</td>\n",
       "      <td>اعلی</td>\n",
       "      <td>135000.0</td>\n",
       "      <td>40.000000</td>\n",
       "      <td>127000.0</td>\n",
       "      <td>62000.0</td>\n",
       "    </tr>\n",
       "    <tr>\n",
       "      <th>4</th>\n",
       "      <td>5</td>\n",
       "      <td>میوه خشک</td>\n",
       "      <td>نارگیل</td>\n",
       "      <td>182000</td>\n",
       "      <td>اعلی</td>\n",
       "      <td>130000.0</td>\n",
       "      <td>40.000000</td>\n",
       "      <td>142500.0</td>\n",
       "      <td>39500.0</td>\n",
       "    </tr>\n",
       "  </tbody>\n",
       "</table>\n",
       "</div>"
      ],
      "text/plain": [
       "   product_Id  category               type  sale99 quality   purches  \\\n",
       "0           1  میوه خشک         آلبالو خشک   32000    اعلی   21000.0   \n",
       "1           2  میوه خشک               انبه  389000    اعلی  320000.0   \n",
       "2           3  میوه خشک  توت فرنگی اسلایسی  308000    اعلی  220000.0   \n",
       "3           4  میوه خشک                موز  189000    اعلی  135000.0   \n",
       "4           5  میوه خشک             نارگیل  182000    اعلی  130000.0   \n",
       "\n",
       "   profit persent    sale98  subscribe  \n",
       "0       52.380952   28000.0     4000.0  \n",
       "1       21.562500  319000.0    70000.0  \n",
       "2       40.000000  217750.0    90250.0  \n",
       "3       40.000000  127000.0    62000.0  \n",
       "4       40.000000  142500.0    39500.0  "
      ]
     },
     "execution_count": 17,
     "metadata": {},
     "output_type": "execute_result"
    }
   ],
   "source": [
    "margin.head()"
   ]
  },
  {
   "cell_type": "code",
   "execution_count": 18,
   "metadata": {},
   "outputs": [],
   "source": [
    "margin['dive'] = margin[\"subscribe\"] / margin[\"sale98\"]"
   ]
  },
  {
   "cell_type": "code",
   "execution_count": 19,
   "metadata": {},
   "outputs": [
    {
     "data": {
      "text/html": [
       "<div>\n",
       "<style scoped>\n",
       "    .dataframe tbody tr th:only-of-type {\n",
       "        vertical-align: middle;\n",
       "    }\n",
       "\n",
       "    .dataframe tbody tr th {\n",
       "        vertical-align: top;\n",
       "    }\n",
       "\n",
       "    .dataframe thead th {\n",
       "        text-align: right;\n",
       "    }\n",
       "</style>\n",
       "<table border=\"1\" class=\"dataframe\">\n",
       "  <thead>\n",
       "    <tr style=\"text-align: right;\">\n",
       "      <th></th>\n",
       "      <th>product_Id</th>\n",
       "      <th>category</th>\n",
       "      <th>type</th>\n",
       "      <th>sale99</th>\n",
       "      <th>quality</th>\n",
       "      <th>purches</th>\n",
       "      <th>profit persent</th>\n",
       "      <th>sale98</th>\n",
       "      <th>subscribe</th>\n",
       "      <th>dive</th>\n",
       "    </tr>\n",
       "  </thead>\n",
       "  <tbody>\n",
       "    <tr>\n",
       "      <th>0</th>\n",
       "      <td>1</td>\n",
       "      <td>میوه خشک</td>\n",
       "      <td>آلبالو خشک</td>\n",
       "      <td>32000</td>\n",
       "      <td>اعلی</td>\n",
       "      <td>21000.0</td>\n",
       "      <td>52.380952</td>\n",
       "      <td>28000.0</td>\n",
       "      <td>4000.0</td>\n",
       "      <td>0.142857</td>\n",
       "    </tr>\n",
       "    <tr>\n",
       "      <th>1</th>\n",
       "      <td>2</td>\n",
       "      <td>میوه خشک</td>\n",
       "      <td>انبه</td>\n",
       "      <td>389000</td>\n",
       "      <td>اعلی</td>\n",
       "      <td>320000.0</td>\n",
       "      <td>21.562500</td>\n",
       "      <td>319000.0</td>\n",
       "      <td>70000.0</td>\n",
       "      <td>0.219436</td>\n",
       "    </tr>\n",
       "    <tr>\n",
       "      <th>2</th>\n",
       "      <td>3</td>\n",
       "      <td>میوه خشک</td>\n",
       "      <td>توت فرنگی اسلایسی</td>\n",
       "      <td>308000</td>\n",
       "      <td>اعلی</td>\n",
       "      <td>220000.0</td>\n",
       "      <td>40.000000</td>\n",
       "      <td>217750.0</td>\n",
       "      <td>90250.0</td>\n",
       "      <td>0.414466</td>\n",
       "    </tr>\n",
       "    <tr>\n",
       "      <th>3</th>\n",
       "      <td>4</td>\n",
       "      <td>میوه خشک</td>\n",
       "      <td>موز</td>\n",
       "      <td>189000</td>\n",
       "      <td>اعلی</td>\n",
       "      <td>135000.0</td>\n",
       "      <td>40.000000</td>\n",
       "      <td>127000.0</td>\n",
       "      <td>62000.0</td>\n",
       "      <td>0.488189</td>\n",
       "    </tr>\n",
       "    <tr>\n",
       "      <th>4</th>\n",
       "      <td>5</td>\n",
       "      <td>میوه خشک</td>\n",
       "      <td>نارگیل</td>\n",
       "      <td>182000</td>\n",
       "      <td>اعلی</td>\n",
       "      <td>130000.0</td>\n",
       "      <td>40.000000</td>\n",
       "      <td>142500.0</td>\n",
       "      <td>39500.0</td>\n",
       "      <td>0.277193</td>\n",
       "    </tr>\n",
       "  </tbody>\n",
       "</table>\n",
       "</div>"
      ],
      "text/plain": [
       "   product_Id  category               type  sale99 quality   purches  \\\n",
       "0           1  میوه خشک         آلبالو خشک   32000    اعلی   21000.0   \n",
       "1           2  میوه خشک               انبه  389000    اعلی  320000.0   \n",
       "2           3  میوه خشک  توت فرنگی اسلایسی  308000    اعلی  220000.0   \n",
       "3           4  میوه خشک                موز  189000    اعلی  135000.0   \n",
       "4           5  میوه خشک             نارگیل  182000    اعلی  130000.0   \n",
       "\n",
       "   profit persent    sale98  subscribe      dive  \n",
       "0       52.380952   28000.0     4000.0  0.142857  \n",
       "1       21.562500  319000.0    70000.0  0.219436  \n",
       "2       40.000000  217750.0    90250.0  0.414466  \n",
       "3       40.000000  127000.0    62000.0  0.488189  \n",
       "4       40.000000  142500.0    39500.0  0.277193  "
      ]
     },
     "execution_count": 19,
     "metadata": {},
     "output_type": "execute_result"
    }
   ],
   "source": [
    "margin.head()"
   ]
  },
  {
   "cell_type": "code",
   "execution_count": 24,
   "metadata": {},
   "outputs": [
    {
     "data": {
      "text/plain": [
       "(352, 10)"
      ]
     },
     "execution_count": 24,
     "metadata": {},
     "output_type": "execute_result"
    }
   ],
   "source": [
    "margin.shape"
   ]
  },
  {
   "cell_type": "code",
   "execution_count": 25,
   "metadata": {},
   "outputs": [],
   "source": [
    "sub_dive = margin['dive'].sum() "
   ]
  },
  {
   "cell_type": "code",
   "execution_count": 26,
   "metadata": {},
   "outputs": [
    {
     "data": {
      "text/plain": [
       "116.32488918276252"
      ]
     },
     "execution_count": 26,
     "metadata": {},
     "output_type": "execute_result"
    }
   ],
   "source": [
    "sub_dive"
   ]
  },
  {
   "cell_type": "code",
   "execution_count": 27,
   "metadata": {},
   "outputs": [],
   "source": [
    "mrg= sub_dive/352"
   ]
  },
  {
   "cell_type": "code",
   "execution_count": 28,
   "metadata": {},
   "outputs": [
    {
     "data": {
      "text/plain": [
       "0.3304684351783026"
      ]
     },
     "execution_count": 28,
     "metadata": {},
     "output_type": "execute_result"
    }
   ],
   "source": [
    "mrg"
   ]
  },
  {
   "cell_type": "code",
   "execution_count": 145,
   "metadata": {},
   "outputs": [],
   "source": [
    "crp= 1 + mrg"
   ]
  },
  {
   "cell_type": "code",
   "execution_count": 149,
   "metadata": {},
   "outputs": [],
   "source": [
    "test=pd.read_excel('C:\\\\Users\\\\Hadi\\\\profit.xlsx')"
   ]
  },
  {
   "cell_type": "code",
   "execution_count": 150,
   "metadata": {},
   "outputs": [
    {
     "data": {
      "text/html": [
       "<div>\n",
       "<style scoped>\n",
       "    .dataframe tbody tr th:only-of-type {\n",
       "        vertical-align: middle;\n",
       "    }\n",
       "\n",
       "    .dataframe tbody tr th {\n",
       "        vertical-align: top;\n",
       "    }\n",
       "\n",
       "    .dataframe thead th {\n",
       "        text-align: right;\n",
       "    }\n",
       "</style>\n",
       "<table border=\"1\" class=\"dataframe\">\n",
       "  <thead>\n",
       "    <tr style=\"text-align: right;\">\n",
       "      <th></th>\n",
       "      <th>product_Id</th>\n",
       "      <th>category</th>\n",
       "      <th>type</th>\n",
       "      <th>sale99</th>\n",
       "      <th>quality</th>\n",
       "      <th>purches</th>\n",
       "      <th>profit persent</th>\n",
       "      <th>sale98</th>\n",
       "      <th>price</th>\n",
       "    </tr>\n",
       "  </thead>\n",
       "  <tbody>\n",
       "    <tr>\n",
       "      <th>0</th>\n",
       "      <td>1</td>\n",
       "      <td>میوه خشک</td>\n",
       "      <td>آلبالو خشک</td>\n",
       "      <td>32000</td>\n",
       "      <td>اعلی</td>\n",
       "      <td>21000.0</td>\n",
       "      <td>52.380952</td>\n",
       "      <td>28000.0</td>\n",
       "      <td>206222.607453</td>\n",
       "    </tr>\n",
       "    <tr>\n",
       "      <th>1</th>\n",
       "      <td>2</td>\n",
       "      <td>میوه خشک</td>\n",
       "      <td>انبه</td>\n",
       "      <td>389000</td>\n",
       "      <td>اعلی</td>\n",
       "      <td>320000.0</td>\n",
       "      <td>21.562500</td>\n",
       "      <td>319000.0</td>\n",
       "      <td>99785.132638</td>\n",
       "    </tr>\n",
       "    <tr>\n",
       "      <th>2</th>\n",
       "      <td>3</td>\n",
       "      <td>میوه خشک</td>\n",
       "      <td>توت فرنگی اسلایسی</td>\n",
       "      <td>308000</td>\n",
       "      <td>اعلی</td>\n",
       "      <td>220000.0</td>\n",
       "      <td>40.000000</td>\n",
       "      <td>217750.0</td>\n",
       "      <td>237222.521992</td>\n",
       "    </tr>\n",
       "    <tr>\n",
       "      <th>3</th>\n",
       "      <td>4</td>\n",
       "      <td>میوه خشک</td>\n",
       "      <td>موز</td>\n",
       "      <td>189000</td>\n",
       "      <td>اعلی</td>\n",
       "      <td>135000.0</td>\n",
       "      <td>40.000000</td>\n",
       "      <td>127000.0</td>\n",
       "      <td>278600.090326</td>\n",
       "    </tr>\n",
       "    <tr>\n",
       "      <th>4</th>\n",
       "      <td>5</td>\n",
       "      <td>میوه خشک</td>\n",
       "      <td>نارگیل</td>\n",
       "      <td>182000</td>\n",
       "      <td>اعلی</td>\n",
       "      <td>130000.0</td>\n",
       "      <td>40.000000</td>\n",
       "      <td>142500.0</td>\n",
       "      <td>159124.024847</td>\n",
       "    </tr>\n",
       "  </tbody>\n",
       "</table>\n",
       "</div>"
      ],
      "text/plain": [
       "   product_Id  category               type  sale99 quality   purches  \\\n",
       "0           1  میوه خشک         آلبالو خشک   32000    اعلی   21000.0   \n",
       "1           2  میوه خشک               انبه  389000    اعلی  320000.0   \n",
       "2           3  میوه خشک  توت فرنگی اسلایسی  308000    اعلی  220000.0   \n",
       "3           4  میوه خشک                موز  189000    اعلی  135000.0   \n",
       "4           5  میوه خشک             نارگیل  182000    اعلی  130000.0   \n",
       "\n",
       "   profit persent    sale98          price  \n",
       "0       52.380952   28000.0  206222.607453  \n",
       "1       21.562500  319000.0   99785.132638  \n",
       "2       40.000000  217750.0  237222.521992  \n",
       "3       40.000000  127000.0  278600.090326  \n",
       "4       40.000000  142500.0  159124.024847  "
      ]
     },
     "execution_count": 150,
     "metadata": {},
     "output_type": "execute_result"
    }
   ],
   "source": [
    "test.head()"
   ]
  },
  {
   "cell_type": "code",
   "execution_count": null,
   "metadata": {},
   "outputs": [],
   "source": []
  }
 ],
 "metadata": {
  "kernelspec": {
   "display_name": "Python 3",
   "language": "python",
   "name": "python3"
  },
  "language_info": {
   "codemirror_mode": {
    "name": "ipython",
    "version": 3
   },
   "file_extension": ".py",
   "mimetype": "text/x-python",
   "name": "python",
   "nbconvert_exporter": "python",
   "pygments_lexer": "ipython3",
   "version": "3.7.1"
  }
 },
 "nbformat": 4,
 "nbformat_minor": 2
}
